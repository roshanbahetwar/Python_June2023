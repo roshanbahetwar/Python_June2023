{
 "cells": [
  {
   "cell_type": "code",
   "execution_count": 1,
   "id": "5e9f5340",
   "metadata": {},
   "outputs": [],
   "source": [
    "import numpy as np"
   ]
  },
  {
   "cell_type": "code",
   "execution_count": 3,
   "id": "89f14a57",
   "metadata": {},
   "outputs": [],
   "source": [
    "arr = np.array([[2,4,5],\n",
    "            [5,6,7]])"
   ]
  },
  {
   "cell_type": "code",
   "execution_count": 4,
   "id": "5260a060",
   "metadata": {},
   "outputs": [
    {
     "name": "stdout",
     "output_type": "stream",
     "text": [
      "Array is of type:  <class 'numpy.ndarray'>\n"
     ]
    }
   ],
   "source": [
    "print('Array is of type: ',type(arr))"
   ]
  },
  {
   "cell_type": "code",
   "execution_count": 5,
   "id": "e2d6c26d",
   "metadata": {},
   "outputs": [
    {
     "name": "stdout",
     "output_type": "stream",
     "text": [
      "No. of Dimensions: 2\n"
     ]
    }
   ],
   "source": [
    "print('No. of Dimensions:', arr.ndim)"
   ]
  },
  {
   "cell_type": "code",
   "execution_count": 6,
   "id": "b4077fb0",
   "metadata": {},
   "outputs": [
    {
     "name": "stdout",
     "output_type": "stream",
     "text": [
      "shape of array: (2, 3)\n"
     ]
    }
   ],
   "source": [
    "print('shape of array:',arr.shape)"
   ]
  },
  {
   "cell_type": "code",
   "execution_count": 7,
   "id": "dc0b9e9c",
   "metadata": {},
   "outputs": [
    {
     "data": {
      "text/plain": [
       "6"
      ]
     },
     "execution_count": 7,
     "metadata": {},
     "output_type": "execute_result"
    }
   ],
   "source": [
    "arr.size"
   ]
  },
  {
   "cell_type": "code",
   "execution_count": 8,
   "id": "c459f4fa",
   "metadata": {},
   "outputs": [
    {
     "data": {
      "text/plain": [
       "dtype('int32')"
      ]
     },
     "execution_count": 8,
     "metadata": {},
     "output_type": "execute_result"
    }
   ],
   "source": [
    "arr.dtype"
   ]
  },
  {
   "cell_type": "code",
   "execution_count": 13,
   "id": "7128a90c",
   "metadata": {},
   "outputs": [
    {
     "data": {
      "text/plain": [
       "array([ 0,  2,  4,  6,  8, 10, 12, 14, 16, 18, 20, 22, 24])"
      ]
     },
     "execution_count": 13,
     "metadata": {},
     "output_type": "execute_result"
    }
   ],
   "source": [
    "np.arange(0,25,2)"
   ]
  },
  {
   "cell_type": "code",
   "execution_count": 14,
   "id": "dc9d8308",
   "metadata": {},
   "outputs": [
    {
     "data": {
      "text/plain": [
       "array([ 0, 10, 20, 30, 40, 50, 60, 70, 80, 90])"
      ]
     },
     "execution_count": 14,
     "metadata": {},
     "output_type": "execute_result"
    }
   ],
   "source": [
    "np.arange(0,100,10)"
   ]
  },
  {
   "cell_type": "code",
   "execution_count": 15,
   "id": "dd89520d",
   "metadata": {},
   "outputs": [],
   "source": [
    "a = np.array([[1,3,5],[2,4,6],[9,7,5]], dtype = 'float')"
   ]
  },
  {
   "cell_type": "code",
   "execution_count": 16,
   "id": "f01b7686",
   "metadata": {},
   "outputs": [
    {
     "data": {
      "text/plain": [
       "array([[1., 3., 5.],\n",
       "       [2., 4., 6.],\n",
       "       [9., 7., 5.]])"
      ]
     },
     "execution_count": 16,
     "metadata": {},
     "output_type": "execute_result"
    }
   ],
   "source": [
    "a"
   ]
  },
  {
   "cell_type": "code",
   "execution_count": 21,
   "id": "d38a904f",
   "metadata": {},
   "outputs": [],
   "source": [
    "b = np.array(((2,4,9,6),(2,6,4,7)))"
   ]
  },
  {
   "cell_type": "code",
   "execution_count": 24,
   "id": "48cd9fae",
   "metadata": {},
   "outputs": [
    {
     "data": {
      "text/plain": [
       "array([[2, 4, 9, 6],\n",
       "       [2, 6, 4, 7]])"
      ]
     },
     "execution_count": 24,
     "metadata": {},
     "output_type": "execute_result"
    }
   ],
   "source": [
    "b"
   ]
  },
  {
   "cell_type": "code",
   "execution_count": 26,
   "id": "167c0033",
   "metadata": {},
   "outputs": [
    {
     "data": {
      "text/plain": [
       "array([[0., 0., 0., 0.],\n",
       "       [0., 0., 0., 0.],\n",
       "       [0., 0., 0., 0.]])"
      ]
     },
     "execution_count": 26,
     "metadata": {},
     "output_type": "execute_result"
    }
   ],
   "source": [
    "np.zeros((3,4))"
   ]
  },
  {
   "cell_type": "code",
   "execution_count": 27,
   "id": "7ee491af",
   "metadata": {},
   "outputs": [
    {
     "data": {
      "text/plain": [
       "array([[25, 25, 25, 25],\n",
       "       [25, 25, 25, 25],\n",
       "       [25, 25, 25, 25]])"
      ]
     },
     "execution_count": 27,
     "metadata": {},
     "output_type": "execute_result"
    }
   ],
   "source": [
    "np.full((3,4),25)"
   ]
  },
  {
   "cell_type": "code",
   "execution_count": 28,
   "id": "345827cd",
   "metadata": {},
   "outputs": [
    {
     "data": {
      "text/plain": [
       "array([[6.+0.j, 6.+0.j, 6.+0.j, 6.+0.j],\n",
       "       [6.+0.j, 6.+0.j, 6.+0.j, 6.+0.j],\n",
       "       [6.+0.j, 6.+0.j, 6.+0.j, 6.+0.j],\n",
       "       [6.+0.j, 6.+0.j, 6.+0.j, 6.+0.j]])"
      ]
     },
     "execution_count": 28,
     "metadata": {},
     "output_type": "execute_result"
    }
   ],
   "source": [
    "np.full((4,4),6,dtype = 'complex')"
   ]
  },
  {
   "cell_type": "code",
   "execution_count": 31,
   "id": "19db1196",
   "metadata": {},
   "outputs": [
    {
     "data": {
      "text/plain": [
       "array([[0.6494207 , 0.32570872, 0.98390415],\n",
       "       [0.31779667, 0.12165535, 0.77284973],\n",
       "       [0.99032545, 0.60243284, 0.00594021]])"
      ]
     },
     "execution_count": 31,
     "metadata": {},
     "output_type": "execute_result"
    }
   ],
   "source": [
    "np.random.rand(3,3)"
   ]
  },
  {
   "cell_type": "code",
   "execution_count": 37,
   "id": "95951388",
   "metadata": {},
   "outputs": [
    {
     "data": {
      "text/plain": [
       "array([[36, 41, 47],\n",
       "       [ 6, 27, 41],\n",
       "       [ 6,  7, 26]])"
      ]
     },
     "execution_count": 37,
     "metadata": {},
     "output_type": "execute_result"
    }
   ],
   "source": [
    "np.random.randint(5,50, size = (3,3))"
   ]
  },
  {
   "cell_type": "code",
   "execution_count": 39,
   "id": "c8b9c41d",
   "metadata": {},
   "outputs": [
    {
     "data": {
      "text/plain": [
       "array([0.        , 0.55555556, 1.11111111, 1.66666667, 2.22222222,\n",
       "       2.77777778, 3.33333333, 3.88888889, 4.44444444, 5.        ])"
      ]
     },
     "execution_count": 39,
     "metadata": {},
     "output_type": "execute_result"
    }
   ],
   "source": [
    "np.linspace(0,5,10)"
   ]
  },
  {
   "cell_type": "code",
   "execution_count": 40,
   "id": "7c62a953",
   "metadata": {},
   "outputs": [
    {
     "data": {
      "text/plain": [
       "array([0.  , 1.25, 2.5 , 3.75, 5.  ])"
      ]
     },
     "execution_count": 40,
     "metadata": {},
     "output_type": "execute_result"
    }
   ],
   "source": [
    "np.linspace(0,5,5)"
   ]
  },
  {
   "cell_type": "code",
   "execution_count": 41,
   "id": "dd607020",
   "metadata": {},
   "outputs": [],
   "source": [
    "arr = np.array([[1, 2, 3, 4],\n",
    "                [5, 2, 4, 2],\n",
    "                [1, 2, 0, 1]])\n",
    " \n",
    "newarr = arr.reshape(2, 2, 3)"
   ]
  },
  {
   "cell_type": "code",
   "execution_count": 42,
   "id": "eb3ed41f",
   "metadata": {},
   "outputs": [
    {
     "data": {
      "text/plain": [
       "array([[[1, 2, 3],\n",
       "        [4, 5, 2]],\n",
       "\n",
       "       [[4, 2, 1],\n",
       "        [2, 0, 1]]])"
      ]
     },
     "execution_count": 42,
     "metadata": {},
     "output_type": "execute_result"
    }
   ],
   "source": [
    "newarr"
   ]
  },
  {
   "cell_type": "code",
   "execution_count": 43,
   "id": "bbf56ccc",
   "metadata": {},
   "outputs": [
    {
     "data": {
      "text/plain": [
       "array([[1, 2, 3],\n",
       "       [4, 5, 2],\n",
       "       [4, 2, 1],\n",
       "       [2, 0, 1]])"
      ]
     },
     "execution_count": 43,
     "metadata": {},
     "output_type": "execute_result"
    }
   ],
   "source": [
    "arr.reshape(4,3)"
   ]
  },
  {
   "cell_type": "code",
   "execution_count": 44,
   "id": "84054599",
   "metadata": {},
   "outputs": [
    {
     "data": {
      "text/plain": [
       "array([[1, 2, 3, 4],\n",
       "       [5, 2, 4, 2],\n",
       "       [1, 2, 0, 1]])"
      ]
     },
     "execution_count": 44,
     "metadata": {},
     "output_type": "execute_result"
    }
   ],
   "source": [
    "arr.reshape(3,4)"
   ]
  },
  {
   "cell_type": "code",
   "execution_count": 45,
   "id": "c80df7b0",
   "metadata": {},
   "outputs": [
    {
     "data": {
      "text/plain": [
       "array([[1, 2, 3, 4, 5, 2, 4, 2, 1, 2, 0, 1]])"
      ]
     },
     "execution_count": 45,
     "metadata": {},
     "output_type": "execute_result"
    }
   ],
   "source": [
    "arr.reshape(1,12)"
   ]
  },
  {
   "cell_type": "code",
   "execution_count": 46,
   "id": "249df665",
   "metadata": {},
   "outputs": [
    {
     "data": {
      "text/plain": [
       "array([[1],\n",
       "       [2],\n",
       "       [3],\n",
       "       [4],\n",
       "       [5],\n",
       "       [2],\n",
       "       [4],\n",
       "       [2],\n",
       "       [1],\n",
       "       [2],\n",
       "       [0],\n",
       "       [1]])"
      ]
     },
     "execution_count": 46,
     "metadata": {},
     "output_type": "execute_result"
    }
   ],
   "source": [
    "arr.reshape(12,1)"
   ]
  },
  {
   "cell_type": "code",
   "execution_count": 47,
   "id": "76ae2644",
   "metadata": {},
   "outputs": [],
   "source": [
    "arr = np.array([[-1,2,5,4],\n",
    "               [2,-5,0,4],\n",
    "               [0,6,7,9],\n",
    "               [-7,5,9,3]])"
   ]
  },
  {
   "cell_type": "code",
   "execution_count": 48,
   "id": "d30cbb1e",
   "metadata": {},
   "outputs": [
    {
     "data": {
      "text/plain": [
       "array([[-1,  2,  5,  4],\n",
       "       [ 2, -5,  0,  4],\n",
       "       [ 0,  6,  7,  9],\n",
       "       [-7,  5,  9,  3]])"
      ]
     },
     "execution_count": 48,
     "metadata": {},
     "output_type": "execute_result"
    }
   ],
   "source": [
    "arr"
   ]
  },
  {
   "cell_type": "code",
   "execution_count": 57,
   "id": "9a0c7908",
   "metadata": {},
   "outputs": [],
   "source": [
    "temp = arr[:3,::2]              # arr[for Row[start:end:step],  for Col[start;end:step]]"
   ]
  },
  {
   "cell_type": "code",
   "execution_count": 58,
   "id": "a997c70c",
   "metadata": {},
   "outputs": [
    {
     "data": {
      "text/plain": [
       "array([[-1,  5],\n",
       "       [ 2,  0],\n",
       "       [ 0,  7]])"
      ]
     },
     "execution_count": 58,
     "metadata": {},
     "output_type": "execute_result"
    }
   ],
   "source": [
    "temp"
   ]
  },
  {
   "cell_type": "code",
   "execution_count": 69,
   "id": "d59c910a",
   "metadata": {},
   "outputs": [
    {
     "data": {
      "text/plain": [
       "array([[-1,  4],\n",
       "       [ 2,  4]])"
      ]
     },
     "execution_count": 69,
     "metadata": {},
     "output_type": "execute_result"
    }
   ],
   "source": [
    "arr[:2,0::3]"
   ]
  },
  {
   "cell_type": "code",
   "execution_count": 73,
   "id": "ed227ce6",
   "metadata": {},
   "outputs": [
    {
     "data": {
      "text/plain": [
       "array([[-1,  2,  5,  4],\n",
       "       [ 2, -5,  0,  4],\n",
       "       [ 0,  6,  7,  9],\n",
       "       [-7,  5,  9,  3]])"
      ]
     },
     "execution_count": 73,
     "metadata": {},
     "output_type": "execute_result"
    }
   ],
   "source": [
    "arr"
   ]
  },
  {
   "cell_type": "code",
   "execution_count": 71,
   "id": "02b461b3",
   "metadata": {},
   "outputs": [],
   "source": [
    "temp = arr[[0,1,2,3],[3,2,1,0]]    # index as (0,3) = 4, (1,2)=0, (2,1)=6, (3,0)=0"
   ]
  },
  {
   "cell_type": "code",
   "execution_count": 72,
   "id": "80277390",
   "metadata": {},
   "outputs": [
    {
     "data": {
      "text/plain": [
       "array([ 4,  0,  6, -7])"
      ]
     },
     "execution_count": 72,
     "metadata": {},
     "output_type": "execute_result"
    }
   ],
   "source": [
    "temp"
   ]
  },
  {
   "cell_type": "code",
   "execution_count": 78,
   "id": "a8b2a255",
   "metadata": {},
   "outputs": [],
   "source": [
    "cond = arr > 0"
   ]
  },
  {
   "cell_type": "code",
   "execution_count": 79,
   "id": "5585c390",
   "metadata": {},
   "outputs": [
    {
     "data": {
      "text/plain": [
       "array([[False,  True,  True,  True],\n",
       "       [ True, False, False,  True],\n",
       "       [False,  True,  True,  True],\n",
       "       [False,  True,  True,  True]])"
      ]
     },
     "execution_count": 79,
     "metadata": {},
     "output_type": "execute_result"
    }
   ],
   "source": [
    "cond"
   ]
  },
  {
   "cell_type": "code",
   "execution_count": null,
   "id": "c698b2c9",
   "metadata": {},
   "outputs": [],
   "source": []
  }
 ],
 "metadata": {
  "kernelspec": {
   "display_name": "Python 3 (ipykernel)",
   "language": "python",
   "name": "python3"
  },
  "language_info": {
   "codemirror_mode": {
    "name": "ipython",
    "version": 3
   },
   "file_extension": ".py",
   "mimetype": "text/x-python",
   "name": "python",
   "nbconvert_exporter": "python",
   "pygments_lexer": "ipython3",
   "version": "3.9.12"
  }
 },
 "nbformat": 4,
 "nbformat_minor": 5
}
