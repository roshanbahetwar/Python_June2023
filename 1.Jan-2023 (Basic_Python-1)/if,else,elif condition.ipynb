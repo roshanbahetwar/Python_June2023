{
 "cells": [
  {
   "cell_type": "markdown",
   "id": "09c50f2a",
   "metadata": {},
   "source": [
    "## if else elif condition"
   ]
  },
  {
   "cell_type": "code",
   "execution_count": 1,
   "id": "495be3f6",
   "metadata": {},
   "outputs": [
    {
     "name": "stdout",
     "output_type": "stream",
     "text": [
      "enter the age :: 50\n",
      "Please take your vaccination\n",
      "Thanks for visiting\n"
     ]
    }
   ],
   "source": [
    "age = int(input(\"enter the age :: \"))\n",
    "if age > 45:\n",
    "    print('Please take your vaccination')\n",
    "print(\"Thanks for visiting\")"
   ]
  },
  {
   "cell_type": "code",
   "execution_count": 1,
   "id": "0fd73884",
   "metadata": {},
   "outputs": [
    {
     "name": "stdout",
     "output_type": "stream",
     "text": [
      "enter the file_name:: \n",
      "scan.pdf\n",
      "processing file scan.pdf....\n",
      "\n",
      "Thanks for checking\n"
     ]
    }
   ],
   "source": [
    "file_name = input(\"enter the file_name:: \\n\")\n",
    "if file_name.endswith(\"pdf\"):\n",
    "    print(f'processing file {file_name}....\\n')\n",
    "print('Thanks for checking')"
   ]
  },
  {
   "cell_type": "code",
   "execution_count": 3,
   "id": "4f0ffbcf",
   "metadata": {},
   "outputs": [
    {
     "name": "stdout",
     "output_type": "stream",
     "text": [
      "Enter the file_name ;- \n",
      "scan.pdf\n",
      "processing file  scan.pdf.....please wait\n",
      "\n",
      "Thanks for checking\n"
     ]
    }
   ],
   "source": [
    "file_name = input('Enter the file_name ;- \\n')\n",
    "if file_name.endswith('pdf'):\n",
    "    print(f'processing file  {file_name}.....please wait\\n')\n",
    "print('Thanks for checking')"
   ]
  },
  {
   "cell_type": "code",
   "execution_count": null,
   "id": "f3e2d810",
   "metadata": {},
   "outputs": [],
   "source": []
  },
  {
   "cell_type": "code",
   "execution_count": 4,
   "id": "9d25a147",
   "metadata": {},
   "outputs": [
    {
     "name": "stdout",
     "output_type": "stream",
     "text": [
      "enter the file name :: main.csv\n",
      "processing file main.csv......\n",
      "Thanks for checking.\n"
     ]
    }
   ],
   "source": [
    "d_name = input(\"enter the file name :: \")\n",
    "\n",
    "if d_name.endswith(\"csv\") and d_name.startswith(\"main\"):\n",
    "    \n",
    "    print(f\"processing file {d_name}......\")\n",
    "print('Thanks for checking.')"
   ]
  },
  {
   "cell_type": "code",
   "execution_count": 23,
   "id": "53756572",
   "metadata": {},
   "outputs": [
    {
     "name": "stdout",
     "output_type": "stream",
     "text": [
      "enter the price :: \n",
      "100\n",
      "price is greater than 100 \n",
      "\n",
      "Thanks for price checking...\n"
     ]
    }
   ],
   "source": [
    "price = int(input(\"enter the price :: \\n\"))\n",
    "\n",
    "if price < 100:\n",
    "    print(\"price is less than 100 \\n\")\n",
    "else:\n",
    "    print('price is greater than 100 \\n')\n",
    "print('Thanks for price checking...')"
   ]
  },
  {
   "cell_type": "code",
   "execution_count": 29,
   "id": "348878b5",
   "metadata": {},
   "outputs": [
    {
     "name": "stdout",
     "output_type": "stream",
     "text": [
      "total is less than 1000\n",
      "price 50\n",
      "quantity 10\n",
      "total 500\n"
     ]
    }
   ],
   "source": [
    "price = 50; quantity = 10; total = price*quantity\n",
    "if price*quantity < 1000:\n",
    "    print(\"total is less than 1000\")\n",
    "    print(\"price\",price)\n",
    "    print(\"quantity\",quantity)\n",
    "    print(\"total\",total)\n",
    "    "
   ]
  },
  {
   "cell_type": "code",
   "execution_count": 8,
   "id": "8972993d",
   "metadata": {},
   "outputs": [
    {
     "name": "stdout",
     "output_type": "stream",
     "text": [
      "please enter price :: 10\n",
      "please enter quantity :: 50\n",
      "total is less than 1000\n",
      "price 10\n",
      "quantity 50\n",
      "total 500\n"
     ]
    }
   ],
   "source": [
    "# Example: Multiple Statements in the if Block\n",
    "\n",
    "price = int(input(\"please enter price :: \"))\n",
    "quantity = int(input(\"please enter quantity :: \"))\n",
    "total = price*quantity\n",
    "if price*quantity < 1000:\n",
    "    print(\"total is less than 1000\")\n",
    "    print(\"price\",price)\n",
    "    print(\"quantity\",quantity)\n",
    "    print(\"total\",total)\n",
    "else:\n",
    "    print('To Much Cost...Dont Buy')"
   ]
  },
  {
   "cell_type": "code",
   "execution_count": 10,
   "id": "e3c80b0d",
   "metadata": {},
   "outputs": [
    {
     "name": "stdout",
     "output_type": "stream",
     "text": [
      "price is less than 500\n",
      "price =  50\n",
      "quantity =  5\n"
     ]
    }
   ],
   "source": [
    "# Example: Invalid Indentation in the Block\n",
    "\n",
    "price = 50\n",
    "quantity = 5\n",
    "if price*quantity < 500:\n",
    "    print(\"price is less than 500\")\n",
    "    print(\"price = \", price)\n",
    "     print(\"quantity = \", quantity)"
   ]
  },
  {
   "cell_type": "code",
   "execution_count": 37,
   "id": "2b61c2f7",
   "metadata": {},
   "outputs": [
    {
     "name": "stdout",
     "output_type": "stream",
     "text": [
      "price is less than 500\n",
      "price =  50\n",
      "quantity =  5\n",
      "No if block executed.\n"
     ]
    }
   ],
   "source": [
    "# Out of Block Statements\n",
    "\n",
    "price = 50\n",
    "quantity = 5\n",
    "if price*quantity < 500:\n",
    "    print(\"price is less than 500\")\n",
    "    print(\"price = \", price)\n",
    "    print(\"quantity = \", quantity)\n",
    "print(\"No if block executed.\")"
   ]
  },
  {
   "cell_type": "code",
   "execution_count": 52,
   "id": "047fd0cb",
   "metadata": {},
   "outputs": [
    {
     "name": "stdout",
     "output_type": "stream",
     "text": [
      "enter the Price : 99.99999999\n",
      "price is less than 100 \n"
     ]
    }
   ],
   "source": [
    "# Example: Multiple if Conditions\n",
    "\n",
    "price = float(input(\"enter the Price : \"))\n",
    "if price<100:\n",
    "    print(\"price is less than 100 \")\n",
    "if price>100:\n",
    "    print('price is greater than 100 ')\n",
    "if price==100:\n",
    "    print(\"price is 100\")"
   ]
  },
  {
   "cell_type": "code",
   "execution_count": 2,
   "id": "87e7e3ff",
   "metadata": {},
   "outputs": [
    {
     "ename": "SyntaxError",
     "evalue": "invalid syntax (702577038.py, line 1)",
     "output_type": "error",
     "traceback": [
      "\u001b[1;36m  Input \u001b[1;32mIn [2]\u001b[1;36m\u001b[0m\n\u001b[1;33m    declare @a tinyint\u001b[0m\n\u001b[1;37m               ^\u001b[0m\n\u001b[1;31mSyntaxError\u001b[0m\u001b[1;31m:\u001b[0m invalid syntax\n"
     ]
    }
   ],
   "source": [
    "declare@ a tinyint\n",
    "set @a = 256\n",
    "print@a"
   ]
  },
  {
   "cell_type": "code",
   "execution_count": 9,
   "id": "08071b5d",
   "metadata": {},
   "outputs": [
    {
     "name": "stdout",
     "output_type": "stream",
     "text": [
      "enter the product name:: Roshan\n",
      "roshan\n"
     ]
    }
   ],
   "source": [
    "product = input('enter the product name:: ').lower()\n",
    "\n",
    "if 'ro' in product and len(product)==6:\n",
    "    print(product)\n",
    "else:\n",
    "    print('invalid')"
   ]
  },
  {
   "cell_type": "code",
   "execution_count": 18,
   "id": "537f5cb8",
   "metadata": {},
   "outputs": [
    {
     "name": "stdout",
     "output_type": "stream",
     "text": [
      "price*quantity is less than 500\n",
      "Price  50\n",
      "quantity  5\n"
     ]
    }
   ],
   "source": [
    "price = 50\n",
    "quantity = 5\n",
    "if price*quantity < 500:\n",
    "    print('price*quantity is less than 500')\n",
    "    print('Price ', price)\n",
    "    print('quantity ',quantity)"
   ]
  },
  {
   "cell_type": "code",
   "execution_count": 32,
   "id": "a9dc1083",
   "metadata": {},
   "outputs": [
    {
     "name": "stdout",
     "output_type": "stream",
     "text": [
      "Enter the price:: 250\n",
      "Price is greater than 100\n"
     ]
    }
   ],
   "source": [
    "price = int(input('Enter the price:: '))\n",
    "\n",
    "if price > 100:\n",
    "    print('Price is greater than 100')\n",
    "if price == 100:\n",
    "    print('Price is 100')\n",
    "if price < 100:\n",
    "    print('Price is less than 100')"
   ]
  },
  {
   "cell_type": "code",
   "execution_count": 34,
   "id": "c3aa2c92",
   "metadata": {},
   "outputs": [
    {
     "name": "stdout",
     "output_type": "stream",
     "text": [
      "Enter the price :: 99\n",
      "Price is less than 100 \n"
     ]
    }
   ],
   "source": [
    "price = int(input(\"Enter the price :: \"))\n",
    "\n",
    "if price >= 100:\n",
    "    print('Price is greater 100 ')\n",
    "else:\n",
    "    print('Price is less than 100 ')"
   ]
  },
  {
   "cell_type": "code",
   "execution_count": 44,
   "id": "8d4aa34d",
   "metadata": {},
   "outputs": [
    {
     "name": "stdout",
     "output_type": "stream",
     "text": [
      "enter the price ::100\n",
      "price is equal to 100\n"
     ]
    }
   ],
   "source": [
    "price = int(input('enter the price ::'))\n",
    "\n",
    "if price > 100:\n",
    "    print('price is greater than 100')\n",
    "elif price == 100:\n",
    "    print('price is equal to 100')\n",
    "elif price < 100:\n",
    "    print('price is less than 100')\n",
    "else:\n",
    "    print('nothing')"
   ]
  },
  {
   "cell_type": "code",
   "execution_count": 45,
   "id": "9fa99f8e",
   "metadata": {},
   "outputs": [
    {
     "ename": "SyntaxError",
     "evalue": "invalid syntax (1574956163.py, line 7)",
     "output_type": "error",
     "traceback": [
      "\u001b[1;36m  Input \u001b[1;32mIn [45]\u001b[1;36m\u001b[0m\n\u001b[1;33m    else price < 100:\u001b[0m\n\u001b[1;37m         ^\u001b[0m\n\u001b[1;31mSyntaxError\u001b[0m\u001b[1;31m:\u001b[0m invalid syntax\n"
     ]
    }
   ],
   "source": [
    "price = 50\n",
    "\n",
    "if price > 100:\n",
    "    print(\"price is greater than 100\")\n",
    "elif price == 100:\n",
    "    print(\"price is 100\")\n",
    "else price < 100:\n",
    "    print(\"price is less than 100\")"
   ]
  },
  {
   "cell_type": "code",
   "execution_count": 47,
   "id": "889be6ff",
   "metadata": {},
   "outputs": [
    {
     "name": "stdout",
     "output_type": "stream",
     "text": [
      "price is less than 100\n"
     ]
    }
   ],
   "source": [
    "price = 50\n",
    "\n",
    "if price > 100:\n",
    "    print(\"price is greater than 100\")\n",
    "elif price == 100:\n",
    "    print(\"price is 100\")\n",
    "else:\n",
    "    print(\"price is less than 100\")"
   ]
  },
  {
   "cell_type": "code",
   "execution_count": 55,
   "id": "9ade8da7",
   "metadata": {},
   "outputs": [
    {
     "name": "stdout",
     "output_type": "stream",
     "text": [
      "Enter the File :: file.txt\n",
      "processing file.txt\n"
     ]
    }
   ],
   "source": [
    "file_name = input('Enter the File :: ')\n",
    "\n",
    "if file_name.endswith('pdf'):\n",
    "    print(f\"processing {file_name}\")\n",
    "elif file_name.endswith('txt'):\n",
    "    print(f\"processing {file_name}\")\n",
    "elif file_name.endswith('xlsx'):\n",
    "    print(f\"processing {file_name}\")\n",
    "elif file_name.endswith('html'):\n",
    "    print(f\"processing {file_name}\")\n",
    "else:\n",
    "    print('invalid file')"
   ]
  },
  {
   "cell_type": "code",
   "execution_count": 56,
   "id": "45b32b37",
   "metadata": {},
   "outputs": [
    {
     "name": "stdout",
     "output_type": "stream",
     "text": [
      "enter the file name: text.pdf hello.txt ba.xlsx\n"
     ]
    }
   ],
   "source": [
    "x,y,z = input('enter the file name: ').split()"
   ]
  },
  {
   "cell_type": "code",
   "execution_count": 57,
   "id": "a65dcb6a",
   "metadata": {},
   "outputs": [
    {
     "data": {
      "text/plain": [
       "'text.pdf'"
      ]
     },
     "execution_count": 57,
     "metadata": {},
     "output_type": "execute_result"
    }
   ],
   "source": [
    "x"
   ]
  },
  {
   "cell_type": "code",
   "execution_count": 58,
   "id": "7f027536",
   "metadata": {},
   "outputs": [
    {
     "data": {
      "text/plain": [
       "'hello.txt'"
      ]
     },
     "execution_count": 58,
     "metadata": {},
     "output_type": "execute_result"
    }
   ],
   "source": [
    "y"
   ]
  },
  {
   "cell_type": "code",
   "execution_count": 59,
   "id": "7778d4f7",
   "metadata": {},
   "outputs": [
    {
     "data": {
      "text/plain": [
       "'ba.xlsx'"
      ]
     },
     "execution_count": 59,
     "metadata": {},
     "output_type": "execute_result"
    }
   ],
   "source": [
    "z"
   ]
  },
  {
   "cell_type": "code",
   "execution_count": 22,
   "id": "5d56706f",
   "metadata": {},
   "outputs": [
    {
     "name": "stdout",
     "output_type": "stream",
     "text": [
      "enter the city mumbai\n",
      "Enter the sal 98000\n",
      "enter the gender m\n",
      "Original sal  98000\n",
      "Sal_bonus 132300.0\n"
     ]
    }
   ],
   "source": [
    "city = input('enter the city ').lower()\n",
    "sal = int(input('Enter the sal '))\n",
    "gender = input('enter the gender ').lower()\n",
    "\n",
    "if city == 'pune':\n",
    "    if sal >=75000:\n",
    "        if gender == 'm':\n",
    "            bonus = (sal/100)*15\n",
    "            gross = bonus+sal\n",
    "            print('Original sal ',sal)\n",
    "            print('Sal_bonus', gross)\n",
    "        else:\n",
    "            bonus = (sal/100)*25\n",
    "            gross = bonus+sal\n",
    "            print('Original sal ',sal)\n",
    "            print('Sal_bonus', gross)\n",
    "            \n",
    "if city == 'mumbai':\n",
    "    if sal >=95000:\n",
    "        if gender == 'm':\n",
    "            bonus = (sal/100)*35\n",
    "            gross = bonus+sal\n",
    "            print('Original sal ',sal)\n",
    "            print('Sal_bonus', gross)\n",
    "        else:\n",
    "            bonus = (sal/100)*40\n",
    "            gross = bonus+sal\n",
    "            print('Original sal ',sal)\n",
    "            print('Sal_bonus', gross)\n",
    "            "
   ]
  },
  {
   "cell_type": "code",
   "execution_count": 9,
   "id": "3c842dde",
   "metadata": {},
   "outputs": [
    {
     "name": "stdout",
     "output_type": "stream",
     "text": [
      "Enter the city mumbai\n",
      "enter the salary 85000\n",
      "enter the gender M\n"
     ]
    }
   ],
   "source": [
    "city = input('Enter the city ').lower()\n",
    "sal = int(input('enter the salary '))\n",
    "gender = input('enter the gender ').lower()\n",
    "\n",
    "if city == 'pune':\n",
    "    if sal >= 65000:\n",
    "        if gender == 'M':\n",
    "            bonus = (sal/100)*10\n",
    "            gross = sal+bonus\n",
    "            print('Original sal',sal)\n",
    "            print('gross sal',gross)\n",
    "        else:\n",
    "            bonus = (sal/100)*20\n",
    "            gross = sal+bonus\n",
    "            print('Original sal',sal)\n",
    "            print('gross sal',gross)\n",
    "            \n",
    "if city == 'Mumbai':\n",
    "    if sal >= 85000:\n",
    "        if gender == 'M':\n",
    "            bonus = (sal/100)*30\n",
    "            gross = sal+bonus\n",
    "            print('Original sal',sal)\n",
    "            print('gross sal',gross)\n",
    "        else:\n",
    "            bonus = (sal/100)*40\n",
    "            gross = sal+bonus\n",
    "            print('Original sal',sal)\n",
    "            print('gross sal',gross)"
   ]
  },
  {
   "cell_type": "code",
   "execution_count": 14,
   "id": "fa3c804f",
   "metadata": {},
   "outputs": [
    {
     "name": "stdout",
     "output_type": "stream",
     "text": [
      "enter the num1 500\n",
      "enter the num2 10\n",
      "500 is greater than  10\n"
     ]
    }
   ],
   "source": [
    "num1 = int(input('enter the num1 '))\n",
    "num2 = int(input('enter the num2 '))\n",
    "\n",
    "if num1>= num2:\n",
    "    print(num1 ,'is greater than ',num2)\n",
    "    if num1==num2:\n",
    "        print(num1,'is equal to ',num2)\n",
    "else:\n",
    "    print(num1,'is smaller than ',num2)"
   ]
  },
  {
   "cell_type": "code",
   "execution_count": null,
   "id": "426759bd",
   "metadata": {},
   "outputs": [],
   "source": [
    "# Calculator"
   ]
  },
  {
   "cell_type": "code",
   "execution_count": null,
   "id": "efb2de15",
   "metadata": {},
   "outputs": [],
   "source": [
    "def add(x,y):\n",
    "    return x+y\n",
    "\n",
    "def sub(x,y):\n",
    "    return x-y\n",
    "\n",
    "def mult(x,y):\n",
    "    return x*y\n",
    "\n",
    "def div(x,y):\n",
    "    return x/y\n",
    "\n",
    "print('select operation:- ')\n",
    "print('1.Addition')\n",
    "print('2.Subtraction')\n",
    "print('3.Multiplication')\n",
    "print('4.Division')\n",
    "\n",
    "choice = input('Enter choice (1/2/3/4):')\n",
    "\n",
    "num1 = int(input('Enter first Number: '))\n",
    "num2 = int(input('Enter second number: '))\n",
    "\n",
    "if choice == '1':\n",
    "    print(num1, '+', num2, add(num1, num2))\n",
    "    \n",
    "elif choice == '2':\n",
    "    print(num1, '-', num2, sub(num1, num2))\n",
    "    \n",
    "elif choice == '3':\n",
    "    print(num1, '*', num2, mult(num1, num2))\n",
    "    \n",
    "elif choice == '4':\n",
    "    print(num1, '/', num2, div(num1, num2))\n",
    "    \n",
    "else:\n",
    "    print('Invalid')"
   ]
  },
  {
   "cell_type": "code",
   "execution_count": null,
   "id": "c8d3cdb0",
   "metadata": {},
   "outputs": [],
   "source": []
  }
 ],
 "metadata": {
  "kernelspec": {
   "display_name": "Python 3 (ipykernel)",
   "language": "python",
   "name": "python3"
  },
  "language_info": {
   "codemirror_mode": {
    "name": "ipython",
    "version": 3
   },
   "file_extension": ".py",
   "mimetype": "text/x-python",
   "name": "python",
   "nbconvert_exporter": "python",
   "pygments_lexer": "ipython3",
   "version": "3.9.12"
  }
 },
 "nbformat": 4,
 "nbformat_minor": 5
}
