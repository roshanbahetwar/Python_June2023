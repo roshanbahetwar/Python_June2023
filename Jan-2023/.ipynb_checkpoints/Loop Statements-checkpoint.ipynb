{
 "cells": [
  {
   "cell_type": "code",
   "execution_count": 1,
   "id": "c1b94c08",
   "metadata": {},
   "outputs": [],
   "source": [
    "# 1. for loop\n",
    "# 2. while loop"
   ]
  },
  {
   "cell_type": "code",
   "execution_count": 2,
   "id": "0a3dee8c",
   "metadata": {},
   "outputs": [],
   "source": [
    "# 1. for loop"
   ]
  },
  {
   "cell_type": "code",
   "execution_count": 3,
   "id": "4f1b1666",
   "metadata": {},
   "outputs": [
    {
     "name": "stdout",
     "output_type": "stream",
     "text": [
      "python, Java, ML, Pyspark, docker, "
     ]
    }
   ],
   "source": [
    "py_list = ['python','Java',2545,'ML','Pyspark',54647,'docker',654]\n",
    "\n",
    "for items in py_list:\n",
    "    if str(items).isalpha():\n",
    "        print(items,end = ', ')"
   ]
  },
  {
   "cell_type": "code",
   "execution_count": 4,
   "id": "10ad09f0",
   "metadata": {},
   "outputs": [],
   "source": [
    "py = ['abc@gmail.com','bca@gmail.com','kjg@yahoo.com','shsgd@hotmail.com','ajhgd@gmail.com']"
   ]
  },
  {
   "cell_type": "code",
   "execution_count": 5,
   "id": "fca32f46",
   "metadata": {},
   "outputs": [
    {
     "data": {
      "text/plain": [
       "['abc@gmail.com',\n",
       " 'bca@gmail.com',\n",
       " 'kjg@yahoo.com',\n",
       " 'shsgd@hotmail.com',\n",
       " 'ajhgd@gmail.com']"
      ]
     },
     "execution_count": 5,
     "metadata": {},
     "output_type": "execute_result"
    }
   ],
   "source": [
    "py"
   ]
  },
  {
   "cell_type": "code",
   "execution_count": 6,
   "id": "dc80e72f",
   "metadata": {},
   "outputs": [
    {
     "name": "stdout",
     "output_type": "stream",
     "text": [
      "Valid :- abc@gmail.com\n",
      "Valid :- bca@gmail.com\n",
      "invalid :- kjg@yahoo.com\n",
      "invalid :- shsgd@hotmail.com\n",
      "Valid :- ajhgd@gmail.com\n"
     ]
    }
   ],
   "source": [
    "for email in py:\n",
    "    if email.endswith('gmail.com'):\n",
    "        print(f\"Valid :- {email}\")\n",
    "    else:\n",
    "        print(f\"invalid :- {email}\")"
   ]
  },
  {
   "cell_type": "code",
   "execution_count": 7,
   "id": "b914cef3",
   "metadata": {},
   "outputs": [
    {
     "name": "stdout",
     "output_type": "stream",
     "text": [
      "abc@gmail.com\n",
      "bca@gmail.com\n",
      "ajhgd@gmail.com\n"
     ]
    }
   ],
   "source": [
    "for email in py:\n",
    "    if email.endswith(\"gmail.com\"):\n",
    "        print(email)"
   ]
  },
  {
   "cell_type": "code",
   "execution_count": 8,
   "id": "bf792f13",
   "metadata": {},
   "outputs": [
    {
     "name": "stdout",
     "output_type": "stream",
     "text": [
      "abc@gmail.com\n",
      "bca@gmail.com\n",
      "ajhgd@gmail.com\n"
     ]
    }
   ],
   "source": [
    "for email in py:\n",
    "    if 'gmail' in  email:\n",
    "        print(email)"
   ]
  },
  {
   "cell_type": "code",
   "execution_count": 9,
   "id": "07116c17",
   "metadata": {},
   "outputs": [],
   "source": [
    "a = [12,325,54,3,53,543,56,54,87,95,63,74,34,653,65,37]"
   ]
  },
  {
   "cell_type": "code",
   "execution_count": 10,
   "id": "1b33d106",
   "metadata": {},
   "outputs": [
    {
     "name": "stdout",
     "output_type": "stream",
     "text": [
      "325 3 53 543 63 34 653 37 "
     ]
    }
   ],
   "source": [
    "for i in a:\n",
    "    if '3' in str(i):\n",
    "        print(i,end = ' ')"
   ]
  },
  {
   "cell_type": "code",
   "execution_count": 11,
   "id": "3d26c288",
   "metadata": {},
   "outputs": [
    {
     "name": "stdout",
     "output_type": "stream",
     "text": [
      "Even No. 12\n",
      "Odd No. 325\n",
      "Even No. 54\n",
      "Odd No. 3\n",
      "Odd No. 53\n",
      "Odd No. 543\n",
      "Even No. 56\n",
      "Even No. 54\n",
      "Odd No. 87\n",
      "Odd No. 95\n",
      "Odd No. 63\n",
      "Even No. 74\n",
      "Even No. 34\n",
      "Odd No. 653\n",
      "Odd No. 65\n",
      "Odd No. 37\n"
     ]
    }
   ],
   "source": [
    "for i in a:\n",
    "    if i%2==0:\n",
    "        print(f\"Even No. {i}\")\n",
    "    else:\n",
    "        print(f\"Odd No. {i}\")\n",
    "    "
   ]
  },
  {
   "cell_type": "code",
   "execution_count": 12,
   "id": "769a18ae",
   "metadata": {},
   "outputs": [
    {
     "name": "stdout",
     "output_type": "stream",
     "text": [
      "Even No. 12\n",
      "Odd No. 325\n",
      "Even No. 54\n",
      "Odd No. 3\n",
      "Odd No. 53\n",
      "Odd No. 543\n",
      "Even No. 56\n",
      "Even No. 54\n",
      "Odd No. 87\n",
      "Odd No. 95\n",
      "Odd No. 63\n",
      "Even No. 74\n",
      "Even No. 34\n",
      "Odd No. 653\n",
      "Odd No. 65\n",
      "Odd No. 37\n"
     ]
    }
   ],
   "source": [
    "for i in a:\n",
    "    if i%2==0:\n",
    "        print(f\"Even No. {i}\")\n",
    "    elif i%2==1:\n",
    "        print(f\"Odd No. {i}\")"
   ]
  },
  {
   "cell_type": "code",
   "execution_count": 13,
   "id": "9e6a8073",
   "metadata": {},
   "outputs": [
    {
     "data": {
      "text/plain": [
       "['python', 'Java', 2545, 'ML', 'Pyspark', 54647, 'docker', 654]"
      ]
     },
     "execution_count": 13,
     "metadata": {},
     "output_type": "execute_result"
    }
   ],
   "source": [
    "py_list"
   ]
  },
  {
   "cell_type": "code",
   "execution_count": 14,
   "id": "59cf5e93",
   "metadata": {},
   "outputs": [
    {
     "name": "stdout",
     "output_type": "stream",
     "text": [
      "2545\n",
      "54647\n",
      "654\n"
     ]
    }
   ],
   "source": [
    "for i in py_list:\n",
    "    if str(i).isnumeric():\n",
    "        print(i)"
   ]
  },
  {
   "cell_type": "code",
   "execution_count": 15,
   "id": "15663c61",
   "metadata": {},
   "outputs": [
    {
     "name": "stdout",
     "output_type": "stream",
     "text": [
      "1\n",
      "2\n",
      "3\n",
      "4\n"
     ]
    }
   ],
   "source": [
    "for i in range(1,5):\n",
    "    print(i)"
   ]
  },
  {
   "cell_type": "code",
   "execution_count": 16,
   "id": "25e13bdf",
   "metadata": {},
   "outputs": [],
   "source": [
    "lst = list(range(1,10))"
   ]
  },
  {
   "cell_type": "code",
   "execution_count": 17,
   "id": "be673193",
   "metadata": {},
   "outputs": [
    {
     "name": "stdout",
     "output_type": "stream",
     "text": [
      "[1, 2, 3, 4, 5, 6, 7, 8, 9]\n"
     ]
    }
   ],
   "source": [
    "print(lst)"
   ]
  },
  {
   "cell_type": "code",
   "execution_count": 18,
   "id": "12e39e67",
   "metadata": {},
   "outputs": [
    {
     "name": "stdout",
     "output_type": "stream",
     "text": [
      "[1, 2, 3, 4]\n"
     ]
    }
   ],
   "source": [
    "print(list(range(1,5)))"
   ]
  },
  {
   "cell_type": "code",
   "execution_count": 19,
   "id": "a81803fe",
   "metadata": {},
   "outputs": [
    {
     "name": "stdout",
     "output_type": "stream",
     "text": [
      "10\n",
      "20\n",
      "30\n",
      "40\n",
      "50\n",
      "60\n",
      "70\n"
     ]
    }
   ],
   "source": [
    "nums = (10,20,30,40,50,60,70)\n",
    "\n",
    "for i in nums:\n",
    "    print(i)"
   ]
  },
  {
   "cell_type": "code",
   "execution_count": 20,
   "id": "87daaa9e",
   "metadata": {},
   "outputs": [
    {
     "name": "stdout",
     "output_type": "stream",
     "text": [
      "H\n",
      "e\n",
      "l\n",
      "l\n",
      "o\n"
     ]
    }
   ],
   "source": [
    "for char in 'Hello':\n",
    "    print(char)"
   ]
  },
  {
   "cell_type": "code",
   "execution_count": 21,
   "id": "351be88c",
   "metadata": {},
   "outputs": [
    {
     "name": "stdout",
     "output_type": "stream",
     "text": [
      "(1, 'one') (2, 'two') (3, 'three') (4, 'four') "
     ]
    }
   ],
   "source": [
    "lst_dict = {1:'one',2:'two',3:'three',4:'four'}\n",
    "\n",
    "for i in lst_dict.items():\n",
    "    print(i,end = ' ')"
   ]
  },
  {
   "cell_type": "code",
   "execution_count": 22,
   "id": "a5b8cfe8",
   "metadata": {},
   "outputs": [
    {
     "name": "stdout",
     "output_type": "stream",
     "text": [
      "Key :- 1 value :- one\n",
      "Key :- 2 value :- two\n",
      "Key :- 3 value :- three\n",
      "Key :- 4 value :- four\n"
     ]
    }
   ],
   "source": [
    "for k,v in lst_dict.items():\n",
    "    print('Key :-',+ k,'value :- '+ v)"
   ]
  },
  {
   "cell_type": "code",
   "execution_count": 23,
   "id": "3443dfd1",
   "metadata": {},
   "outputs": [
    {
     "name": "stdout",
     "output_type": "stream",
     "text": [
      "Fruits :-apple Qty :-10 kg\n",
      "Fruits :-banana Qty :-2 dozzen\n",
      "Fruits :-mango Qty :-2 kg\n"
     ]
    }
   ],
   "source": [
    "f_dict = {'apple': '10 kg','banana':'2 dozzen','mango':'2 kg'}\n",
    "\n",
    "for k,v in f_dict.items():\n",
    "    print('Fruits :-'+ k, 'Qty :-'+v)\n",
    "    "
   ]
  },
  {
   "cell_type": "code",
   "execution_count": 24,
   "id": "322db30d",
   "metadata": {},
   "outputs": [
    {
     "data": {
      "text/plain": [
       "{'apple': '10 kg', 'banana': '2 dozzen', 'mango': '2 kg'}"
      ]
     },
     "execution_count": 24,
     "metadata": {},
     "output_type": "execute_result"
    }
   ],
   "source": [
    "f_dict"
   ]
  },
  {
   "cell_type": "code",
   "execution_count": 25,
   "id": "b6067e4a",
   "metadata": {},
   "outputs": [
    {
     "name": "stdout",
     "output_type": "stream",
     "text": [
      "1\n",
      "2\n",
      "3\n"
     ]
    }
   ],
   "source": [
    "for i in range(1,5):\n",
    "    if i>3:               # when value of i is greater than two its break and stop iterator\n",
    "        break\n",
    "    print(i)"
   ]
  },
  {
   "cell_type": "code",
   "execution_count": 26,
   "id": "3e9a1d8d",
   "metadata": {},
   "outputs": [
    {
     "name": "stdout",
     "output_type": "stream",
     "text": [
      "1\n",
      "2\n",
      "3\n",
      "4\n",
      "5\n"
     ]
    }
   ],
   "source": [
    "for i in range(1, 10):\n",
    "    if i > 5:\n",
    "        continue\n",
    "    print(i)"
   ]
  },
  {
   "cell_type": "code",
   "execution_count": 27,
   "id": "e72a7b48",
   "metadata": {},
   "outputs": [
    {
     "name": "stdout",
     "output_type": "stream",
     "text": [
      "0\n",
      "1\n",
      "2\n",
      "3\n",
      "4\n",
      "5\n",
      "6\n",
      "7\n",
      "8\n",
      "9\n",
      "end of block\n"
     ]
    }
   ],
   "source": [
    "for i in range(10):\n",
    "    print(i)\n",
    "else:\n",
    "    print('end of block')"
   ]
  },
  {
   "cell_type": "code",
   "execution_count": 28,
   "id": "329762a3",
   "metadata": {},
   "outputs": [
    {
     "name": "stdout",
     "output_type": "stream",
     "text": [
      "x =  1 , y =  1\n",
      "x =  1 , y =  2\n",
      "x =  2 , y =  1\n",
      "x =  2 , y =  2\n",
      "x =  3 , y =  1\n",
      "x =  3 , y =  2\n",
      "x =  4 , y =  1\n",
      "x =  4 , y =  2\n",
      "x =  5 , y =  1\n",
      "x =  5 , y =  2\n",
      "x =  6 , y =  1\n",
      "x =  6 , y =  2\n",
      "x =  7 , y =  1\n",
      "x =  7 , y =  2\n",
      "x =  8 , y =  1\n",
      "x =  8 , y =  2\n",
      "x =  9 , y =  1\n",
      "x =  9 , y =  2\n"
     ]
    }
   ],
   "source": [
    "for x in range(1,10):\n",
    "    for y in range(1,3):\n",
    "        print('x = ', x, ', y = ', y) "
   ]
  },
  {
   "cell_type": "code",
   "execution_count": null,
   "id": "3f9ba780",
   "metadata": {},
   "outputs": [],
   "source": []
  },
  {
   "cell_type": "code",
   "execution_count": 29,
   "id": "5777f641",
   "metadata": {},
   "outputs": [],
   "source": [
    "# 2. while loop"
   ]
  },
  {
   "cell_type": "code",
   "execution_count": 39,
   "id": "072c93ca",
   "metadata": {},
   "outputs": [
    {
     "name": "stdout",
     "output_type": "stream",
     "text": [
      "1\n",
      "2\n",
      "3\n",
      "4\n",
      "5\n",
      "6\n",
      "7\n",
      "8\n",
      "9\n",
      "10\n",
      "11\n",
      "12\n",
      "13\n",
      "14\n",
      "15\n",
      "16\n",
      "17\n",
      "18\n",
      "19\n",
      "20\n"
     ]
    }
   ],
   "source": [
    "i = 1\n",
    "while i<=20:\n",
    "    print(i)\n",
    "    i=i+1"
   ]
  },
  {
   "cell_type": "code",
   "execution_count": 41,
   "id": "a936f35d",
   "metadata": {},
   "outputs": [
    {
     "name": "stdout",
     "output_type": "stream",
     "text": [
      "1\n",
      "2\n",
      "3\n",
      "4\n",
      "5\n",
      "6\n",
      "7\n",
      "8\n",
      "9\n",
      "10\n",
      "11\n",
      "12\n",
      "13\n",
      "14\n",
      "15\n"
     ]
    }
   ],
   "source": [
    "i = 1\n",
    "\n",
    "while i <= 15:\n",
    "    print(i)\n",
    "    i = i+1"
   ]
  },
  {
   "cell_type": "code",
   "execution_count": null,
   "id": "6960dabb",
   "metadata": {},
   "outputs": [],
   "source": [
    "flag = True\n",
    "\n",
    "while flag:\n",
    "    a = int(input('enter the first nummber: '))\n",
    "    b = int(input('enter the second number: '))\n",
    "    c = a+b\n",
    "    print(f\"addition of {a} and {b} is {c}\")\n",
    "    choice = input('do you have want to continue[y|n]: ')\n",
    "    \n",
    "    if choice =='n':\n",
    "        print('Thanks for visitng')\n",
    "        flag = false"
   ]
  },
  {
   "cell_type": "code",
   "execution_count": 7,
   "id": "77a71ef9",
   "metadata": {},
   "outputs": [
    {
     "name": "stdout",
     "output_type": "stream",
     "text": [
      "1\n",
      "2\n",
      "3\n",
      "4\n",
      "5\n",
      "6\n",
      "7\n",
      "8\n",
      "9\n",
      "10\n",
      "11\n",
      "12\n",
      "13\n",
      "14\n",
      "15\n",
      "16\n",
      "17\n",
      "18\n",
      "19\n",
      "20\n"
     ]
    }
   ],
   "source": [
    "i= 1\n",
    "\n",
    "while i<=20:\n",
    "    print(i)\n",
    "    i=i+1"
   ]
  },
  {
   "cell_type": "code",
   "execution_count": 13,
   "id": "a92d04d1",
   "metadata": {},
   "outputs": [
    {
     "name": "stdout",
     "output_type": "stream",
     "text": [
      "1\n",
      "2\n",
      "3\n",
      "4\n",
      "5\n"
     ]
    }
   ],
   "source": [
    "num = 0\n",
    "\n",
    "while num <5:\n",
    "    num=num+1\n",
    "    print(num)"
   ]
  },
  {
   "cell_type": "code",
   "execution_count": 10,
   "id": "1b23e403",
   "metadata": {},
   "outputs": [
    {
     "name": "stdout",
     "output_type": "stream",
     "text": [
      "num =  1\n",
      "num =  2\n",
      "num =  3\n",
      "num =  4\n",
      "num =  5\n"
     ]
    }
   ],
   "source": [
    "num =0\n",
    "\n",
    "while num < 5:\n",
    "    num = num + 1\n",
    "    print('num = ', num)"
   ]
  },
  {
   "cell_type": "code",
   "execution_count": 18,
   "id": "95531990",
   "metadata": {},
   "outputs": [
    {
     "name": "stdout",
     "output_type": "stream",
     "text": [
      "1\n",
      "2\n",
      "3\n",
      "4\n",
      "5\n",
      "6\n",
      "7\n",
      "8\n",
      "9\n",
      "10\n",
      "11\n",
      "12\n",
      "13\n",
      "14\n"
     ]
    }
   ],
   "source": [
    "i = 1\n",
    "\n",
    "while i<15:\n",
    "    print(i)\n",
    "    i = i+1"
   ]
  },
  {
   "cell_type": "code",
   "execution_count": 24,
   "id": "960209eb",
   "metadata": {},
   "outputs": [
    {
     "name": "stdout",
     "output_type": "stream",
     "text": [
      "Python\n",
      "Ml\n",
      "SQL\n"
     ]
    }
   ],
   "source": [
    "p = ['Python','Ml','SQL','Java','CSS','HTML']\n",
    "\n",
    "for i in p:\n",
    "    if i == 'Java':\n",
    "        break       #---it will terminate loop\n",
    "    else:\n",
    "        print(i)"
   ]
  },
  {
   "cell_type": "code",
   "execution_count": 29,
   "id": "bb60fddc",
   "metadata": {},
   "outputs": [
    {
     "name": "stdout",
     "output_type": "stream",
     "text": [
      "valid id---124\n",
      "valid id---654\n",
      "valid id---54\n",
      "valid id---658\n",
      "valid id---478\n",
      "valid id---24\n",
      "valid id---65\n",
      "invalid id---sdf\n"
     ]
    }
   ],
   "source": [
    "items = [124,654,54,658,478,24,65,'sdf',55,25,'agdh',356,4,25]\n",
    "\n",
    "for i in items:\n",
    "    if str(i).isnumeric():\n",
    "        print(\"valid id---{}\".format(i))\n",
    "    else:\n",
    "        print(\"invalid id---{}\".format(i))\n",
    "        break"
   ]
  },
  {
   "cell_type": "code",
   "execution_count": 31,
   "id": "539271ad",
   "metadata": {},
   "outputs": [
    {
     "name": "stdout",
     "output_type": "stream",
     "text": [
      "valid 124\n",
      "valid 654\n",
      "valid 54\n",
      "valid 658\n",
      "valid 478\n",
      "valid 24\n",
      "valid 65\n",
      "invlid sdf\n"
     ]
    }
   ],
   "source": [
    "for prd in items:\n",
    "    if str(prd).isnumeric():\n",
    "        print(\"valid {}\".format(prd))\n",
    "    else:\n",
    "        print(\"invlid {}\".format(i))\n",
    "        break"
   ]
  },
  {
   "cell_type": "code",
   "execution_count": 33,
   "id": "88cb6bd4",
   "metadata": {},
   "outputs": [
    {
     "name": "stdout",
     "output_type": "stream",
     "text": [
      "valid 124\n",
      "valid 654\n",
      "valid 54\n",
      "valid 658\n",
      "valid 478\n",
      "valid 24\n",
      "valid 65\n",
      "valid 55\n",
      "valid 25\n",
      "valid 356\n",
      "valid 4\n",
      "valid 25\n"
     ]
    }
   ],
   "source": [
    "for prd in items:\n",
    "    if str(prd).isnumeric():\n",
    "        print(\"valid {}\".format(prd))\n",
    "    else:\n",
    "        #print(\"invlid {}\".format(i))\n",
    "        continue"
   ]
  },
  {
   "cell_type": "code",
   "execution_count": null,
   "id": "134a84cc",
   "metadata": {},
   "outputs": [],
   "source": []
  },
  {
   "cell_type": "code",
   "execution_count": 44,
   "id": "c01a9726",
   "metadata": {},
   "outputs": [
    {
     "name": "stdout",
     "output_type": "stream",
     "text": [
      "124\n",
      "654\n",
      "54\n",
      "658\n",
      "478\n",
      "24\n",
      "65\n",
      "55\n",
      "25\n",
      "356\n",
      "4\n",
      "25\n"
     ]
    }
   ],
   "source": [
    "i = 0\n",
    "\n",
    "while i<=len(items)-1:\n",
    "    if str(items[i]).isnumeric():\n",
    "        print(items[i])\n",
    "    i=i+1"
   ]
  },
  {
   "cell_type": "code",
   "execution_count": 37,
   "id": "e8318781",
   "metadata": {},
   "outputs": [
    {
     "name": "stdout",
     "output_type": "stream",
     "text": [
      "valid 124\n",
      "valid 654\n",
      "valid 54\n",
      "valid 658\n",
      "valid 478\n",
      "valid 24\n",
      "valid 65\n",
      "invlid 0\n"
     ]
    }
   ],
   "source": [
    "for prd in items:\n",
    "    if str(prd).isnumeric():\n",
    "        print(\"valid {}\".format(prd))\n",
    "    else:\n",
    "        print(\"invlid {}\".format(i))\n",
    "        break"
   ]
  },
  {
   "cell_type": "code",
   "execution_count": 46,
   "id": "ef83de01",
   "metadata": {},
   "outputs": [
    {
     "name": "stdout",
     "output_type": "stream",
     "text": [
      "1\n",
      "2\n",
      "3\n"
     ]
    }
   ],
   "source": [
    "i = 0\n",
    "\n",
    "while i < 5:\n",
    "    if i ==3:\n",
    "        break\n",
    "    i+=1\n",
    "    print(i)"
   ]
  },
  {
   "cell_type": "code",
   "execution_count": 57,
   "id": "a8295724",
   "metadata": {},
   "outputs": [
    {
     "name": "stdout",
     "output_type": "stream",
     "text": [
      "1\n",
      "2\n",
      "3\n",
      "4\n",
      "5\n",
      "6\n",
      "7\n",
      "8\n",
      "9\n",
      "10\n"
     ]
    }
   ],
   "source": [
    "i = 0\n",
    "\n",
    "while i<=15:\n",
    "    if i==10:\n",
    "        break\n",
    "    i+=1\n",
    "    print(i)"
   ]
  },
  {
   "cell_type": "code",
   "execution_count": 60,
   "id": "8bef5dc5",
   "metadata": {},
   "outputs": [
    {
     "name": "stdout",
     "output_type": "stream",
     "text": [
      "num =  1\n",
      "num =  2\n",
      "num =  3\n"
     ]
    }
   ],
   "source": [
    "num = 0\n",
    "\n",
    "while num < 5:\n",
    "\tnum += 1   # num += 1 is same as num = num + 1\n",
    "\tif num > 3: # condition before exiting a loop\n",
    "\t\tcontinue\n",
    "\tprint('num = ', num)"
   ]
  },
  {
   "cell_type": "code",
   "execution_count": 61,
   "id": "ed4b5be7",
   "metadata": {},
   "outputs": [
    {
     "name": "stdout",
     "output_type": "stream",
     "text": [
      "num =  1\n",
      "num =  2\n",
      "num =  3\n",
      "num =  4\n",
      "num =  5\n",
      "num =  6\n",
      "num =  7\n",
      "num =  8\n",
      "num =  9\n",
      "num =  10\n",
      "num =  11\n",
      "num =  12\n",
      "num =  13\n",
      "num =  14\n",
      "num =  15\n",
      "else block executed\n"
     ]
    }
   ],
   "source": [
    "num = 0\n",
    "\n",
    "while num < 15:\n",
    "\tnum += 1   # num += 1 is same as num = num + 1\n",
    "\tprint('num = ', num)\n",
    "else:\n",
    "    print('else block executed')"
   ]
  },
  {
   "cell_type": "code",
   "execution_count": 62,
   "id": "3ac7f4db",
   "metadata": {},
   "outputs": [
    {
     "name": "stdout",
     "output_type": "stream",
     "text": [
      "enter any number .. -1 to exit: 10\n",
      "enter any number .. -1 to exit: 20\n",
      "enter any number .. -1 to exit: 32\n",
      "enter any number .. -1 to exit: 22\n",
      "enter any number .. -1 to exit: 22\n",
      "enter any number .. -1 to exit: 1\n",
      "enter any number .. -1 to exit: 1\n",
      "enter any number .. -1 to exit: 2\n",
      "enter any number .. -1 to exit: -1\n",
      "Total numbers:  8 , Average:  13.75\n"
     ]
    }
   ],
   "source": [
    "num=0\n",
    "count=0\n",
    "sum=0\n",
    "\n",
    "while num>=0:\n",
    "    num = int(input('enter any number .. -1 to exit: '))\n",
    "    if num >= 0:\n",
    "        count = count + 1 # this counts number of inputs\n",
    "        sum = sum + num # this adds input number cumulatively.\n",
    "avg = sum/count\n",
    "print('Total numbers: ', count, ', Average: ', avg)"
   ]
  },
  {
   "cell_type": "code",
   "execution_count": 64,
   "id": "4a83baba",
   "metadata": {},
   "outputs": [
    {
     "name": "stdout",
     "output_type": "stream",
     "text": [
      "enter any number--,1 to exit  15\n",
      "enter any number--,1 to exit  10\n",
      "enter any number--,1 to exit  10\n",
      "enter any number--,1 to exit  10\n",
      "enter any number--,1 to exit  10\n",
      "enter any number--,1 to exit  55\n",
      "enter any number--,1 to exit  -1\n"
     ]
    }
   ],
   "source": [
    "num = 0\n",
    "count = 0\n",
    "sum = 0\n",
    "\n",
    "while num >= 0:\n",
    "    num = int(input('enter any number--,1 to exit  '))\n",
    "    if num >= 0:\n",
    "        count = count+1\n",
    "        sum = sum+num\n",
    "avg = sum/num\n"
   ]
  },
  {
   "cell_type": "code",
   "execution_count": 2,
   "id": "3049c34d",
   "metadata": {},
   "outputs": [
    {
     "name": "stdout",
     "output_type": "stream",
     "text": [
      "1\n",
      "2\n",
      "3\n",
      "4\n",
      "5\n",
      "6\n",
      "7\n"
     ]
    }
   ],
   "source": [
    "a = 0\n",
    "\n",
    "while a <= 15:\n",
    "    if a==7:\n",
    "        break\n",
    "    a=a+1\n",
    "    print(a)"
   ]
  },
  {
   "cell_type": "code",
   "execution_count": null,
   "id": "758f4fa2",
   "metadata": {},
   "outputs": [],
   "source": []
  }
 ],
 "metadata": {
  "kernelspec": {
   "display_name": "Python 3 (ipykernel)",
   "language": "python",
   "name": "python3"
  },
  "language_info": {
   "codemirror_mode": {
    "name": "ipython",
    "version": 3
   },
   "file_extension": ".py",
   "mimetype": "text/x-python",
   "name": "python",
   "nbconvert_exporter": "python",
   "pygments_lexer": "ipython3",
   "version": "3.9.12"
  }
 },
 "nbformat": 4,
 "nbformat_minor": 5
}
