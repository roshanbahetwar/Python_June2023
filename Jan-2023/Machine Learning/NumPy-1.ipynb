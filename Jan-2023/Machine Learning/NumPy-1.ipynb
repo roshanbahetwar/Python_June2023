{
 "cells": [
  {
   "cell_type": "code",
   "execution_count": 1,
   "id": "91d827c5",
   "metadata": {},
   "outputs": [],
   "source": [
    "import numpy as np"
   ]
  },
  {
   "cell_type": "code",
   "execution_count": 2,
   "id": "a3acae71",
   "metadata": {},
   "outputs": [],
   "source": [
    "x = [[1,2,3],[6,5,4],[7,5,6]]"
   ]
  },
  {
   "cell_type": "code",
   "execution_count": 3,
   "id": "36154dba",
   "metadata": {},
   "outputs": [],
   "source": [
    "df = np.array(x)"
   ]
  },
  {
   "cell_type": "code",
   "execution_count": 6,
   "id": "7f6e4d87",
   "metadata": {},
   "outputs": [
    {
     "data": {
      "text/plain": [
       "array([[1, 2, 3],\n",
       "       [6, 5, 4],\n",
       "       [7, 5, 6]])"
      ]
     },
     "execution_count": 6,
     "metadata": {},
     "output_type": "execute_result"
    }
   ],
   "source": [
    "df"
   ]
  },
  {
   "cell_type": "code",
   "execution_count": 7,
   "id": "2200fb50",
   "metadata": {},
   "outputs": [
    {
     "data": {
      "text/plain": [
       "dtype('int32')"
      ]
     },
     "execution_count": 7,
     "metadata": {},
     "output_type": "execute_result"
    }
   ],
   "source": [
    "df.dtype"
   ]
  },
  {
   "cell_type": "code",
   "execution_count": 8,
   "id": "04771783",
   "metadata": {},
   "outputs": [
    {
     "data": {
      "text/plain": [
       "(3, 3)"
      ]
     },
     "execution_count": 8,
     "metadata": {},
     "output_type": "execute_result"
    }
   ],
   "source": [
    "df.shape"
   ]
  },
  {
   "cell_type": "code",
   "execution_count": 10,
   "id": "907de0cc",
   "metadata": {},
   "outputs": [
    {
     "data": {
      "text/plain": [
       "9"
      ]
     },
     "execution_count": 10,
     "metadata": {},
     "output_type": "execute_result"
    }
   ],
   "source": [
    "df.size"
   ]
  },
  {
   "cell_type": "code",
   "execution_count": 12,
   "id": "c432a3ac",
   "metadata": {},
   "outputs": [
    {
     "data": {
      "text/plain": [
       "2"
      ]
     },
     "execution_count": 12,
     "metadata": {},
     "output_type": "execute_result"
    }
   ],
   "source": [
    "df.ndim"
   ]
  },
  {
   "cell_type": "code",
   "execution_count": 14,
   "id": "6abb1143",
   "metadata": {},
   "outputs": [],
   "source": [
    "zeros = np.zeros((2,5))"
   ]
  },
  {
   "cell_type": "code",
   "execution_count": 15,
   "id": "8af36619",
   "metadata": {},
   "outputs": [
    {
     "data": {
      "text/plain": [
       "array([[0., 0., 0., 0., 0.],\n",
       "       [0., 0., 0., 0., 0.]])"
      ]
     },
     "execution_count": 15,
     "metadata": {},
     "output_type": "execute_result"
    }
   ],
   "source": [
    "zeros"
   ]
  },
  {
   "cell_type": "code",
   "execution_count": 25,
   "id": "efebaae2",
   "metadata": {},
   "outputs": [],
   "source": [
    "new_zero = np.zeros((3,3))"
   ]
  },
  {
   "cell_type": "code",
   "execution_count": 26,
   "id": "638b4f58",
   "metadata": {},
   "outputs": [
    {
     "data": {
      "text/plain": [
       "array([[0., 0., 0.],\n",
       "       [0., 0., 0.],\n",
       "       [0., 0., 0.]])"
      ]
     },
     "execution_count": 26,
     "metadata": {},
     "output_type": "execute_result"
    }
   ],
   "source": [
    "new_zero"
   ]
  },
  {
   "cell_type": "code",
   "execution_count": 27,
   "id": "4bb37458",
   "metadata": {},
   "outputs": [
    {
     "data": {
      "text/plain": [
       "dtype('float64')"
      ]
     },
     "execution_count": 27,
     "metadata": {},
     "output_type": "execute_result"
    }
   ],
   "source": [
    "new_zero.dtype"
   ]
  },
  {
   "cell_type": "code",
   "execution_count": 28,
   "id": "cf2c23fc",
   "metadata": {},
   "outputs": [
    {
     "data": {
      "text/plain": [
       "(3, 3)"
      ]
     },
     "execution_count": 28,
     "metadata": {},
     "output_type": "execute_result"
    }
   ],
   "source": [
    "new_zero.shape"
   ]
  },
  {
   "cell_type": "code",
   "execution_count": 20,
   "id": "88761f70",
   "metadata": {},
   "outputs": [
    {
     "data": {
      "text/plain": [
       "9"
      ]
     },
     "execution_count": 20,
     "metadata": {},
     "output_type": "execute_result"
    }
   ],
   "source": [
    "new_zero.size"
   ]
  },
  {
   "cell_type": "code",
   "execution_count": 21,
   "id": "d43d1060",
   "metadata": {},
   "outputs": [
    {
     "data": {
      "text/plain": [
       "2"
      ]
     },
     "execution_count": 21,
     "metadata": {},
     "output_type": "execute_result"
    }
   ],
   "source": [
    "new_zero.ndim"
   ]
  },
  {
   "cell_type": "code",
   "execution_count": 29,
   "id": "240c713f",
   "metadata": {},
   "outputs": [],
   "source": [
    "rng = np.arange(15)"
   ]
  },
  {
   "cell_type": "code",
   "execution_count": 30,
   "id": "806bb9e6",
   "metadata": {},
   "outputs": [
    {
     "data": {
      "text/plain": [
       "array([ 0,  1,  2,  3,  4,  5,  6,  7,  8,  9, 10, 11, 12, 13, 14])"
      ]
     },
     "execution_count": 30,
     "metadata": {},
     "output_type": "execute_result"
    }
   ],
   "source": [
    "rng"
   ]
  },
  {
   "cell_type": "code",
   "execution_count": 37,
   "id": "70eaf4a0",
   "metadata": {},
   "outputs": [],
   "source": [
    "rng1 = np.arange(15)"
   ]
  },
  {
   "cell_type": "code",
   "execution_count": 38,
   "id": "e4788edc",
   "metadata": {},
   "outputs": [
    {
     "data": {
      "text/plain": [
       "1"
      ]
     },
     "execution_count": 38,
     "metadata": {},
     "output_type": "execute_result"
    }
   ],
   "source": [
    "rng1.ndim"
   ]
  },
  {
   "cell_type": "code",
   "execution_count": 39,
   "id": "17f5470f",
   "metadata": {},
   "outputs": [
    {
     "data": {
      "text/plain": [
       "dtype('int32')"
      ]
     },
     "execution_count": 39,
     "metadata": {},
     "output_type": "execute_result"
    }
   ],
   "source": [
    "rng1.dtype"
   ]
  },
  {
   "cell_type": "code",
   "execution_count": 40,
   "id": "3fa78eb9",
   "metadata": {},
   "outputs": [],
   "source": [
    "arr = [[2,6,9],[11,12,10],[15,24,7]]"
   ]
  },
  {
   "cell_type": "code",
   "execution_count": 45,
   "id": "55f5e56f",
   "metadata": {},
   "outputs": [],
   "source": [
    "new_arr = np.array(arr)"
   ]
  },
  {
   "cell_type": "code",
   "execution_count": 46,
   "id": "33fda453",
   "metadata": {},
   "outputs": [
    {
     "data": {
      "text/plain": [
       "array([[ 2,  6,  9],\n",
       "       [11, 12, 10],\n",
       "       [15, 24,  7]])"
      ]
     },
     "execution_count": 46,
     "metadata": {},
     "output_type": "execute_result"
    }
   ],
   "source": [
    "new_arr"
   ]
  },
  {
   "cell_type": "code",
   "execution_count": 47,
   "id": "d296a822",
   "metadata": {},
   "outputs": [
    {
     "data": {
      "text/plain": [
       "array([28, 42, 26])"
      ]
     },
     "execution_count": 47,
     "metadata": {},
     "output_type": "execute_result"
    }
   ],
   "source": [
    "new_arr.sum(axis=0)"
   ]
  },
  {
   "cell_type": "code",
   "execution_count": 48,
   "id": "a2e6f0c7",
   "metadata": {},
   "outputs": [
    {
     "data": {
      "text/plain": [
       "array([17, 33, 46])"
      ]
     },
     "execution_count": 48,
     "metadata": {},
     "output_type": "execute_result"
    }
   ],
   "source": [
    "new_arr.sum(axis=1)     "
   ]
  },
  {
   "cell_type": "code",
   "execution_count": 49,
   "id": "69ad50b2",
   "metadata": {},
   "outputs": [
    {
     "data": {
      "text/plain": [
       "array([[ 2, 11, 15],\n",
       "       [ 6, 12, 24],\n",
       "       [ 9, 10,  7]])"
      ]
     },
     "execution_count": 49,
     "metadata": {},
     "output_type": "execute_result"
    }
   ],
   "source": [
    "new_arr.T                # Transpose of new_arr"
   ]
  },
  {
   "cell_type": "code",
   "execution_count": 54,
   "id": "1d7c8a7d",
   "metadata": {},
   "outputs": [
    {
     "data": {
      "text/plain": [
       "36"
      ]
     },
     "execution_count": 54,
     "metadata": {},
     "output_type": "execute_result"
    }
   ],
   "source": [
    "new_arr.nbytes"
   ]
  },
  {
   "cell_type": "code",
   "execution_count": 55,
   "id": "c0c9069c",
   "metadata": {},
   "outputs": [
    {
     "data": {
      "text/plain": [
       "24"
      ]
     },
     "execution_count": 55,
     "metadata": {},
     "output_type": "execute_result"
    }
   ],
   "source": [
    "new_arr.max()        # find max value"
   ]
  },
  {
   "cell_type": "code",
   "execution_count": 56,
   "id": "87c2193c",
   "metadata": {},
   "outputs": [
    {
     "data": {
      "text/plain": [
       "2"
      ]
     },
     "execution_count": 56,
     "metadata": {},
     "output_type": "execute_result"
    }
   ],
   "source": [
    "new_arr.min()        # find min value"
   ]
  },
  {
   "cell_type": "code",
   "execution_count": 58,
   "id": "c2f5062d",
   "metadata": {},
   "outputs": [
    {
     "data": {
      "text/plain": [
       "96"
      ]
     },
     "execution_count": 58,
     "metadata": {},
     "output_type": "execute_result"
    }
   ],
   "source": [
    "new_arr.sum()"
   ]
  },
  {
   "cell_type": "code",
   "execution_count": 61,
   "id": "25218e55",
   "metadata": {},
   "outputs": [
    {
     "data": {
      "text/plain": [
       "array([[ 2,  6,  9],\n",
       "       [11, 12, 10],\n",
       "       [15, 24,  7]])"
      ]
     },
     "execution_count": 61,
     "metadata": {},
     "output_type": "execute_result"
    }
   ],
   "source": [
    "new_arr"
   ]
  },
  {
   "cell_type": "code",
   "execution_count": 62,
   "id": "df8d81ac",
   "metadata": {},
   "outputs": [
    {
     "data": {
      "text/plain": [
       "7"
      ]
     },
     "execution_count": 62,
     "metadata": {},
     "output_type": "execute_result"
    }
   ],
   "source": [
    "new_arr.argmax()    # find max value index number"
   ]
  },
  {
   "cell_type": "code",
   "execution_count": 64,
   "id": "f79aced4",
   "metadata": {},
   "outputs": [
    {
     "data": {
      "text/plain": [
       "0"
      ]
     },
     "execution_count": 64,
     "metadata": {},
     "output_type": "execute_result"
    }
   ],
   "source": [
    "new_arr.argmin()       # find min value index number"
   ]
  },
  {
   "cell_type": "code",
   "execution_count": 68,
   "id": "552cc965",
   "metadata": {},
   "outputs": [
    {
     "data": {
      "text/plain": [
       "array([2, 6, 9])"
      ]
     },
     "execution_count": 68,
     "metadata": {},
     "output_type": "execute_result"
    }
   ],
   "source": [
    "new_arr[0]            # value fetch by index number"
   ]
  },
  {
   "cell_type": "code",
   "execution_count": 72,
   "id": "ee1e2ed3",
   "metadata": {},
   "outputs": [],
   "source": [
    "temp = np.array([2,5,44,66,58,52,12,35,54,95,65])"
   ]
  },
  {
   "cell_type": "code",
   "execution_count": 73,
   "id": "c6f58272",
   "metadata": {},
   "outputs": [
    {
     "data": {
      "text/plain": [
       "array([ 2,  5, 44, 66, 58, 52, 12, 35, 54, 95, 65])"
      ]
     },
     "execution_count": 73,
     "metadata": {},
     "output_type": "execute_result"
    }
   ],
   "source": [
    "temp"
   ]
  },
  {
   "cell_type": "code",
   "execution_count": 74,
   "id": "5688ff41",
   "metadata": {},
   "outputs": [
    {
     "data": {
      "text/plain": [
       "52"
      ]
     },
     "execution_count": 74,
     "metadata": {},
     "output_type": "execute_result"
    }
   ],
   "source": [
    "temp[5]               # value fetch by index number"
   ]
  },
  {
   "cell_type": "code",
   "execution_count": 75,
   "id": "5ec8aa47",
   "metadata": {},
   "outputs": [
    {
     "data": {
      "text/plain": [
       "array([[ 2,  6,  9],\n",
       "       [11, 12, 10],\n",
       "       [15, 24,  7]])"
      ]
     },
     "execution_count": 75,
     "metadata": {},
     "output_type": "execute_result"
    }
   ],
   "source": [
    "new_arr"
   ]
  },
  {
   "cell_type": "code",
   "execution_count": 76,
   "id": "62cd53f5",
   "metadata": {},
   "outputs": [
    {
     "data": {
      "text/plain": [
       "array([11, 12, 10])"
      ]
     },
     "execution_count": 76,
     "metadata": {},
     "output_type": "execute_result"
    }
   ],
   "source": [
    "new_arr[1,:]"
   ]
  },
  {
   "cell_type": "code",
   "execution_count": 77,
   "id": "6a439f10",
   "metadata": {},
   "outputs": [
    {
     "data": {
      "text/plain": [
       "array([11, 12, 10])"
      ]
     },
     "execution_count": 77,
     "metadata": {},
     "output_type": "execute_result"
    }
   ],
   "source": [
    "new_arr[1]"
   ]
  },
  {
   "cell_type": "code",
   "execution_count": 79,
   "id": "fcd675ba",
   "metadata": {},
   "outputs": [
    {
     "data": {
      "text/plain": [
       "array([[ 2,  6,  9],\n",
       "       [11, 12, 10],\n",
       "       [15, 24,  7]])"
      ]
     },
     "execution_count": 79,
     "metadata": {},
     "output_type": "execute_result"
    }
   ],
   "source": [
    "new_arr"
   ]
  },
  {
   "cell_type": "code",
   "execution_count": 78,
   "id": "572b008a",
   "metadata": {},
   "outputs": [
    {
     "data": {
      "text/plain": [
       "12"
      ]
     },
     "execution_count": 78,
     "metadata": {},
     "output_type": "execute_result"
    }
   ],
   "source": [
    "new_arr[1,1]       # access element 12 from array by using row index 1 and column index 1"
   ]
  },
  {
   "cell_type": "code",
   "execution_count": 80,
   "id": "ac462a83",
   "metadata": {},
   "outputs": [],
   "source": [
    "a = np.array([[[24,12,10],[2,3,8],[66,15,4]]])"
   ]
  },
  {
   "cell_type": "code",
   "execution_count": 81,
   "id": "9e68c439",
   "metadata": {},
   "outputs": [
    {
     "data": {
      "text/plain": [
       "3"
      ]
     },
     "execution_count": 81,
     "metadata": {},
     "output_type": "execute_result"
    }
   ],
   "source": [
    "a.ndim            # 3 dimensional data"
   ]
  },
  {
   "cell_type": "code",
   "execution_count": 82,
   "id": "f433c419",
   "metadata": {},
   "outputs": [],
   "source": [
    "b =  np.array([[[[24,12,10],[2,3,8],[66,15,4]]]])"
   ]
  },
  {
   "cell_type": "code",
   "execution_count": 84,
   "id": "9e8da7d8",
   "metadata": {},
   "outputs": [
    {
     "data": {
      "text/plain": [
       "4"
      ]
     },
     "execution_count": 84,
     "metadata": {},
     "output_type": "execute_result"
    }
   ],
   "source": [
    "b.ndim            # 4 dimensional data"
   ]
  },
  {
   "cell_type": "code",
   "execution_count": 85,
   "id": "2c2f2f0c",
   "metadata": {},
   "outputs": [
    {
     "data": {
      "text/plain": [
       "array([[[[24, 12, 10],\n",
       "         [ 2,  3,  8],\n",
       "         [66, 15,  4]]]])"
      ]
     },
     "execution_count": 85,
     "metadata": {},
     "output_type": "execute_result"
    }
   ],
   "source": [
    "b"
   ]
  },
  {
   "cell_type": "code",
   "execution_count": 89,
   "id": "ef78f4b9",
   "metadata": {},
   "outputs": [],
   "source": [
    "c = np.array([[[21,23,25],[1,2,3]],[[24,56,54],[65,41,42]]])"
   ]
  },
  {
   "cell_type": "code",
   "execution_count": 90,
   "id": "61895c52",
   "metadata": {},
   "outputs": [
    {
     "data": {
      "text/plain": [
       "array([[[21, 23, 25],\n",
       "        [ 1,  2,  3]],\n",
       "\n",
       "       [[24, 56, 54],\n",
       "        [65, 41, 42]]])"
      ]
     },
     "execution_count": 90,
     "metadata": {},
     "output_type": "execute_result"
    }
   ],
   "source": [
    "c"
   ]
  },
  {
   "cell_type": "code",
   "execution_count": 91,
   "id": "d10aea35",
   "metadata": {},
   "outputs": [
    {
     "data": {
      "text/plain": [
       "2"
      ]
     },
     "execution_count": 91,
     "metadata": {},
     "output_type": "execute_result"
    }
   ],
   "source": [
    "c[0,1,1]"
   ]
  },
  {
   "cell_type": "code",
   "execution_count": 92,
   "id": "5b97bb01",
   "metadata": {},
   "outputs": [
    {
     "data": {
      "text/plain": [
       "3"
      ]
     },
     "execution_count": 92,
     "metadata": {},
     "output_type": "execute_result"
    }
   ],
   "source": [
    "c.ndim"
   ]
  },
  {
   "cell_type": "code",
   "execution_count": 100,
   "id": "a981cfc0",
   "metadata": {},
   "outputs": [],
   "source": [
    "d = np.ones((2,2,2), dtype = 'int')"
   ]
  },
  {
   "cell_type": "code",
   "execution_count": 101,
   "id": "28b66959",
   "metadata": {},
   "outputs": [
    {
     "data": {
      "text/plain": [
       "3"
      ]
     },
     "execution_count": 101,
     "metadata": {},
     "output_type": "execute_result"
    }
   ],
   "source": [
    "d.ndim"
   ]
  },
  {
   "cell_type": "code",
   "execution_count": 102,
   "id": "c6d5120c",
   "metadata": {},
   "outputs": [
    {
     "data": {
      "text/plain": [
       "array([[[1, 1],\n",
       "        [1, 1]],\n",
       "\n",
       "       [[1, 1],\n",
       "        [1, 1]]])"
      ]
     },
     "execution_count": 102,
     "metadata": {},
     "output_type": "execute_result"
    }
   ],
   "source": [
    "d"
   ]
  },
  {
   "cell_type": "code",
   "execution_count": 103,
   "id": "2035c34b",
   "metadata": {},
   "outputs": [],
   "source": [
    "e = np.ones((4,4), dtype = 'int')     # 4x4 matrix and value is 1"
   ]
  },
  {
   "cell_type": "code",
   "execution_count": 106,
   "id": "8d884922",
   "metadata": {},
   "outputs": [
    {
     "data": {
      "text/plain": [
       "array([[1, 1, 1, 1],\n",
       "       [1, 1, 1, 1],\n",
       "       [1, 1, 1, 1],\n",
       "       [1, 1, 1, 1]])"
      ]
     },
     "execution_count": 106,
     "metadata": {},
     "output_type": "execute_result"
    }
   ],
   "source": [
    "e"
   ]
  },
  {
   "cell_type": "code",
   "execution_count": 109,
   "id": "6d9b7b2b",
   "metadata": {},
   "outputs": [
    {
     "data": {
      "text/plain": [
       "array([[0, 0, 0, 0],\n",
       "       [0, 0, 0, 0],\n",
       "       [0, 0, 0, 0],\n",
       "       [0, 0, 0, 0]])"
      ]
     },
     "execution_count": 109,
     "metadata": {},
     "output_type": "execute_result"
    }
   ],
   "source": [
    "np.zeros((4,4),dtype = 'int')     # matrix by 4x4 and value is zero"
   ]
  },
  {
   "cell_type": "code",
   "execution_count": 119,
   "id": "112a89c5",
   "metadata": {},
   "outputs": [
    {
     "data": {
      "text/plain": [
       "array([[25, 25, 25, 25],\n",
       "       [25, 25, 25, 25],\n",
       "       [25, 25, 25, 25],\n",
       "       [25, 25, 25, 25]])"
      ]
     },
     "execution_count": 119,
     "metadata": {},
     "output_type": "execute_result"
    }
   ],
   "source": [
    "np.full((4,4), 25)          # matrix by 4x4 and value is 25"
   ]
  },
  {
   "cell_type": "code",
   "execution_count": 120,
   "id": "cf5cffca",
   "metadata": {},
   "outputs": [
    {
     "data": {
      "text/plain": [
       "array([[0.44309799, 0.73943979, 0.31201324],\n",
       "       [0.90095118, 0.42008808, 0.22798578],\n",
       "       [0.96942701, 0.48821036, 0.77475937]])"
      ]
     },
     "execution_count": 120,
     "metadata": {},
     "output_type": "execute_result"
    }
   ],
   "source": [
    "np.random.rand(3,3)     # random value with matrix 3x3"
   ]
  },
  {
   "cell_type": "code",
   "execution_count": 123,
   "id": "a7d37c57",
   "metadata": {},
   "outputs": [
    {
     "data": {
      "text/plain": [
       "array([[40, 23, 40, 47],\n",
       "       [42, 35, 24, 12],\n",
       "       [30, 10, 47, 28],\n",
       "       [15, 40, 19, 30]])"
      ]
     },
     "execution_count": 123,
     "metadata": {},
     "output_type": "execute_result"
    }
   ],
   "source": [
    "np.random.randint(10,50, size = (4,4))      # value range from 10 to 50 randomly with matrix 4x4"
   ]
  },
  {
   "cell_type": "code",
   "execution_count": 124,
   "id": "0e046cd4",
   "metadata": {},
   "outputs": [
    {
     "data": {
      "text/plain": [
       "array([[1., 0., 0., 0.],\n",
       "       [0., 1., 0., 0.],\n",
       "       [0., 0., 1., 0.],\n",
       "       [0., 0., 0., 1.]])"
      ]
     },
     "execution_count": 124,
     "metadata": {},
     "output_type": "execute_result"
    }
   ],
   "source": [
    "np.identity(4)                     # identity matrix, diagonaly value is 1"
   ]
  },
  {
   "cell_type": "code",
   "execution_count": 125,
   "id": "79b0d445",
   "metadata": {},
   "outputs": [
    {
     "data": {
      "text/plain": [
       "array([[1, 1, 1, 1],\n",
       "       [1, 1, 1, 1],\n",
       "       [1, 1, 1, 1],\n",
       "       [1, 1, 1, 1]])"
      ]
     },
     "execution_count": 125,
     "metadata": {},
     "output_type": "execute_result"
    }
   ],
   "source": [
    "e"
   ]
  },
  {
   "cell_type": "code",
   "execution_count": 126,
   "id": "89bd72b1",
   "metadata": {},
   "outputs": [
    {
     "data": {
      "text/plain": [
       "array([[10, 10, 10, 10],\n",
       "       [10, 10, 10, 10],\n",
       "       [10, 10, 10, 10],\n",
       "       [10, 10, 10, 10]])"
      ]
     },
     "execution_count": 126,
     "metadata": {},
     "output_type": "execute_result"
    }
   ],
   "source": [
    "e*10         # value of e matrix multiply by 10"
   ]
  },
  {
   "cell_type": "code",
   "execution_count": 127,
   "id": "e4ce8a90",
   "metadata": {},
   "outputs": [
    {
     "data": {
      "text/plain": [
       "array([[0.1, 0.1, 0.1, 0.1],\n",
       "       [0.1, 0.1, 0.1, 0.1],\n",
       "       [0.1, 0.1, 0.1, 0.1],\n",
       "       [0.1, 0.1, 0.1, 0.1]])"
      ]
     },
     "execution_count": 127,
     "metadata": {},
     "output_type": "execute_result"
    }
   ],
   "source": [
    "e/10           # value of e matrix devide by 10"
   ]
  },
  {
   "cell_type": "code",
   "execution_count": 128,
   "id": "52f1358b",
   "metadata": {},
   "outputs": [
    {
     "data": {
      "text/plain": [
       "array([[51, 51, 51, 51],\n",
       "       [51, 51, 51, 51],\n",
       "       [51, 51, 51, 51],\n",
       "       [51, 51, 51, 51]])"
      ]
     },
     "execution_count": 128,
     "metadata": {},
     "output_type": "execute_result"
    }
   ],
   "source": [
    "e+50            # value of e matrix added by 10"
   ]
  },
  {
   "cell_type": "code",
   "execution_count": 134,
   "id": "3c7fc31c",
   "metadata": {},
   "outputs": [
    {
     "data": {
      "text/plain": [
       "array([[50, 50, 50, 50],\n",
       "       [50, 50, 50, 50],\n",
       "       [50, 50, 50, 50],\n",
       "       [50, 50, 50, 50]])"
      ]
     },
     "execution_count": 134,
     "metadata": {},
     "output_type": "execute_result"
    }
   ],
   "source": [
    "np.full((4,4),25)+25"
   ]
  },
  {
   "cell_type": "code",
   "execution_count": 135,
   "id": "259777c0",
   "metadata": {},
   "outputs": [],
   "source": [
    "temp1 = np.random.randint(10,50, size = (4,4))  "
   ]
  },
  {
   "cell_type": "code",
   "execution_count": 136,
   "id": "83f53002",
   "metadata": {},
   "outputs": [
    {
     "data": {
      "text/plain": [
       "array([[16, 44, 23, 30],\n",
       "       [36, 30, 31, 27],\n",
       "       [17, 14, 36, 42],\n",
       "       [38, 38, 24, 35]])"
      ]
     },
     "execution_count": 136,
     "metadata": {},
     "output_type": "execute_result"
    }
   ],
   "source": [
    "temp1"
   ]
  },
  {
   "cell_type": "code",
   "execution_count": 137,
   "id": "66654579",
   "metadata": {},
   "outputs": [
    {
     "data": {
      "text/plain": [
       "44"
      ]
     },
     "execution_count": 137,
     "metadata": {},
     "output_type": "execute_result"
    }
   ],
   "source": [
    "temp1.max()    # max value     method--1"
   ]
  },
  {
   "cell_type": "code",
   "execution_count": 138,
   "id": "f29a06fe",
   "metadata": {},
   "outputs": [
    {
     "data": {
      "text/plain": [
       "44"
      ]
     },
     "execution_count": 138,
     "metadata": {},
     "output_type": "execute_result"
    }
   ],
   "source": [
    "np.max(temp1)    # max value    method--2"
   ]
  },
  {
   "cell_type": "code",
   "execution_count": 139,
   "id": "33987819",
   "metadata": {},
   "outputs": [
    {
     "data": {
      "text/plain": [
       "14"
      ]
     },
     "execution_count": 139,
     "metadata": {},
     "output_type": "execute_result"
    }
   ],
   "source": [
    "np.min(temp1)     # min value"
   ]
  },
  {
   "cell_type": "code",
   "execution_count": 140,
   "id": "28b0658c",
   "metadata": {},
   "outputs": [
    {
     "data": {
      "text/plain": [
       "488"
      ]
     },
     "execution_count": 140,
     "metadata": {},
     "output_type": "execute_result"
    }
   ],
   "source": [
    "temp.sum()     # sum value  method--1"
   ]
  },
  {
   "cell_type": "code",
   "execution_count": 141,
   "id": "ebfe5422",
   "metadata": {},
   "outputs": [
    {
     "data": {
      "text/plain": [
       "488"
      ]
     },
     "execution_count": 141,
     "metadata": {},
     "output_type": "execute_result"
    }
   ],
   "source": [
    "np.sum(temp)    # sum value  method--2"
   ]
  },
  {
   "cell_type": "code",
   "execution_count": 146,
   "id": "b938b200",
   "metadata": {},
   "outputs": [
    {
     "data": {
      "text/plain": [
       "9"
      ]
     },
     "execution_count": 146,
     "metadata": {},
     "output_type": "execute_result"
    }
   ],
   "source": [
    "temp1.argmin()  # min value location number"
   ]
  },
  {
   "cell_type": "code",
   "execution_count": 147,
   "id": "ae85f76c",
   "metadata": {},
   "outputs": [
    {
     "data": {
      "text/plain": [
       "1"
      ]
     },
     "execution_count": 147,
     "metadata": {},
     "output_type": "execute_result"
    }
   ],
   "source": [
    "temp1.argmax()    # max value location number"
   ]
  },
  {
   "cell_type": "code",
   "execution_count": 148,
   "id": "be1015b4",
   "metadata": {},
   "outputs": [
    {
     "data": {
      "text/plain": [
       "array([[16, 44, 23, 30],\n",
       "       [36, 30, 31, 27],\n",
       "       [17, 14, 36, 42],\n",
       "       [38, 38, 24, 35]])"
      ]
     },
     "execution_count": 148,
     "metadata": {},
     "output_type": "execute_result"
    }
   ],
   "source": [
    "temp1"
   ]
  },
  {
   "cell_type": "code",
   "execution_count": 153,
   "id": "ad835ee8",
   "metadata": {},
   "outputs": [
    {
     "data": {
      "text/plain": [
       "array([[16, 44, 23, 30, 36, 30, 31, 27, 17, 14, 36, 42, 38, 38, 24, 35]])"
      ]
     },
     "execution_count": 153,
     "metadata": {},
     "output_type": "execute_result"
    }
   ],
   "source": [
    "# reshape in size\n",
    "\n",
    "temp1.reshape(1,16)"
   ]
  },
  {
   "cell_type": "code",
   "execution_count": 154,
   "id": "2c1377f8",
   "metadata": {},
   "outputs": [
    {
     "data": {
      "text/plain": [
       "array([[16],\n",
       "       [44],\n",
       "       [23],\n",
       "       [30],\n",
       "       [36],\n",
       "       [30],\n",
       "       [31],\n",
       "       [27],\n",
       "       [17],\n",
       "       [14],\n",
       "       [36],\n",
       "       [42],\n",
       "       [38],\n",
       "       [38],\n",
       "       [24],\n",
       "       [35]])"
      ]
     },
     "execution_count": 154,
     "metadata": {},
     "output_type": "execute_result"
    }
   ],
   "source": [
    "temp1.reshape(16,1)"
   ]
  },
  {
   "cell_type": "code",
   "execution_count": 155,
   "id": "3b4efd22",
   "metadata": {},
   "outputs": [],
   "source": [
    "m = np.array([25,65,45,18,177,6985,145,22,35,65])"
   ]
  },
  {
   "cell_type": "code",
   "execution_count": 158,
   "id": "0652043d",
   "metadata": {},
   "outputs": [
    {
     "data": {
      "text/plain": [
       "(array([1, 4, 5, 6, 9], dtype=int64),)"
      ]
     },
     "execution_count": 158,
     "metadata": {},
     "output_type": "execute_result"
    }
   ],
   "source": [
    "np.where(m>45)      # find index number greater than 45 values"
   ]
  },
  {
   "cell_type": "code",
   "execution_count": null,
   "id": "42272ab5",
   "metadata": {},
   "outputs": [],
   "source": []
  }
 ],
 "metadata": {
  "kernelspec": {
   "display_name": "Python 3 (ipykernel)",
   "language": "python",
   "name": "python3"
  },
  "language_info": {
   "codemirror_mode": {
    "name": "ipython",
    "version": 3
   },
   "file_extension": ".py",
   "mimetype": "text/x-python",
   "name": "python",
   "nbconvert_exporter": "python",
   "pygments_lexer": "ipython3",
   "version": "3.9.12"
  }
 },
 "nbformat": 4,
 "nbformat_minor": 5
}
