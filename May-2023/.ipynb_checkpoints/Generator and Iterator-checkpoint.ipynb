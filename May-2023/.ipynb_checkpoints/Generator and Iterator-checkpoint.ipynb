{
 "cells": [
  {
   "cell_type": "markdown",
   "id": "25713a84",
   "metadata": {},
   "source": [
    "# Iterator Concept Explanation :-\n",
    "\n",
    "#### :- List,Set,Dictionary, Tuple all are iterable objects not a Iterartor\n",
    "#### :-  from iterarble objects we create iterator by using iter() keyword.\n",
    "#### In Iterator 02 nos functions 1) iter() 2)next()\n"
   ]
  },
  {
   "cell_type": "code",
   "execution_count": null,
   "id": "500a8442",
   "metadata": {},
   "outputs": [],
   "source": []
  }
 ],
 "metadata": {
  "kernelspec": {
   "display_name": "Python 3 (ipykernel)",
   "language": "python",
   "name": "python3"
  },
  "language_info": {
   "codemirror_mode": {
    "name": "ipython",
    "version": 3
   },
   "file_extension": ".py",
   "mimetype": "text/x-python",
   "name": "python",
   "nbconvert_exporter": "python",
   "pygments_lexer": "ipython3",
   "version": "3.9.12"
  }
 },
 "nbformat": 4,
 "nbformat_minor": 5
}
