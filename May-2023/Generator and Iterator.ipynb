{
 "cells": [
  {
   "cell_type": "markdown",
   "id": "0b161e5a",
   "metadata": {},
   "source": [
    "# Iterator Concept Explanation :-\n",
    "\n",
    "#### :- List,Set,Dictionary, Tuple all are iterable objects not a Iterartor\n",
    "#### :-  from iterarble objects we create iterator by using iter() keyword.\n",
    "#### In Iterator 02 nos functions 1) iter() 2)next()\n"
   ]
  },
  {
   "cell_type": "code",
   "execution_count": 1,
   "id": "8c6c19ca",
   "metadata": {},
   "outputs": [],
   "source": [
    "lst = [1,2,3,4,'Roshan',5,6,7,'Bahetwar',8,9]"
   ]
  },
  {
   "cell_type": "code",
   "execution_count": 2,
   "id": "95d5b1c2",
   "metadata": {},
   "outputs": [],
   "source": [
    "i_lst = iter(lst)"
   ]
  },
  {
   "cell_type": "code",
   "execution_count": 3,
   "id": "e1096219",
   "metadata": {},
   "outputs": [
    {
     "name": "stdout",
     "output_type": "stream",
     "text": [
      "1\n"
     ]
    }
   ],
   "source": [
    "print(next(i_lst))"
   ]
  },
  {
   "cell_type": "code",
   "execution_count": 4,
   "id": "dd39c0cf",
   "metadata": {},
   "outputs": [
    {
     "data": {
      "text/plain": [
       "2"
      ]
     },
     "execution_count": 4,
     "metadata": {},
     "output_type": "execute_result"
    }
   ],
   "source": [
    "next(i_lst)"
   ]
  },
  {
   "cell_type": "code",
   "execution_count": 5,
   "id": "09b7a165",
   "metadata": {},
   "outputs": [
    {
     "data": {
      "text/plain": [
       "3"
      ]
     },
     "execution_count": 5,
     "metadata": {},
     "output_type": "execute_result"
    }
   ],
   "source": [
    "next(i_lst)"
   ]
  },
  {
   "cell_type": "code",
   "execution_count": 6,
   "id": "347beb77",
   "metadata": {},
   "outputs": [
    {
     "data": {
      "text/plain": [
       "4"
      ]
     },
     "execution_count": 6,
     "metadata": {},
     "output_type": "execute_result"
    }
   ],
   "source": [
    "next(i_lst)"
   ]
  },
  {
   "cell_type": "code",
   "execution_count": 7,
   "id": "10df3a71",
   "metadata": {},
   "outputs": [
    {
     "data": {
      "text/plain": [
       "'Roshan'"
      ]
     },
     "execution_count": 7,
     "metadata": {},
     "output_type": "execute_result"
    }
   ],
   "source": [
    "next(i_lst)"
   ]
  },
  {
   "cell_type": "code",
   "execution_count": 8,
   "id": "7d17e3b3",
   "metadata": {},
   "outputs": [],
   "source": [
    "lst1 = [1,2,3,4,'Roshan',5,6,7,'Bahetwar',8,9]"
   ]
  },
  {
   "cell_type": "code",
   "execution_count": 9,
   "id": "11edac15",
   "metadata": {},
   "outputs": [
    {
     "ename": "TypeError",
     "evalue": "'list' object is not an iterator",
     "output_type": "error",
     "traceback": [
      "\u001b[1;31m---------------------------------------------------------------------------\u001b[0m",
      "\u001b[1;31mTypeError\u001b[0m                                 Traceback (most recent call last)",
      "Input \u001b[1;32mIn [9]\u001b[0m, in \u001b[0;36m<cell line: 1>\u001b[1;34m()\u001b[0m\n\u001b[1;32m----> 1\u001b[0m \u001b[38;5;28;43mnext\u001b[39;49m\u001b[43m(\u001b[49m\u001b[43mlst1\u001b[49m\u001b[43m)\u001b[49m\n",
      "\u001b[1;31mTypeError\u001b[0m: 'list' object is not an iterator"
     ]
    }
   ],
   "source": [
    "next(lst1)        # so here seen that list is not an iterator, so use iter() to make an iterator"
   ]
  },
  {
   "cell_type": "code",
   "execution_count": null,
   "id": "308c3201",
   "metadata": {},
   "outputs": [],
   "source": []
  }
 ],
 "metadata": {
  "kernelspec": {
   "display_name": "Python 3 (ipykernel)",
   "language": "python",
   "name": "python3"
  },
  "language_info": {
   "codemirror_mode": {
    "name": "ipython",
    "version": 3
   },
   "file_extension": ".py",
   "mimetype": "text/x-python",
   "name": "python",
   "nbconvert_exporter": "python",
   "pygments_lexer": "ipython3",
   "version": "3.9.12"
  }
 },
 "nbformat": 4,
 "nbformat_minor": 5
}
