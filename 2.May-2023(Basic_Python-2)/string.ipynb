{
 "cells": [
  {
   "cell_type": "code",
   "execution_count": 1,
   "id": "72e26363",
   "metadata": {},
   "outputs": [],
   "source": [
    "# from Geeks for Gigs"
   ]
  },
  {
   "cell_type": "code",
   "execution_count": 3,
   "id": "53ceec96",
   "metadata": {},
   "outputs": [
    {
     "name": "stdout",
     "output_type": "stream",
     "text": [
      "Initial string:\n",
      "Geeks for Gigs\n",
      "\n",
      "first character of string:\n",
      "G\n",
      "\n",
      "last character of string:\n",
      "s\n",
      "This is original str:\n",
      " With Accessing Characters from a string, we can also reverse them\n",
      "\n",
      "This is reverse string:\n",
      " meht esrever osla nac ew ,gnirts a morf sretcarahC gnisseccA htiW\n"
     ]
    }
   ],
   "source": [
    "str = \"Geeks for Gigs\"\n",
    "print(\"Initial string:\")\n",
    "print(str)\n",
    "\n",
    "print('\\nfirst character of string:')\n",
    "print(str[0])\n",
    "\n",
    "print(\"\\nlast character of string:\")\n",
    "print(str[-1])\n",
    "\n",
    "str1 = \"With Accessing Characters from a string, we can also reverse them\"\n",
    "print('This is original str:\\n',str1)\n",
    "print('\\nThis is reverse string:\\n',str1[::-1])"
   ]
  },
  {
   "cell_type": "code",
   "execution_count": 18,
   "id": "9cbd5509",
   "metadata": {},
   "outputs": [
    {
     "name": "stdout",
     "output_type": "stream",
     "text": [
      "original:-->\n",
      " Hello This is Real world\n",
      "\n",
      "1.reverse by slicing:-->\n",
      " dlrow laeR si sihT olleH\n",
      "\n",
      "2.reverse by using join and reverse:-->\n",
      " dlrow laeR si sihT olleH\n",
      "\n",
      "by using join and reverse:-->\n",
      " dlrow olleh\n"
     ]
    }
   ],
   "source": [
    "a = 'Hello This is Real world'\n",
    "b = 'hello world'\n",
    "c = ''.join(reversed(a))\n",
    "\n",
    "print('original:-->\\n',a)\n",
    "print('\\n1.reverse by slicing:-->\\n',a[::-1])\n",
    "print('\\n2.reverse by using join and reverse:-->\\n',c)\n",
    "\n",
    "gh = ''.join(reversed(b))\n",
    "print('\\nby using join and reverse:-->\\n',gh)"
   ]
  },
  {
   "cell_type": "code",
   "execution_count": 19,
   "id": "3620fbd5",
   "metadata": {},
   "outputs": [
    {
     "name": "stdout",
     "output_type": "stream",
     "text": [
      "this is original:\n",
      "hello i am Roshan\n"
     ]
    }
   ],
   "source": [
    "name = 'hello i am Roshan'\n",
    "print('this is original:')\n",
    "print(name)"
   ]
  },
  {
   "cell_type": "code",
   "execution_count": 20,
   "id": "0957d562",
   "metadata": {},
   "outputs": [],
   "source": [
    "lst = list(name)"
   ]
  },
  {
   "cell_type": "code",
   "execution_count": 25,
   "id": "3754d27a",
   "metadata": {},
   "outputs": [
    {
     "name": "stdout",
     "output_type": "stream",
     "text": [
      "['G', 'e', 'l', 'l', 'o', ' ', 'i', ' ', 'a', 'm', ' ', 'R', 'o', 's', 'h', 'a', 'n']\n"
     ]
    }
   ],
   "source": [
    "print(lst)"
   ]
  },
  {
   "cell_type": "code",
   "execution_count": 23,
   "id": "a01ed780",
   "metadata": {},
   "outputs": [],
   "source": [
    "lst[0]='G'"
   ]
  },
  {
   "cell_type": "code",
   "execution_count": 27,
   "id": "4fcf254b",
   "metadata": {},
   "outputs": [],
   "source": [
    "str2 = ''.join(lst)"
   ]
  },
  {
   "cell_type": "code",
   "execution_count": 28,
   "id": "619dac5c",
   "metadata": {},
   "outputs": [
    {
     "data": {
      "text/plain": [
       "'Gello i am Roshan'"
      ]
     },
     "execution_count": 28,
     "metadata": {},
     "output_type": "execute_result"
    }
   ],
   "source": [
    "str2"
   ]
  },
  {
   "cell_type": "code",
   "execution_count": null,
   "id": "fceb1691",
   "metadata": {},
   "outputs": [],
   "source": [
    "# Deleting/Updating from a String (\n",
    "# Updation of character in string\n",
    "str = 'Good This is Roshan'\n",
    "\n",
    "sol = list(str)\n",
    "# print(sol)\n",
    "sol[2] = 'u'\n",
    "sol2 = ''.join(sol)\n",
    "print(sol2)\n",
    "\n",
    "# by using join function"
   ]
  },
  {
   "cell_type": "code",
   "execution_count": 29,
   "id": "17107150",
   "metadata": {},
   "outputs": [
    {
     "name": "stdout",
     "output_type": "stream",
     "text": [
      "Goud This is Roshan\n",
      "Mood This is Roshan\n",
      "Good Dhis is Roshan\n",
      "Good This is Roshan\n",
      "<class 'str'>\n"
     ]
    }
   ],
   "source": [
    "str = 'Good This is Roshan'\n",
    "sol = str[0:2] + 'u' + str[3:]   # updating by using slicing\n",
    "print(sol)\n",
    "sol1 = 'M'+ str[1:]\n",
    "print(sol1)\n",
    "\n",
    "sol2 = str[0:5] + 'D' + str[6:]\n",
    "print(sol2)\n",
    "print(str)\n",
    "del str\n",
    "\n",
    "print(str)"
   ]
  },
  {
   "cell_type": "code",
   "execution_count": 31,
   "id": "511b6928",
   "metadata": {},
   "outputs": [],
   "source": [
    "str = 'Good This is Roshan'"
   ]
  },
  {
   "cell_type": "code",
   "execution_count": 32,
   "id": "976ef3c7",
   "metadata": {},
   "outputs": [
    {
     "data": {
      "text/plain": [
       "'Good This is Roshan'"
      ]
     },
     "execution_count": 32,
     "metadata": {},
     "output_type": "execute_result"
    }
   ],
   "source": [
    "str"
   ]
  },
  {
   "cell_type": "code",
   "execution_count": 33,
   "id": "72fab731",
   "metadata": {},
   "outputs": [],
   "source": [
    "del str"
   ]
  },
  {
   "cell_type": "code",
   "execution_count": 34,
   "id": "0c909a12",
   "metadata": {},
   "outputs": [
    {
     "data": {
      "text/plain": [
       "str"
      ]
     },
     "execution_count": 34,
     "metadata": {},
     "output_type": "execute_result"
    }
   ],
   "source": [
    "str"
   ]
  },
  {
   "cell_type": "code",
   "execution_count": 8,
   "id": "78cc2e85",
   "metadata": {},
   "outputs": [],
   "source": [
    "str_num = \"\\\\101\\\\201\\\\305\\\\302\\\\309\""
   ]
  },
  {
   "cell_type": "code",
   "execution_count": 9,
   "id": "e9c27dd2",
   "metadata": {},
   "outputs": [
    {
     "data": {
      "text/plain": [
       "'\\\\101\\\\201\\\\305\\\\302\\\\309'"
      ]
     },
     "execution_count": 9,
     "metadata": {},
     "output_type": "execute_result"
    }
   ],
   "source": [
    "str_num"
   ]
  },
  {
   "cell_type": "code",
   "execution_count": null,
   "id": "b84c6ab6",
   "metadata": {},
   "outputs": [],
   "source": [
    "# string format"
   ]
  },
  {
   "cell_type": "code",
   "execution_count": 12,
   "id": "859bc440",
   "metadata": {},
   "outputs": [],
   "source": [
    "str = \"hello {} this is {}, meets to {}\".format('Roshan','Ajay','Mohan') # by using default order"
   ]
  },
  {
   "cell_type": "code",
   "execution_count": 13,
   "id": "587d4c4f",
   "metadata": {},
   "outputs": [
    {
     "data": {
      "text/plain": [
       "'hello Roshan this is Ajay, meets to Mohan'"
      ]
     },
     "execution_count": 13,
     "metadata": {},
     "output_type": "execute_result"
    }
   ],
   "source": [
    "str"
   ]
  },
  {
   "cell_type": "code",
   "execution_count": 16,
   "id": "2aed5787",
   "metadata": {},
   "outputs": [],
   "source": [
    "new_line = \"{2} and {0} and {1} are the best friends\".format('Amol','Umesh','rahul')  # by using  index number"
   ]
  },
  {
   "cell_type": "code",
   "execution_count": 17,
   "id": "def505a2",
   "metadata": {},
   "outputs": [
    {
     "data": {
      "text/plain": [
       "'rahul and Amol and Umesh are the best friends'"
      ]
     },
     "execution_count": 17,
     "metadata": {},
     "output_type": "execute_result"
    }
   ],
   "source": [
    "new_line"
   ]
  },
  {
   "cell_type": "code",
   "execution_count": 18,
   "id": "bb65dddf",
   "metadata": {},
   "outputs": [],
   "source": [
    "key_for = \"{k} and {g} and {l} are the brilliant students\".format(l = 'Akshay',k = 'Mohan',g= 'Ganesh') # by using keywords"
   ]
  },
  {
   "cell_type": "code",
   "execution_count": 27,
   "id": "9d4d1aef",
   "metadata": {},
   "outputs": [],
   "source": [
    "str = ''\n",
    "str1 = 'Roshan'"
   ]
  },
  {
   "cell_type": "code",
   "execution_count": 29,
   "id": "ea517888",
   "metadata": {},
   "outputs": [
    {
     "name": "stdout",
     "output_type": "stream",
     "text": [
      "''\n"
     ]
    }
   ],
   "source": [
    "print(repr(str and str1))"
   ]
  },
  {
   "cell_type": "code",
   "execution_count": 31,
   "id": "cd45dde4",
   "metadata": {},
   "outputs": [
    {
     "name": "stdout",
     "output_type": "stream",
     "text": [
      "''\n"
     ]
    }
   ],
   "source": [
    "print(repr(str1 and str))"
   ]
  },
  {
   "cell_type": "code",
   "execution_count": null,
   "id": "1d8cda98",
   "metadata": {},
   "outputs": [],
   "source": []
  },
  {
   "cell_type": "code",
   "execution_count": null,
   "id": "d601f143",
   "metadata": {},
   "outputs": [],
   "source": []
  },
  {
   "cell_type": "code",
   "execution_count": 19,
   "id": "0d7f5271",
   "metadata": {},
   "outputs": [
    {
     "data": {
      "text/plain": [
       "'Mohan and Ganesh and Akshay are the brilliant students'"
      ]
     },
     "execution_count": 19,
     "metadata": {},
     "output_type": "execute_result"
    }
   ],
   "source": [
    "key_for"
   ]
  },
  {
   "cell_type": "code",
   "execution_count": null,
   "id": "2bf62a36",
   "metadata": {},
   "outputs": [],
   "source": []
  },
  {
   "cell_type": "code",
   "execution_count": null,
   "id": "817fd218",
   "metadata": {},
   "outputs": [],
   "source": []
  },
  {
   "cell_type": "code",
   "execution_count": null,
   "id": "91ef3bdf",
   "metadata": {},
   "outputs": [],
   "source": []
  }
 ],
 "metadata": {
  "kernelspec": {
   "display_name": "Python 3 (ipykernel)",
   "language": "python",
   "name": "python3"
  },
  "language_info": {
   "codemirror_mode": {
    "name": "ipython",
    "version": 3
   },
   "file_extension": ".py",
   "mimetype": "text/x-python",
   "name": "python",
   "nbconvert_exporter": "python",
   "pygments_lexer": "ipython3",
   "version": "3.9.12"
  }
 },
 "nbformat": 4,
 "nbformat_minor": 5
}
