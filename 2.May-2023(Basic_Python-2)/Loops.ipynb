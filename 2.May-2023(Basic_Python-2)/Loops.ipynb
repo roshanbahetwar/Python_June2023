{
 "cells": [
  {
   "cell_type": "code",
   "execution_count": 1,
   "id": "a3e97a3d",
   "metadata": {},
   "outputs": [],
   "source": [
    "# for Loops"
   ]
  },
  {
   "cell_type": "code",
   "execution_count": 13,
   "id": "e359bac6",
   "metadata": {},
   "outputs": [],
   "source": [
    "py_lst = {'Python',45,'Hadoop''1515','15158998','ML','Scala'}"
   ]
  },
  {
   "cell_type": "code",
   "execution_count": 14,
   "id": "10e14474",
   "metadata": {},
   "outputs": [
    {
     "name": "stdout",
     "output_type": "stream",
     "text": [
      "Scala\n",
      "ML\n"
     ]
    },
    {
     "ename": "AttributeError",
     "evalue": "'int' object has no attribute 'isalpha'",
     "output_type": "error",
     "traceback": [
      "\u001b[1;31m---------------------------------------------------------------------------\u001b[0m",
      "\u001b[1;31mAttributeError\u001b[0m                            Traceback (most recent call last)",
      "Input \u001b[1;32mIn [14]\u001b[0m, in \u001b[0;36m<cell line: 1>\u001b[1;34m()\u001b[0m\n\u001b[0;32m      1\u001b[0m \u001b[38;5;28;01mfor\u001b[39;00m items \u001b[38;5;129;01min\u001b[39;00m py_lst:\n\u001b[1;32m----> 2\u001b[0m     \u001b[38;5;28;01mif\u001b[39;00m \u001b[43mitems\u001b[49m\u001b[38;5;241;43m.\u001b[39;49m\u001b[43misalpha\u001b[49m():\n\u001b[0;32m      3\u001b[0m         \u001b[38;5;28mprint\u001b[39m(items)\n",
      "\u001b[1;31mAttributeError\u001b[0m: 'int' object has no attribute 'isalpha'"
     ]
    }
   ],
   "source": [
    "py_lst = {'Python',45,'Hadoop''1515','15158998','ML','Scala'}\n",
    "for items in py_lst:\n",
    "    if items.isalpha():\n",
    "        print(items)"
   ]
  },
  {
   "cell_type": "code",
   "execution_count": 15,
   "id": "4d49f141",
   "metadata": {},
   "outputs": [
    {
     "data": {
      "text/plain": [
       "{'15158998', 45, 'Hadoop1515', 'ML', 'Python', 'Scala'}"
      ]
     },
     "execution_count": 15,
     "metadata": {},
     "output_type": "execute_result"
    }
   ],
   "source": [
    "py_lst"
   ]
  },
  {
   "cell_type": "code",
   "execution_count": 16,
   "id": "b4775a3a",
   "metadata": {},
   "outputs": [],
   "source": [
    "py_lst = ['Python',45,'Hadoop''1515','15158998','ML','Scala']"
   ]
  },
  {
   "cell_type": "code",
   "execution_count": 17,
   "id": "c46a5afa",
   "metadata": {},
   "outputs": [
    {
     "data": {
      "text/plain": [
       "['Python', 45, 'Hadoop1515', '15158998', 'ML', 'Scala']"
      ]
     },
     "execution_count": 17,
     "metadata": {},
     "output_type": "execute_result"
    }
   ],
   "source": [
    "py_lst"
   ]
  },
  {
   "cell_type": "code",
   "execution_count": 24,
   "id": "85d6488d",
   "metadata": {},
   "outputs": [
    {
     "name": "stdout",
     "output_type": "stream",
     "text": [
      "45\n",
      "15158998\n"
     ]
    }
   ],
   "source": [
    "for i in py_lst:\n",
    "    if str(i).isnumeric():\n",
    "        print(i)"
   ]
  },
  {
   "cell_type": "code",
   "execution_count": 25,
   "id": "36fbde42",
   "metadata": {},
   "outputs": [],
   "source": [
    "email = ['rosh@gmail.com','ahja@yahoo.com','fsgsf@hotmail.com','jsgjgj@gmail.com','sghsgh@gmail.com']"
   ]
  },
  {
   "cell_type": "code",
   "execution_count": 32,
   "id": "b77470c8",
   "metadata": {},
   "outputs": [
    {
     "name": "stdout",
     "output_type": "stream",
     "text": [
      "rosh@gmail.com\n",
      "jsgjgj@gmail.com\n",
      "sghsgh@gmail.com\n"
     ]
    }
   ],
   "source": [
    "for i in email:\n",
    "    if i.endswith('gmail.com'):\n",
    "        print(i)"
   ]
  },
  {
   "cell_type": "code",
   "execution_count": 36,
   "id": "c9d30969",
   "metadata": {},
   "outputs": [
    {
     "name": "stdout",
     "output_type": "stream",
     "text": [
      "valid:- rosh@gmail.com\n",
      "invalid:- ahja@yahoo.com\n",
      "invalid:- fsgsf@hotmail.com\n",
      "valid:- jsgjgj@gmail.com\n",
      "valid:- sghsgh@gmail.com\n"
     ]
    }
   ],
   "source": [
    "for i in email:\n",
    "    if i.endswith('gmail.com'):\n",
    "        print(f'valid:- {i}')\n",
    "    else:\n",
    "        print(f'invalid:- {i}')"
   ]
  },
  {
   "cell_type": "code",
   "execution_count": 37,
   "id": "6f565960",
   "metadata": {},
   "outputs": [
    {
     "data": {
      "text/plain": [
       "['rosh@gmail.com',\n",
       " 'ahja@yahoo.com',\n",
       " 'fsgsf@hotmail.com',\n",
       " 'jsgjgj@gmail.com',\n",
       " 'sghsgh@gmail.com']"
      ]
     },
     "execution_count": 37,
     "metadata": {},
     "output_type": "execute_result"
    }
   ],
   "source": [
    "email"
   ]
  },
  {
   "cell_type": "code",
   "execution_count": 40,
   "id": "8e0a6ea3",
   "metadata": {},
   "outputs": [
    {
     "name": "stdout",
     "output_type": "stream",
     "text": [
      "rosh@gmail.com\n",
      "jsgjgj@gmail.com\n",
      "sghsgh@gmail.com\n"
     ]
    }
   ],
   "source": [
    "for i in email:\n",
    "    if 'gmail' in i:\n",
    "        print(i)"
   ]
  },
  {
   "cell_type": "code",
   "execution_count": 43,
   "id": "ec40e88d",
   "metadata": {},
   "outputs": [
    {
     "name": "stdout",
     "output_type": "stream",
     "text": [
      "325 54 53 543 56 54 95 653 65 "
     ]
    }
   ],
   "source": [
    "a = [12,325,54,3,53,543,56,54,87,95,63,74,34,653,65,37]\n",
    "\n",
    "for i in a:\n",
    "    if '5' in str(i):\n",
    "        print(i,end = ' ')"
   ]
  },
  {
   "cell_type": "code",
   "execution_count": 45,
   "id": "369f56bb",
   "metadata": {},
   "outputs": [
    {
     "name": "stdout",
     "output_type": "stream",
     "text": [
      "even number 12\n",
      "odd number 325\n",
      "even number 54\n",
      "odd number 3\n",
      "odd number 53\n",
      "odd number 543\n",
      "even number 56\n",
      "even number 54\n",
      "odd number 87\n",
      "odd number 95\n",
      "odd number 63\n",
      "even number 74\n",
      "even number 34\n",
      "odd number 653\n",
      "odd number 65\n",
      "odd number 37\n"
     ]
    }
   ],
   "source": [
    "for i in a:\n",
    "    if i % 2 == 0:\n",
    "        print(f\"even number {i}\")\n",
    "    else:\n",
    "        print(f\"odd number {i}\")"
   ]
  },
  {
   "cell_type": "code",
   "execution_count": 46,
   "id": "acbe1d1a",
   "metadata": {},
   "outputs": [],
   "source": [
    "lst = list(range(1,5))"
   ]
  },
  {
   "cell_type": "code",
   "execution_count": 47,
   "id": "c8e51021",
   "metadata": {},
   "outputs": [
    {
     "data": {
      "text/plain": [
       "[1, 2, 3, 4]"
      ]
     },
     "execution_count": 47,
     "metadata": {},
     "output_type": "execute_result"
    }
   ],
   "source": [
    "lst"
   ]
  },
  {
   "cell_type": "code",
   "execution_count": 48,
   "id": "05015f31",
   "metadata": {},
   "outputs": [
    {
     "name": "stdout",
     "output_type": "stream",
     "text": [
      "1\n",
      "2\n",
      "3\n",
      "4\n",
      "5\n",
      "6\n",
      "7\n",
      "8\n",
      "9\n"
     ]
    }
   ],
   "source": [
    "for i in list(range(1,10)):\n",
    "    print(i)"
   ]
  },
  {
   "cell_type": "code",
   "execution_count": 51,
   "id": "1c4734f0",
   "metadata": {},
   "outputs": [
    {
     "name": "stdout",
     "output_type": "stream",
     "text": [
      "R o s h a n "
     ]
    }
   ],
   "source": [
    "for i in 'Roshan':\n",
    "    print(i,end=' ')"
   ]
  },
  {
   "cell_type": "code",
   "execution_count": 52,
   "id": "e8785711",
   "metadata": {},
   "outputs": [],
   "source": [
    "lst_d = {'one':1,'two':2,'three':3,'four':4}"
   ]
  },
  {
   "cell_type": "code",
   "execution_count": 66,
   "id": "ab3f5e33",
   "metadata": {},
   "outputs": [
    {
     "name": "stdout",
     "output_type": "stream",
     "text": [
      "key:- one value:- 1\n",
      "key:- two value:- 2\n",
      "key:- three value:- 3\n",
      "key:- four value:- 4\n"
     ]
    }
   ],
   "source": [
    "for k,v in lst_d.items():\n",
    "    print('key:- '+k,'value:- '+ str(v))"
   ]
  },
  {
   "cell_type": "code",
   "execution_count": 81,
   "id": "14f68547",
   "metadata": {},
   "outputs": [
    {
     "name": "stdout",
     "output_type": "stream",
     "text": [
      "1\n",
      "2\n",
      "3\n",
      "4\n",
      "5\n"
     ]
    }
   ],
   "source": [
    "for i in range(1,10):\n",
    "    if i >5:\n",
    "        continue\n",
    "    print(i)"
   ]
  },
  {
   "cell_type": "code",
   "execution_count": 79,
   "id": "c96b042d",
   "metadata": {},
   "outputs": [
    {
     "name": "stdout",
     "output_type": "stream",
     "text": [
      "1\n",
      "2\n",
      "3\n",
      "4\n",
      "5\n"
     ]
    }
   ],
   "source": [
    "for i in range(1, 10):\n",
    "    if i > 5:\n",
    "        continue\n",
    "    print(i)"
   ]
  },
  {
   "cell_type": "code",
   "execution_count": 88,
   "id": "850c6376",
   "metadata": {},
   "outputs": [
    {
     "name": "stdout",
     "output_type": "stream",
     "text": [
      "x 1 y 1\n",
      "x 1 y 2\n",
      "x 2 y 1\n",
      "x 2 y 2\n",
      "x 3 y 1\n",
      "x 3 y 2\n",
      "x 4 y 1\n",
      "x 4 y 2\n"
     ]
    }
   ],
   "source": [
    "for x in range(1,5):\n",
    "    for y in range(1,3):\n",
    "        print('x',x,'y',y)"
   ]
  },
  {
   "cell_type": "code",
   "execution_count": 89,
   "id": "7b050dfe",
   "metadata": {},
   "outputs": [],
   "source": [
    "py_dict = {'name':'Roshan','age': 29,'sal':75000,'id':2274}"
   ]
  },
  {
   "cell_type": "code",
   "execution_count": 102,
   "id": "d3656165",
   "metadata": {},
   "outputs": [
    {
     "name": "stdout",
     "output_type": "stream",
     "text": [
      "name Roshan\n",
      "age 29\n"
     ]
    }
   ],
   "source": [
    "for i in py_dict.keys():\n",
    "    if i in ['name','age']:\n",
    "        print(i,py_dict[i])"
   ]
  },
  {
   "cell_type": "code",
   "execution_count": 103,
   "id": "268d448f",
   "metadata": {},
   "outputs": [],
   "source": [
    "sqr = ['Roshan','Mohan','Heena','Ajay','Naman']"
   ]
  },
  {
   "cell_type": "code",
   "execution_count": 106,
   "id": "13253ac9",
   "metadata": {},
   "outputs": [
    {
     "name": "stdout",
     "output_type": "stream",
     "text": [
      "0 Roshan\n",
      "1 Mohan\n",
      "2 Heena\n",
      "3 Ajay\n",
      "4 Naman\n"
     ]
    }
   ],
   "source": [
    "for i,square in enumerate(sqr):\n",
    "    \n",
    "    print(i,square)"
   ]
  },
  {
   "cell_type": "code",
   "execution_count": 107,
   "id": "33649442",
   "metadata": {},
   "outputs": [
    {
     "name": "stdout",
     "output_type": "stream",
     "text": [
      "5\n",
      "4\n",
      "3\n"
     ]
    }
   ],
   "source": [
    "x = 5\n",
    "while(x!=2):\n",
    "    print(x)\n",
    "    x= x-1"
   ]
  },
  {
   "cell_type": "code",
   "execution_count": 109,
   "id": "ae24c30b",
   "metadata": {},
   "outputs": [
    {
     "name": "stdout",
     "output_type": "stream",
     "text": [
      "0 AA\n",
      "1 BB\n",
      "2 CC\n"
     ]
    }
   ],
   "source": [
    "for i, x in enumerate(['A','B','C']):\n",
    "    print(i,x*2)"
   ]
  },
  {
   "cell_type": "code",
   "execution_count": 110,
   "id": "8de2bc8b",
   "metadata": {},
   "outputs": [
    {
     "name": "stdout",
     "output_type": "stream",
     "text": [
      "x= 2  y= 2\n"
     ]
    }
   ],
   "source": [
    "class Points(object):\n",
    "  def __init__(self,x,y):\n",
    "\n",
    "    self.x=x\n",
    "    self.y=y\n",
    "\n",
    "  def print_point(self):\n",
    "\n",
    "    print('x=',self.x,' y=',self.y)\n",
    "\n",
    "p2=Points(1,2)\n",
    "\n",
    "p2.x=2\n",
    "\n",
    "p2.print_point()"
   ]
  },
  {
   "cell_type": "code",
   "execution_count": 111,
   "id": "e14b8113",
   "metadata": {},
   "outputs": [
    {
     "name": "stdout",
     "output_type": "stream",
     "text": [
      "2\n"
     ]
    }
   ],
   "source": [
    "a=1\n",
    "\n",
    "def do(x):\n",
    "    return(x+a)\n",
    "\n",
    "print(do(1))"
   ]
  },
  {
   "cell_type": "code",
   "execution_count": null,
   "id": "949568bc",
   "metadata": {},
   "outputs": [],
   "source": []
  }
 ],
 "metadata": {
  "kernelspec": {
   "display_name": "Python 3 (ipykernel)",
   "language": "python",
   "name": "python3"
  },
  "language_info": {
   "codemirror_mode": {
    "name": "ipython",
    "version": 3
   },
   "file_extension": ".py",
   "mimetype": "text/x-python",
   "name": "python",
   "nbconvert_exporter": "python",
   "pygments_lexer": "ipython3",
   "version": "3.9.12"
  }
 },
 "nbformat": 4,
 "nbformat_minor": 5
}
