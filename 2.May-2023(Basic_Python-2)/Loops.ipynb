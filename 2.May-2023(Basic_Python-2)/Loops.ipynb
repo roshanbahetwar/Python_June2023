{
 "cells": [
  {
   "cell_type": "code",
   "execution_count": 1,
   "id": "16688a24",
   "metadata": {},
   "outputs": [],
   "source": [
    "# for Loops"
   ]
  },
  {
   "cell_type": "code",
   "execution_count": 13,
   "id": "04fafaff",
   "metadata": {},
   "outputs": [],
   "source": [
    "py_lst = {'Python',45,'Hadoop''1515','15158998','ML','Scala'}"
   ]
  },
  {
   "cell_type": "code",
   "execution_count": 14,
   "id": "44456acd",
   "metadata": {},
   "outputs": [
    {
     "name": "stdout",
     "output_type": "stream",
     "text": [
      "Scala\n",
      "ML\n"
     ]
    },
    {
     "ename": "AttributeError",
     "evalue": "'int' object has no attribute 'isalpha'",
     "output_type": "error",
     "traceback": [
      "\u001b[1;31m---------------------------------------------------------------------------\u001b[0m",
      "\u001b[1;31mAttributeError\u001b[0m                            Traceback (most recent call last)",
      "Input \u001b[1;32mIn [14]\u001b[0m, in \u001b[0;36m<cell line: 1>\u001b[1;34m()\u001b[0m\n\u001b[0;32m      1\u001b[0m \u001b[38;5;28;01mfor\u001b[39;00m items \u001b[38;5;129;01min\u001b[39;00m py_lst:\n\u001b[1;32m----> 2\u001b[0m     \u001b[38;5;28;01mif\u001b[39;00m \u001b[43mitems\u001b[49m\u001b[38;5;241;43m.\u001b[39;49m\u001b[43misalpha\u001b[49m():\n\u001b[0;32m      3\u001b[0m         \u001b[38;5;28mprint\u001b[39m(items)\n",
      "\u001b[1;31mAttributeError\u001b[0m: 'int' object has no attribute 'isalpha'"
     ]
    }
   ],
   "source": [
    "py_lst = {'Python',45,'Hadoop''1515','15158998','ML','Scala'}\n",
    "for items in py_lst:\n",
    "    if items.isalpha():\n",
    "        print(items)"
   ]
  },
  {
   "cell_type": "code",
   "execution_count": 15,
   "id": "2425681a",
   "metadata": {},
   "outputs": [
    {
     "data": {
      "text/plain": [
       "{'15158998', 45, 'Hadoop1515', 'ML', 'Python', 'Scala'}"
      ]
     },
     "execution_count": 15,
     "metadata": {},
     "output_type": "execute_result"
    }
   ],
   "source": [
    "py_lst"
   ]
  },
  {
   "cell_type": "code",
   "execution_count": 16,
   "id": "68d2ae1b",
   "metadata": {},
   "outputs": [],
   "source": [
    "py_lst = ['Python',45,'Hadoop''1515','15158998','ML','Scala']"
   ]
  },
  {
   "cell_type": "code",
   "execution_count": 17,
   "id": "210c9c48",
   "metadata": {},
   "outputs": [
    {
     "data": {
      "text/plain": [
       "['Python', 45, 'Hadoop1515', '15158998', 'ML', 'Scala']"
      ]
     },
     "execution_count": 17,
     "metadata": {},
     "output_type": "execute_result"
    }
   ],
   "source": [
    "py_lst"
   ]
  },
  {
   "cell_type": "code",
   "execution_count": 24,
   "id": "5d6070e5",
   "metadata": {},
   "outputs": [
    {
     "name": "stdout",
     "output_type": "stream",
     "text": [
      "45\n",
      "15158998\n"
     ]
    }
   ],
   "source": [
    "for i in py_lst:\n",
    "    if str(i).isnumeric():\n",
    "        print(i)"
   ]
  },
  {
   "cell_type": "code",
   "execution_count": 25,
   "id": "6075c823",
   "metadata": {},
   "outputs": [],
   "source": [
    "email = ['rosh@gmail.com','ahja@yahoo.com','fsgsf@hotmail.com','jsgjgj@gmail.com','sghsgh@gmail.com']"
   ]
  },
  {
   "cell_type": "code",
   "execution_count": 32,
   "id": "15d8b168",
   "metadata": {},
   "outputs": [
    {
     "name": "stdout",
     "output_type": "stream",
     "text": [
      "rosh@gmail.com\n",
      "jsgjgj@gmail.com\n",
      "sghsgh@gmail.com\n"
     ]
    }
   ],
   "source": [
    "for i in email:\n",
    "    if i.endswith('gmail.com'):\n",
    "        print(i)"
   ]
  },
  {
   "cell_type": "code",
   "execution_count": 36,
   "id": "6982a945",
   "metadata": {},
   "outputs": [
    {
     "name": "stdout",
     "output_type": "stream",
     "text": [
      "valid:- rosh@gmail.com\n",
      "invalid:- ahja@yahoo.com\n",
      "invalid:- fsgsf@hotmail.com\n",
      "valid:- jsgjgj@gmail.com\n",
      "valid:- sghsgh@gmail.com\n"
     ]
    }
   ],
   "source": [
    "for i in email:\n",
    "    if i.endswith('gmail.com'):\n",
    "        print(f'valid:- {i}')\n",
    "    else:\n",
    "        print(f'invalid:- {i}')"
   ]
  },
  {
   "cell_type": "code",
   "execution_count": 37,
   "id": "4eeaed3b",
   "metadata": {},
   "outputs": [
    {
     "data": {
      "text/plain": [
       "['rosh@gmail.com',\n",
       " 'ahja@yahoo.com',\n",
       " 'fsgsf@hotmail.com',\n",
       " 'jsgjgj@gmail.com',\n",
       " 'sghsgh@gmail.com']"
      ]
     },
     "execution_count": 37,
     "metadata": {},
     "output_type": "execute_result"
    }
   ],
   "source": [
    "email"
   ]
  },
  {
   "cell_type": "code",
   "execution_count": 40,
   "id": "99c68d16",
   "metadata": {},
   "outputs": [
    {
     "name": "stdout",
     "output_type": "stream",
     "text": [
      "rosh@gmail.com\n",
      "jsgjgj@gmail.com\n",
      "sghsgh@gmail.com\n"
     ]
    }
   ],
   "source": [
    "for i in email:\n",
    "    if 'gmail' in i:\n",
    "        print(i)"
   ]
  },
  {
   "cell_type": "code",
   "execution_count": 43,
   "id": "bb269141",
   "metadata": {},
   "outputs": [
    {
     "name": "stdout",
     "output_type": "stream",
     "text": [
      "325 54 53 543 56 54 95 653 65 "
     ]
    }
   ],
   "source": [
    "a = [12,325,54,3,53,543,56,54,87,95,63,74,34,653,65,37]\n",
    "\n",
    "for i in a:\n",
    "    if '5' in str(i):\n",
    "        print(i,end = ' ')"
   ]
  },
  {
   "cell_type": "code",
   "execution_count": 45,
   "id": "569b5024",
   "metadata": {},
   "outputs": [
    {
     "name": "stdout",
     "output_type": "stream",
     "text": [
      "even number 12\n",
      "odd number 325\n",
      "even number 54\n",
      "odd number 3\n",
      "odd number 53\n",
      "odd number 543\n",
      "even number 56\n",
      "even number 54\n",
      "odd number 87\n",
      "odd number 95\n",
      "odd number 63\n",
      "even number 74\n",
      "even number 34\n",
      "odd number 653\n",
      "odd number 65\n",
      "odd number 37\n"
     ]
    }
   ],
   "source": [
    "for i in a:\n",
    "    if i % 2 == 0:\n",
    "        print(f\"even number {i}\")\n",
    "    else:\n",
    "        print(f\"odd number {i}\")"
   ]
  },
  {
   "cell_type": "code",
   "execution_count": 46,
   "id": "6a859f71",
   "metadata": {},
   "outputs": [],
   "source": [
    "lst = list(range(1,5))"
   ]
  },
  {
   "cell_type": "code",
   "execution_count": 47,
   "id": "2ab32faa",
   "metadata": {},
   "outputs": [
    {
     "data": {
      "text/plain": [
       "[1, 2, 3, 4]"
      ]
     },
     "execution_count": 47,
     "metadata": {},
     "output_type": "execute_result"
    }
   ],
   "source": [
    "lst"
   ]
  },
  {
   "cell_type": "code",
   "execution_count": 48,
   "id": "9eddd128",
   "metadata": {},
   "outputs": [
    {
     "name": "stdout",
     "output_type": "stream",
     "text": [
      "1\n",
      "2\n",
      "3\n",
      "4\n",
      "5\n",
      "6\n",
      "7\n",
      "8\n",
      "9\n"
     ]
    }
   ],
   "source": [
    "for i in list(range(1,10)):\n",
    "    print(i)"
   ]
  },
  {
   "cell_type": "code",
   "execution_count": 51,
   "id": "39812099",
   "metadata": {},
   "outputs": [
    {
     "name": "stdout",
     "output_type": "stream",
     "text": [
      "R o s h a n "
     ]
    }
   ],
   "source": [
    "for i in 'Roshan':\n",
    "    print(i,end=' ')"
   ]
  },
  {
   "cell_type": "code",
   "execution_count": 52,
   "id": "75e11254",
   "metadata": {},
   "outputs": [],
   "source": [
    "lst_d = {'one':1,'two':2,'three':3,'four':4}"
   ]
  },
  {
   "cell_type": "code",
   "execution_count": 66,
   "id": "326e6624",
   "metadata": {},
   "outputs": [
    {
     "name": "stdout",
     "output_type": "stream",
     "text": [
      "key:- one value:- 1\n",
      "key:- two value:- 2\n",
      "key:- three value:- 3\n",
      "key:- four value:- 4\n"
     ]
    }
   ],
   "source": [
    "for k,v in lst_d.items():\n",
    "    print('key:- '+k,'value:- '+ str(v))"
   ]
  },
  {
   "cell_type": "code",
   "execution_count": 81,
   "id": "8ba9621d",
   "metadata": {},
   "outputs": [
    {
     "name": "stdout",
     "output_type": "stream",
     "text": [
      "1\n",
      "2\n",
      "3\n",
      "4\n",
      "5\n"
     ]
    }
   ],
   "source": [
    "for i in range(1,10):\n",
    "    if i >5:\n",
    "        continue\n",
    "    print(i)"
   ]
  },
  {
   "cell_type": "code",
   "execution_count": 79,
   "id": "ff853d06",
   "metadata": {},
   "outputs": [
    {
     "name": "stdout",
     "output_type": "stream",
     "text": [
      "1\n",
      "2\n",
      "3\n",
      "4\n",
      "5\n"
     ]
    }
   ],
   "source": [
    "for i in range(1, 10):\n",
    "    if i > 5:\n",
    "        continue\n",
    "    print(i)"
   ]
  },
  {
   "cell_type": "code",
   "execution_count": 88,
   "id": "71d9cfb5",
   "metadata": {},
   "outputs": [
    {
     "name": "stdout",
     "output_type": "stream",
     "text": [
      "x 1 y 1\n",
      "x 1 y 2\n",
      "x 2 y 1\n",
      "x 2 y 2\n",
      "x 3 y 1\n",
      "x 3 y 2\n",
      "x 4 y 1\n",
      "x 4 y 2\n"
     ]
    }
   ],
   "source": [
    "for x in range(1,5):\n",
    "    for y in range(1,3):\n",
    "        print('x',x,'y',y)"
   ]
  },
  {
   "cell_type": "code",
   "execution_count": 89,
   "id": "7754f5cd",
   "metadata": {},
   "outputs": [],
   "source": [
    "py_dict = {'name':'Roshan','age': 29,'sal':75000,'id':2274}"
   ]
  },
  {
   "cell_type": "code",
   "execution_count": 102,
   "id": "0877df60",
   "metadata": {},
   "outputs": [
    {
     "name": "stdout",
     "output_type": "stream",
     "text": [
      "name Roshan\n",
      "age 29\n"
     ]
    }
   ],
   "source": [
    "for i in py_dict.keys():\n",
    "    if i in ['name','age']:\n",
    "        print(i,py_dict[i])"
   ]
  },
  {
   "cell_type": "code",
   "execution_count": 103,
   "id": "0804c647",
   "metadata": {},
   "outputs": [],
   "source": [
    "sqr = ['Roshan','Mohan','Heena','Ajay','Naman']"
   ]
  },
  {
   "cell_type": "code",
   "execution_count": 106,
   "id": "8b849592",
   "metadata": {},
   "outputs": [
    {
     "name": "stdout",
     "output_type": "stream",
     "text": [
      "0 Roshan\n",
      "1 Mohan\n",
      "2 Heena\n",
      "3 Ajay\n",
      "4 Naman\n"
     ]
    }
   ],
   "source": [
    "for i,square in enumerate(sqr):\n",
    "    \n",
    "    print(i,square)"
   ]
  },
  {
   "cell_type": "code",
   "execution_count": 107,
   "id": "4197f747",
   "metadata": {},
   "outputs": [
    {
     "name": "stdout",
     "output_type": "stream",
     "text": [
      "5\n",
      "4\n",
      "3\n"
     ]
    }
   ],
   "source": [
    "x = 5\n",
    "while(x!=2):\n",
    "    print(x)\n",
    "    x= x-1"
   ]
  },
  {
   "cell_type": "code",
   "execution_count": 109,
   "id": "d3fa2c85",
   "metadata": {},
   "outputs": [
    {
     "name": "stdout",
     "output_type": "stream",
     "text": [
      "0 AA\n",
      "1 BB\n",
      "2 CC\n"
     ]
    }
   ],
   "source": [
    "for i, x in enumerate(['A','B','C']):\n",
    "    print(i,x*2)"
   ]
  },
  {
   "cell_type": "code",
   "execution_count": 110,
   "id": "6d763de3",
   "metadata": {},
   "outputs": [
    {
     "name": "stdout",
     "output_type": "stream",
     "text": [
      "x= 2  y= 2\n"
     ]
    }
   ],
   "source": [
    "class Points(object):\n",
    "  def __init__(self,x,y):\n",
    "\n",
    "    self.x=x\n",
    "    self.y=y\n",
    "\n",
    "  def print_point(self):\n",
    "\n",
    "    print('x=',self.x,' y=',self.y)\n",
    "\n",
    "p2=Points(1,2)\n",
    "\n",
    "p2.x=2\n",
    "\n",
    "p2.print_point()"
   ]
  },
  {
   "cell_type": "code",
   "execution_count": 111,
   "id": "39f60aee",
   "metadata": {},
   "outputs": [
    {
     "name": "stdout",
     "output_type": "stream",
     "text": [
      "2\n"
     ]
    }
   ],
   "source": [
    "a=1\n",
    "\n",
    "def do(x):\n",
    "    return(x+a)\n",
    "\n",
    "print(do(1))"
   ]
  },
  {
   "cell_type": "code",
   "execution_count": 112,
   "id": "78750d23",
   "metadata": {},
   "outputs": [
    {
     "name": "stdout",
     "output_type": "stream",
     "text": [
      "Geeks\n",
      "for\n",
      "Geeks\n"
     ]
    }
   ],
   "source": [
    "lst = ['Geeks','for','Geeks']\n",
    "\n",
    "for i in lst:\n",
    "    print(i)"
   ]
  },
  {
   "cell_type": "code",
   "execution_count": 117,
   "id": "78329af7",
   "metadata": {},
   "outputs": [
    {
     "name": "stdout",
     "output_type": "stream",
     "text": [
      "xyz 123\n",
      "abc 325\n"
     ]
    }
   ],
   "source": [
    "d = dict()\n",
    "\n",
    "d['xyz'] = 123\n",
    "d['abc'] = 325\n",
    "\n",
    "for i in d.keys():\n",
    "    print(i,d[i])"
   ]
  },
  {
   "cell_type": "code",
   "execution_count": 120,
   "id": "63149de4",
   "metadata": {},
   "outputs": [
    {
     "name": "stdout",
     "output_type": "stream",
     "text": [
      "k-->\tn-->\to-->\tw-->\tl-->\te-->\td-->\tg-->\te-->\t"
     ]
    }
   ],
   "source": [
    "s = 'knowledge'\n",
    "for i in s:\n",
    "    print(i,end = '-->\\t')"
   ]
  },
  {
   "cell_type": "code",
   "execution_count": 121,
   "id": "9d5e1869",
   "metadata": {},
   "outputs": [
    {
     "name": "stdout",
     "output_type": "stream",
     "text": [
      "0\n",
      "2\n",
      "4\n",
      "6\n",
      "8\n",
      "10\n"
     ]
    }
   ],
   "source": [
    "for i in range(0,11,2):\n",
    "    print(i)"
   ]
  },
  {
   "cell_type": "code",
   "execution_count": 125,
   "id": "4c8c2c1e",
   "metadata": {},
   "outputs": [],
   "source": [
    "def counts(x):\n",
    "    for i in range(1,11):\n",
    "        print(i*x)"
   ]
  },
  {
   "cell_type": "code",
   "execution_count": 129,
   "id": "d2157600",
   "metadata": {},
   "outputs": [
    {
     "name": "stdout",
     "output_type": "stream",
     "text": [
      "378\n",
      "756\n",
      "1134\n",
      "1512\n",
      "1890\n",
      "2268\n",
      "2646\n",
      "3024\n",
      "3402\n",
      "3780\n"
     ]
    }
   ],
   "source": [
    "counts(378)"
   ]
  },
  {
   "cell_type": "code",
   "execution_count": 134,
   "id": "05cf741c",
   "metadata": {},
   "outputs": [
    {
     "name": "stdout",
     "output_type": "stream",
     "text": [
      "1 1\n",
      "1 2\n",
      "1 3\n",
      "2 1\n",
      "2 2\n",
      "2 3\n",
      "3 1\n",
      "3 2\n",
      "3 3\n",
      "4 1\n",
      "4 2\n",
      "4 3\n"
     ]
    }
   ],
   "source": [
    "for i in range(1,5):\n",
    "    for j in range(1,4):\n",
    "        print(i,j)"
   ]
  },
  {
   "cell_type": "code",
   "execution_count": 135,
   "id": "51071a1a",
   "metadata": {},
   "outputs": [
    {
     "name": "stdout",
     "output_type": "stream",
     "text": [
      "orange is orange\n",
      "apple is red\n",
      "grapes is green\n",
      "banana is yellow\n"
     ]
    }
   ],
   "source": [
    "fruits = ['orange','apple','grapes','banana']\n",
    "colour = ['orange','red','green','yellow']\n",
    "\n",
    "for fruit,color in zip(fruits,colour):\n",
    "    print(fruit,'is',color)"
   ]
  },
  {
   "cell_type": "code",
   "execution_count": 136,
   "id": "fb399dec",
   "metadata": {},
   "outputs": [
    {
     "name": "stdout",
     "output_type": "stream",
     "text": [
      "Roshan age is 25\n",
      "Mohan age is 27\n",
      "Sneha age is 29\n",
      "Rakesh age is 24\n",
      "Yogesh age is 28\n"
     ]
    }
   ],
   "source": [
    "name = ['Roshan','Mohan','Sneha','Rakesh','Yogesh']\n",
    "age = [25,27,29,24,28]\n",
    "\n",
    "for nm,ag in zip(name,age):\n",
    "    print(nm,'age is',ag)"
   ]
  },
  {
   "cell_type": "code",
   "execution_count": 137,
   "id": "9113a190",
   "metadata": {},
   "outputs": [
    {
     "data": {
      "text/plain": [
       "['Roshan', 'Mohan', 'Sneha', 'Rakesh', 'Yogesh']"
      ]
     },
     "execution_count": 137,
     "metadata": {},
     "output_type": "execute_result"
    }
   ],
   "source": [
    "name"
   ]
  },
  {
   "cell_type": "code",
   "execution_count": 138,
   "id": "257260ef",
   "metadata": {},
   "outputs": [
    {
     "data": {
      "text/plain": [
       "[25, 27, 29, 24, 28]"
      ]
     },
     "execution_count": 138,
     "metadata": {},
     "output_type": "execute_result"
    }
   ],
   "source": [
    "age"
   ]
  },
  {
   "cell_type": "code",
   "execution_count": 141,
   "id": "0ae683d6",
   "metadata": {},
   "outputs": [
    {
     "name": "stdout",
     "output_type": "stream",
     "text": [
      "[('Roshan', 25), ('Mohan', 27), ('Sneha', 29), ('Rakesh', 24), ('Yogesh', 28)]\n"
     ]
    }
   ],
   "source": [
    "print(list(zip(name,age)))"
   ]
  },
  {
   "cell_type": "code",
   "execution_count": 142,
   "id": "a289d8ed",
   "metadata": {},
   "outputs": [
    {
     "data": {
      "text/plain": [
       "{'Roshan': 25, 'Mohan': 27, 'Sneha': 29, 'Rakesh': 24, 'Yogesh': 28}"
      ]
     },
     "execution_count": 142,
     "metadata": {},
     "output_type": "execute_result"
    }
   ],
   "source": [
    "dict(zip(name,age))"
   ]
  },
  {
   "cell_type": "code",
   "execution_count": 143,
   "id": "5081e2ee",
   "metadata": {},
   "outputs": [],
   "source": [
    "lst = (('x',25),('y',30),('z',24),('a',26),('b',24),('c',29))"
   ]
  },
  {
   "cell_type": "code",
   "execution_count": 144,
   "id": "a62dc1f0",
   "metadata": {},
   "outputs": [
    {
     "name": "stdout",
     "output_type": "stream",
     "text": [
      "x 25\n",
      "y 30\n",
      "z 24\n",
      "a 26\n",
      "b 24\n",
      "c 29\n"
     ]
    }
   ],
   "source": [
    "for a,b in lst:\n",
    "    print(a,b)"
   ]
  },
  {
   "cell_type": "code",
   "execution_count": 146,
   "id": "77abd29d",
   "metadata": {},
   "outputs": [
    {
     "name": "stdout",
     "output_type": "stream",
     "text": [
      "current letter:- Roshan\n",
      "current letter:- ajay\n",
      "current letter:- Mohan\n",
      "current letter:- Sohan\n",
      "current letter:- 247\n",
      "current letter:- 658\n"
     ]
    }
   ],
   "source": [
    "for letter in 'geeksforgeeks':\n",
    "    if letter == 'e' or letter == 's':\n",
    "        continue\n",
    "    print('current letter:-',letter)"
   ]
  },
  {
   "cell_type": "code",
   "execution_count": 147,
   "id": "5b9bee58",
   "metadata": {},
   "outputs": [
    {
     "name": "stdout",
     "output_type": "stream",
     "text": [
      "current letter:- Roshan\n",
      "current letter:- ajay\n",
      "current letter:- Mohan\n",
      "current letter:- Sohan\n",
      "current letter:- 247\n",
      "current letter:- 658\n"
     ]
    }
   ],
   "source": [
    "for letter in ['Roshan','ajay','Hello','Gello','Mohan','Sohan','Hello','247','658']:\n",
    "    if letter == 'Hello' or letter == 'Gello':\n",
    "        continue\n",
    "    print('current letter:-',letter)"
   ]
  },
  {
   "cell_type": "code",
   "execution_count": null,
   "id": "6a418de3",
   "metadata": {},
   "outputs": [],
   "source": []
  }
 ],
 "metadata": {
  "kernelspec": {
   "display_name": "Python 3 (ipykernel)",
   "language": "python",
   "name": "python3"
  },
  "language_info": {
   "codemirror_mode": {
    "name": "ipython",
    "version": 3
   },
   "file_extension": ".py",
   "mimetype": "text/x-python",
   "name": "python",
   "nbconvert_exporter": "python",
   "pygments_lexer": "ipython3",
   "version": "3.9.12"
  }
 },
 "nbformat": 4,
 "nbformat_minor": 5
}
