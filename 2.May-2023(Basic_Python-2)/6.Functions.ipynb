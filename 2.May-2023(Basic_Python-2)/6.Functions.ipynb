{
 "cells": [
  {
   "cell_type": "code",
   "execution_count": 1,
   "id": "ee2f0cbc",
   "metadata": {},
   "outputs": [],
   "source": [
    "# Functions"
   ]
  },
  {
   "cell_type": "code",
   "execution_count": 14,
   "id": "fa1fab15",
   "metadata": {},
   "outputs": [],
   "source": [
    "def add():\n",
    "    x = int(input('enter the number '))\n",
    "    y = int(input('enter the number '))\n",
    "    z = x + y\n",
    "    print(z)"
   ]
  },
  {
   "cell_type": "code",
   "execution_count": 16,
   "id": "20d9c42e",
   "metadata": {},
   "outputs": [
    {
     "name": "stdout",
     "output_type": "stream",
     "text": [
      "enter the number 35\n",
      "enter the number 35\n",
      "70\n"
     ]
    }
   ],
   "source": [
    "add()"
   ]
  },
  {
   "cell_type": "code",
   "execution_count": 19,
   "id": "ed0fe8b5",
   "metadata": {},
   "outputs": [],
   "source": [
    "def add(x,y):\n",
    "    z = x+y\n",
    "    print(z)"
   ]
  },
  {
   "cell_type": "code",
   "execution_count": 20,
   "id": "a8779325",
   "metadata": {},
   "outputs": [
    {
     "name": "stdout",
     "output_type": "stream",
     "text": [
      "25\n"
     ]
    }
   ],
   "source": [
    "add(10,15)"
   ]
  },
  {
   "cell_type": "code",
   "execution_count": 21,
   "id": "684c6642",
   "metadata": {},
   "outputs": [],
   "source": [
    "def concat(first,last):\n",
    "    d = first +' '+ last\n",
    "    return d"
   ]
  },
  {
   "cell_type": "code",
   "execution_count": 23,
   "id": "e860e4f8",
   "metadata": {},
   "outputs": [],
   "source": [
    "g = concat('Roshan','Bahetwar')"
   ]
  },
  {
   "cell_type": "code",
   "execution_count": 27,
   "id": "93abdd51",
   "metadata": {},
   "outputs": [
    {
     "name": "stdout",
     "output_type": "stream",
     "text": [
      "please call him\n"
     ]
    }
   ],
   "source": [
    "if g.startswith('Roshan'):\n",
    "    print('please call him')\n",
    "else:\n",
    "    print('search another one')"
   ]
  },
  {
   "cell_type": "code",
   "execution_count": 56,
   "id": "e8602d64",
   "metadata": {},
   "outputs": [],
   "source": [
    "lst_even = []\n",
    "lst_odd = []\n",
    "\n",
    "def even_odd(x,y):\n",
    "    for i in range(x,y):\n",
    "        if i % 2 == 0:\n",
    "            lst_even.append(i)\n",
    "        else:\n",
    "            lst_odd.append(i)\n",
    "    return lst_even,lst_odd"
   ]
  },
  {
   "cell_type": "code",
   "execution_count": 57,
   "id": "e675c77d",
   "metadata": {},
   "outputs": [
    {
     "data": {
      "text/plain": [
       "([2, 4, 6, 8], [1, 3, 5, 7, 9])"
      ]
     },
     "execution_count": 57,
     "metadata": {},
     "output_type": "execute_result"
    }
   ],
   "source": [
    "even_odd(1,10)"
   ]
  },
  {
   "cell_type": "code",
   "execution_count": 58,
   "id": "0d9d0baa",
   "metadata": {},
   "outputs": [],
   "source": [
    "a = even_odd(1,50)"
   ]
  },
  {
   "cell_type": "code",
   "execution_count": 59,
   "id": "9a6d8fe8",
   "metadata": {},
   "outputs": [
    {
     "name": "stdout",
     "output_type": "stream",
     "text": [
      "([2, 4, 6, 8, 2, 4, 6, 8, 10, 12, 14, 16, 18, 20, 22, 24, 26, 28, 30, 32, 34, 36, 38, 40, 42, 44, 46, 48], [1, 3, 5, 7, 9, 1, 3, 5, 7, 9, 11, 13, 15, 17, 19, 21, 23, 25, 27, 29, 31, 33, 35, 37, 39, 41, 43, 45, 47, 49])\n"
     ]
    }
   ],
   "source": [
    "print(a)"
   ]
  },
  {
   "cell_type": "code",
   "execution_count": 60,
   "id": "a2c91c67",
   "metadata": {},
   "outputs": [],
   "source": [
    "def file_process(file):\n",
    "    if file.endswith('pdf'):\n",
    "        print('file processing....')\n",
    "    else:\n",
    "        print('invalid file...')"
   ]
  },
  {
   "cell_type": "code",
   "execution_count": 62,
   "id": "8beb690d",
   "metadata": {},
   "outputs": [
    {
     "name": "stdout",
     "output_type": "stream",
     "text": [
      "file processing....\n"
     ]
    }
   ],
   "source": [
    "file_process('abc.pdf')"
   ]
  },
  {
   "cell_type": "code",
   "execution_count": 84,
   "id": "d53ffefc",
   "metadata": {},
   "outputs": [],
   "source": [
    "def grade_cal(per):\n",
    "    if per>75:\n",
    "        return 'Outstanding...'\n",
    "    else:\n",
    "        return 'Good'"
   ]
  },
  {
   "cell_type": "code",
   "execution_count": 85,
   "id": "e53a701f",
   "metadata": {},
   "outputs": [
    {
     "name": "stdout",
     "output_type": "stream",
     "text": [
      "congratulations\n"
     ]
    }
   ],
   "source": [
    "g = grade_cal(78)\n",
    "\n",
    "if g == 'Outstanding...':\n",
    "    print('congratulations')\n",
    "else:\n",
    "    print('Nice')"
   ]
  },
  {
   "cell_type": "code",
   "execution_count": 86,
   "id": "5f978c4a",
   "metadata": {},
   "outputs": [],
   "source": [
    "def fun():\n",
    "    print('welcome to dynamic world.....')"
   ]
  },
  {
   "cell_type": "code",
   "execution_count": 87,
   "id": "d0b36607",
   "metadata": {},
   "outputs": [
    {
     "name": "stdout",
     "output_type": "stream",
     "text": [
      "welcome to dynamic world.....\n"
     ]
    }
   ],
   "source": [
    "fun()"
   ]
  },
  {
   "cell_type": "code",
   "execution_count": 91,
   "id": "9270c36b",
   "metadata": {},
   "outputs": [],
   "source": [
    "def add(num1: int, num2:int)-> int:\n",
    "    \"\"\"add two numbers\"\"\"\n",
    "    num3 = num1 + num2\n",
    "    return num3"
   ]
  },
  {
   "cell_type": "code",
   "execution_count": 93,
   "id": "a5521273",
   "metadata": {},
   "outputs": [
    {
     "data": {
      "text/plain": [
       "50"
      ]
     },
     "execution_count": 93,
     "metadata": {},
     "output_type": "execute_result"
    }
   ],
   "source": [
    "add(25,25)"
   ]
  },
  {
   "cell_type": "code",
   "execution_count": null,
   "id": "b2a83ddb",
   "metadata": {},
   "outputs": [],
   "source": [
    "def add(num1: int, num2: int) -> int:\n",
    "\t\"\"\"Add two numbers\"\"\"\n",
    "\tnum3 = num1 + num2\n",
    "\n",
    "\treturn num3\n",
    "\n",
    "# Driver code\n",
    "num1, num2 = 5, 15\n",
    "ans = add(num1, num2)\n",
    "print(f\"The addition of {num1} and {num2} results {ans}.\")\n"
   ]
  },
  {
   "cell_type": "code",
   "execution_count": 104,
   "id": "94bac209",
   "metadata": {},
   "outputs": [
    {
     "name": "stdout",
     "output_type": "stream",
     "text": [
      "False True\n"
     ]
    }
   ],
   "source": [
    "# some more functions\n",
    "def is_prime(n):\n",
    "\tif n in [2, 3]:\n",
    "\t\treturn True\n",
    "\tif (n == 1) or (n % 2 == 0):\n",
    "\t\treturn False\n",
    "\tr = 3\n",
    "\twhile r * r <= n:\n",
    "\t\tif n % r == 0:\n",
    "\t\t\treturn False\n",
    "\t\tr += 2\n",
    "\treturn True\n",
    "print(is_prime(78), is_prime(79))\n"
   ]
  },
  {
   "cell_type": "code",
   "execution_count": 101,
   "id": "9fd3ace3",
   "metadata": {},
   "outputs": [],
   "source": [
    "def is_prime(n):\n",
    "    if n in [2,3]:\n",
    "        return True\n",
    "    if (n == 1) or (n %2==0):\n",
    "        return False\n",
    "    r = 3\n",
    "    while r * r <= n:\n",
    "        if n % r == 0:\n",
    "            return False\n",
    "        r += 2\n",
    "        return True"
   ]
  },
  {
   "cell_type": "code",
   "execution_count": 111,
   "id": "364bbac1",
   "metadata": {},
   "outputs": [
    {
     "data": {
      "text/plain": [
       "True"
      ]
     },
     "execution_count": 111,
     "metadata": {},
     "output_type": "execute_result"
    }
   ],
   "source": [
    "is_prime(3)"
   ]
  },
  {
   "cell_type": "code",
   "execution_count": null,
   "id": "1f3e993d",
   "metadata": {},
   "outputs": [],
   "source": []
  },
  {
   "cell_type": "code",
   "execution_count": null,
   "id": "f10ffba7",
   "metadata": {},
   "outputs": [],
   "source": []
  }
 ],
 "metadata": {
  "kernelspec": {
   "display_name": "Python 3 (ipykernel)",
   "language": "python",
   "name": "python3"
  },
  "language_info": {
   "codemirror_mode": {
    "name": "ipython",
    "version": 3
   },
   "file_extension": ".py",
   "mimetype": "text/x-python",
   "name": "python",
   "nbconvert_exporter": "python",
   "pygments_lexer": "ipython3",
   "version": "3.9.12"
  }
 },
 "nbformat": 4,
 "nbformat_minor": 5
}
