{
 "cells": [
  {
   "cell_type": "code",
   "execution_count": 1,
   "id": "ee2f0cbc",
   "metadata": {},
   "outputs": [],
   "source": [
    "# Functions"
   ]
  },
  {
   "cell_type": "code",
   "execution_count": 14,
   "id": "fa1fab15",
   "metadata": {},
   "outputs": [],
   "source": [
    "def add():\n",
    "    x = int(input('enter the number '))\n",
    "    y = int(input('enter the number '))\n",
    "    z = x + y\n",
    "    print(z)"
   ]
  },
  {
   "cell_type": "code",
   "execution_count": 16,
   "id": "20d9c42e",
   "metadata": {},
   "outputs": [
    {
     "name": "stdout",
     "output_type": "stream",
     "text": [
      "enter the number 35\n",
      "enter the number 35\n",
      "70\n"
     ]
    }
   ],
   "source": [
    "add()"
   ]
  },
  {
   "cell_type": "code",
   "execution_count": 19,
   "id": "ed0fe8b5",
   "metadata": {},
   "outputs": [],
   "source": [
    "def add(x,y):\n",
    "    z = x+y\n",
    "    print(z)"
   ]
  },
  {
   "cell_type": "code",
   "execution_count": 20,
   "id": "a8779325",
   "metadata": {},
   "outputs": [
    {
     "name": "stdout",
     "output_type": "stream",
     "text": [
      "25\n"
     ]
    }
   ],
   "source": [
    "add(10,15)"
   ]
  },
  {
   "cell_type": "code",
   "execution_count": 21,
   "id": "684c6642",
   "metadata": {},
   "outputs": [],
   "source": [
    "def concat(first,last):\n",
    "    d = first +' '+ last\n",
    "    return d"
   ]
  },
  {
   "cell_type": "code",
   "execution_count": 23,
   "id": "e860e4f8",
   "metadata": {},
   "outputs": [],
   "source": [
    "g = concat('Roshan','Bahetwar')"
   ]
  },
  {
   "cell_type": "code",
   "execution_count": 27,
   "id": "93abdd51",
   "metadata": {},
   "outputs": [
    {
     "name": "stdout",
     "output_type": "stream",
     "text": [
      "please call him\n"
     ]
    }
   ],
   "source": [
    "if g.startswith('Roshan'):\n",
    "    print('please call him')\n",
    "else:\n",
    "    print('search another one')"
   ]
  },
  {
   "cell_type": "code",
   "execution_count": 56,
   "id": "e8602d64",
   "metadata": {},
   "outputs": [],
   "source": [
    "lst_even = []\n",
    "lst_odd = []\n",
    "\n",
    "def even_odd(x,y):\n",
    "    for i in range(x,y):\n",
    "        if i % 2 == 0:\n",
    "            lst_even.append(i)\n",
    "        else:\n",
    "            lst_odd.append(i)\n",
    "    return lst_even,lst_odd"
   ]
  },
  {
   "cell_type": "code",
   "execution_count": 57,
   "id": "e675c77d",
   "metadata": {},
   "outputs": [
    {
     "data": {
      "text/plain": [
       "([2, 4, 6, 8], [1, 3, 5, 7, 9])"
      ]
     },
     "execution_count": 57,
     "metadata": {},
     "output_type": "execute_result"
    }
   ],
   "source": [
    "even_odd(1,10)"
   ]
  },
  {
   "cell_type": "code",
   "execution_count": 58,
   "id": "0d9d0baa",
   "metadata": {},
   "outputs": [],
   "source": [
    "a = even_odd(1,50)"
   ]
  },
  {
   "cell_type": "code",
   "execution_count": 59,
   "id": "9a6d8fe8",
   "metadata": {},
   "outputs": [
    {
     "name": "stdout",
     "output_type": "stream",
     "text": [
      "([2, 4, 6, 8, 2, 4, 6, 8, 10, 12, 14, 16, 18, 20, 22, 24, 26, 28, 30, 32, 34, 36, 38, 40, 42, 44, 46, 48], [1, 3, 5, 7, 9, 1, 3, 5, 7, 9, 11, 13, 15, 17, 19, 21, 23, 25, 27, 29, 31, 33, 35, 37, 39, 41, 43, 45, 47, 49])\n"
     ]
    }
   ],
   "source": [
    "print(a)"
   ]
  },
  {
   "cell_type": "code",
   "execution_count": 60,
   "id": "a2c91c67",
   "metadata": {},
   "outputs": [],
   "source": [
    "def file_process(file):\n",
    "    if file.endswith('pdf'):\n",
    "        print('file processing....')\n",
    "    else:\n",
    "        print('invalid file...')"
   ]
  },
  {
   "cell_type": "code",
   "execution_count": 62,
   "id": "8beb690d",
   "metadata": {},
   "outputs": [
    {
     "name": "stdout",
     "output_type": "stream",
     "text": [
      "file processing....\n"
     ]
    }
   ],
   "source": [
    "file_process('abc.pdf')"
   ]
  },
  {
   "cell_type": "code",
   "execution_count": 84,
   "id": "d53ffefc",
   "metadata": {},
   "outputs": [],
   "source": [
    "def grade_cal(per):\n",
    "    if per>75:\n",
    "        return 'Outstanding...'\n",
    "    else:\n",
    "        return 'Good'"
   ]
  },
  {
   "cell_type": "code",
   "execution_count": 85,
   "id": "e53a701f",
   "metadata": {},
   "outputs": [
    {
     "name": "stdout",
     "output_type": "stream",
     "text": [
      "congratulations\n"
     ]
    }
   ],
   "source": [
    "g = grade_cal(78)\n",
    "\n",
    "if g == 'Outstanding...':\n",
    "    print('congratulations')\n",
    "else:\n",
    "    print('Nice')"
   ]
  },
  {
   "cell_type": "code",
   "execution_count": 86,
   "id": "5f978c4a",
   "metadata": {},
   "outputs": [],
   "source": [
    "def fun():\n",
    "    print('welcome to dynamic world.....')"
   ]
  },
  {
   "cell_type": "code",
   "execution_count": 87,
   "id": "d0b36607",
   "metadata": {},
   "outputs": [
    {
     "name": "stdout",
     "output_type": "stream",
     "text": [
      "welcome to dynamic world.....\n"
     ]
    }
   ],
   "source": [
    "fun()"
   ]
  },
  {
   "cell_type": "code",
   "execution_count": 91,
   "id": "9270c36b",
   "metadata": {},
   "outputs": [],
   "source": [
    "def add(num1: int, num2:int)-> int:\n",
    "    \"\"\"add two numbers\"\"\"\n",
    "    num3 = num1 + num2\n",
    "    return num3"
   ]
  },
  {
   "cell_type": "code",
   "execution_count": 93,
   "id": "a5521273",
   "metadata": {},
   "outputs": [
    {
     "data": {
      "text/plain": [
       "50"
      ]
     },
     "execution_count": 93,
     "metadata": {},
     "output_type": "execute_result"
    }
   ],
   "source": [
    "add(25,25)"
   ]
  },
  {
   "cell_type": "code",
   "execution_count": null,
   "id": "b2a83ddb",
   "metadata": {},
   "outputs": [],
   "source": [
    "def add(num1: int, num2: int) -> int:\n",
    "\t\"\"\"Add two numbers\"\"\"\n",
    "\tnum3 = num1 + num2\n",
    "\n",
    "\treturn num3\n",
    "\n",
    "# Driver code\n",
    "num1, num2 = 5, 15\n",
    "ans = add(num1, num2)\n",
    "print(f\"The addition of {num1} and {num2} results {ans}.\")\n"
   ]
  },
  {
   "cell_type": "code",
   "execution_count": 104,
   "id": "94bac209",
   "metadata": {},
   "outputs": [
    {
     "name": "stdout",
     "output_type": "stream",
     "text": [
      "False True\n"
     ]
    }
   ],
   "source": [
    "# some more functions\n",
    "def is_prime(n):\n",
    "\tif n in [2, 3]:\n",
    "\t\treturn True\n",
    "\tif (n == 1) or (n % 2 == 0):\n",
    "\t\treturn False\n",
    "\tr = 3\n",
    "\twhile r * r <= n:\n",
    "\t\tif n % r == 0:\n",
    "\t\t\treturn False\n",
    "\t\tr += 2\n",
    "\treturn True\n",
    "print(is_prime(78), is_prime(79))\n"
   ]
  },
  {
   "cell_type": "code",
   "execution_count": 101,
   "id": "9fd3ace3",
   "metadata": {},
   "outputs": [],
   "source": [
    "def is_prime(n):\n",
    "    if n in [2,3]:\n",
    "        return True\n",
    "    if (n == 1) or (n %2==0):\n",
    "        return False\n",
    "    r = 3\n",
    "    while r * r <= n:\n",
    "        if n % r == 0:\n",
    "            return False\n",
    "        r += 2\n",
    "        return True"
   ]
  },
  {
   "cell_type": "code",
   "execution_count": 111,
   "id": "364bbac1",
   "metadata": {},
   "outputs": [
    {
     "data": {
      "text/plain": [
       "True"
      ]
     },
     "execution_count": 111,
     "metadata": {},
     "output_type": "execute_result"
    }
   ],
   "source": [
    "is_prime(3)"
   ]
  },
  {
   "cell_type": "code",
   "execution_count": 3,
   "id": "1f3e993d",
   "metadata": {},
   "outputs": [],
   "source": [
    "def ev_o(x):\n",
    "    if x % 2 == 0:\n",
    "        print('even')\n",
    "    else:\n",
    "        print('odd')"
   ]
  },
  {
   "cell_type": "code",
   "execution_count": 4,
   "id": "f10ffba7",
   "metadata": {},
   "outputs": [
    {
     "name": "stdout",
     "output_type": "stream",
     "text": [
      "even\n"
     ]
    }
   ],
   "source": [
    "ev_o(10)"
   ]
  },
  {
   "cell_type": "code",
   "execution_count": 5,
   "id": "9a980750",
   "metadata": {},
   "outputs": [
    {
     "name": "stdout",
     "output_type": "stream",
     "text": [
      "odd\n"
     ]
    }
   ],
   "source": [
    "ev_o(11)"
   ]
  },
  {
   "cell_type": "code",
   "execution_count": 7,
   "id": "bdc584da",
   "metadata": {},
   "outputs": [],
   "source": [
    "def dFun(x,y = 10):\n",
    "    print(x)\n",
    "    print(y)"
   ]
  },
  {
   "cell_type": "code",
   "execution_count": 9,
   "id": "daf40b3c",
   "metadata": {},
   "outputs": [
    {
     "name": "stdout",
     "output_type": "stream",
     "text": [
      "15\n",
      "10\n"
     ]
    }
   ],
   "source": [
    "dFun(15)"
   ]
  },
  {
   "cell_type": "code",
   "execution_count": 10,
   "id": "2f444855",
   "metadata": {},
   "outputs": [],
   "source": [
    "def student(firstname,lastname):\n",
    "    print(firstname,lastname)"
   ]
  },
  {
   "cell_type": "code",
   "execution_count": 11,
   "id": "aee80bd3",
   "metadata": {},
   "outputs": [
    {
     "name": "stdout",
     "output_type": "stream",
     "text": [
      "Roshan Bahetwar\n"
     ]
    }
   ],
   "source": [
    "student('Roshan','Bahetwar')"
   ]
  },
  {
   "cell_type": "code",
   "execution_count": 12,
   "id": "d78fff37",
   "metadata": {},
   "outputs": [
    {
     "name": "stdout",
     "output_type": "stream",
     "text": [
      "Roshan Bahetwar\n"
     ]
    }
   ],
   "source": [
    "student(lastname = 'Bahetwar',firstname = 'Roshan')"
   ]
  },
  {
   "cell_type": "code",
   "execution_count": 13,
   "id": "a14345a0",
   "metadata": {},
   "outputs": [],
   "source": [
    "def add(a,b):\n",
    "    print(a+b)"
   ]
  },
  {
   "cell_type": "code",
   "execution_count": 14,
   "id": "cd9d812c",
   "metadata": {},
   "outputs": [
    {
     "name": "stdout",
     "output_type": "stream",
     "text": [
      "3\n"
     ]
    }
   ],
   "source": [
    "add(1,2)"
   ]
  },
  {
   "cell_type": "code",
   "execution_count": 15,
   "id": "0ad7bd05",
   "metadata": {},
   "outputs": [],
   "source": [
    "def person_name(firstname,lastname):\n",
    "    print(firstname+' '+lastname)"
   ]
  },
  {
   "cell_type": "code",
   "execution_count": 16,
   "id": "d1385df8",
   "metadata": {},
   "outputs": [
    {
     "name": "stdout",
     "output_type": "stream",
     "text": [
      "Roshan Babu\n"
     ]
    }
   ],
   "source": [
    "person_name('Roshan','Babu')"
   ]
  },
  {
   "cell_type": "code",
   "execution_count": 17,
   "id": "5561b8fa",
   "metadata": {},
   "outputs": [
    {
     "name": "stdout",
     "output_type": "stream",
     "text": [
      "babu Roshan\n"
     ]
    }
   ],
   "source": [
    "person_name('babu','Roshan')"
   ]
  },
  {
   "cell_type": "code",
   "execution_count": 18,
   "id": "afb21040",
   "metadata": {},
   "outputs": [],
   "source": [
    "def fun(a,b,c,d):\n",
    "    print(my_lst)"
   ]
  },
  {
   "cell_type": "code",
   "execution_count": 19,
   "id": "57c598f9",
   "metadata": {},
   "outputs": [],
   "source": [
    "my_lst = [2,3,4,5]"
   ]
  },
  {
   "cell_type": "code",
   "execution_count": 21,
   "id": "f2a800fc",
   "metadata": {},
   "outputs": [
    {
     "name": "stdout",
     "output_type": "stream",
     "text": [
      "[2, 3, 4, 5]\n"
     ]
    }
   ],
   "source": [
    "fun(*my_lst)"
   ]
  },
  {
   "cell_type": "code",
   "execution_count": 1,
   "id": "ed30c84e",
   "metadata": {},
   "outputs": [],
   "source": [
    "p = list(range(50))"
   ]
  },
  {
   "cell_type": "code",
   "execution_count": 2,
   "id": "7165e77a",
   "metadata": {},
   "outputs": [
    {
     "data": {
      "text/plain": [
       "[0,\n",
       " 1,\n",
       " 2,\n",
       " 3,\n",
       " 4,\n",
       " 5,\n",
       " 6,\n",
       " 7,\n",
       " 8,\n",
       " 9,\n",
       " 10,\n",
       " 11,\n",
       " 12,\n",
       " 13,\n",
       " 14,\n",
       " 15,\n",
       " 16,\n",
       " 17,\n",
       " 18,\n",
       " 19,\n",
       " 20,\n",
       " 21,\n",
       " 22,\n",
       " 23,\n",
       " 24,\n",
       " 25,\n",
       " 26,\n",
       " 27,\n",
       " 28,\n",
       " 29,\n",
       " 30,\n",
       " 31,\n",
       " 32,\n",
       " 33,\n",
       " 34,\n",
       " 35,\n",
       " 36,\n",
       " 37,\n",
       " 38,\n",
       " 39,\n",
       " 40,\n",
       " 41,\n",
       " 42,\n",
       " 43,\n",
       " 44,\n",
       " 45,\n",
       " 46,\n",
       " 47,\n",
       " 48,\n",
       " 49]"
      ]
     },
     "execution_count": 2,
     "metadata": {},
     "output_type": "execute_result"
    }
   ],
   "source": [
    "p"
   ]
  },
  {
   "cell_type": "code",
   "execution_count": 4,
   "id": "7c36e146",
   "metadata": {},
   "outputs": [],
   "source": [
    "def check_no(py):\n",
    "    lst = []\n",
    "    for i in py:\n",
    "        if i%2!= 0:\n",
    "            lst.append(i)\n",
    "    return lst\n",
    "            "
   ]
  },
  {
   "cell_type": "code",
   "execution_count": 5,
   "id": "e81636da",
   "metadata": {},
   "outputs": [
    {
     "data": {
      "text/plain": [
       "[1,\n",
       " 3,\n",
       " 5,\n",
       " 7,\n",
       " 9,\n",
       " 11,\n",
       " 13,\n",
       " 15,\n",
       " 17,\n",
       " 19,\n",
       " 21,\n",
       " 23,\n",
       " 25,\n",
       " 27,\n",
       " 29,\n",
       " 31,\n",
       " 33,\n",
       " 35,\n",
       " 37,\n",
       " 39,\n",
       " 41,\n",
       " 43,\n",
       " 45,\n",
       " 47,\n",
       " 49]"
      ]
     },
     "execution_count": 5,
     "metadata": {},
     "output_type": "execute_result"
    }
   ],
   "source": [
    "check_no(p)"
   ]
  },
  {
   "cell_type": "code",
   "execution_count": 22,
   "id": "574c27cc",
   "metadata": {},
   "outputs": [],
   "source": [
    "import datetime\n",
    "def file_name(fn):\n",
    "    name = fn.split('.')[0]\n",
    "    dt = datetime.datetime.date(datetime.datetime.now())\n",
    "    filename = f'{name}_{dt}_DAI.pdf'\n",
    "    return filename"
   ]
  },
  {
   "cell_type": "code",
   "execution_count": 23,
   "id": "32d114ec",
   "metadata": {},
   "outputs": [
    {
     "data": {
      "text/plain": [
       "'abc_2023-07-05_DAI.pdf'"
      ]
     },
     "execution_count": 23,
     "metadata": {},
     "output_type": "execute_result"
    }
   ],
   "source": [
    "file_name('abc.pdf')"
   ]
  },
  {
   "cell_type": "code",
   "execution_count": 24,
   "id": "f207683a",
   "metadata": {},
   "outputs": [
    {
     "data": {
      "text/plain": [
       "'Roshan_2023-07-05_DAI.pdf'"
      ]
     },
     "execution_count": 24,
     "metadata": {},
     "output_type": "execute_result"
    }
   ],
   "source": [
    "file_name('Roshan.pdf')"
   ]
  },
  {
   "cell_type": "code",
   "execution_count": 26,
   "id": "824488be",
   "metadata": {},
   "outputs": [
    {
     "data": {
      "text/plain": [
       "'Resume_2023-07-05_DAI.pdf'"
      ]
     },
     "execution_count": 26,
     "metadata": {},
     "output_type": "execute_result"
    }
   ],
   "source": [
    "file_name('Resume.pdf')"
   ]
  },
  {
   "cell_type": "code",
   "execution_count": 27,
   "id": "98c5ed44",
   "metadata": {},
   "outputs": [],
   "source": [
    "def details(id,name,age,salary):\n",
    "    print('id',id)\n",
    "    print('name',name)\n",
    "    print('age',age)\n",
    "    print('salary',salary)"
   ]
  },
  {
   "cell_type": "code",
   "execution_count": 28,
   "id": "7288e827",
   "metadata": {},
   "outputs": [
    {
     "name": "stdout",
     "output_type": "stream",
     "text": [
      "id 102\n",
      "name Roshan\n",
      "age 27\n",
      "salary 98500\n"
     ]
    }
   ],
   "source": [
    "details(102,'Roshan',27,98500)"
   ]
  },
  {
   "cell_type": "code",
   "execution_count": 33,
   "id": "4cad81a5",
   "metadata": {},
   "outputs": [],
   "source": [
    "def add_var(*args):\n",
    "    t = 0\n",
    "    for i in args:\n",
    "        t = t+i\n",
    "    return t"
   ]
  },
  {
   "cell_type": "code",
   "execution_count": 35,
   "id": "213713fc",
   "metadata": {},
   "outputs": [
    {
     "data": {
      "text/plain": [
       "15"
      ]
     },
     "execution_count": 35,
     "metadata": {},
     "output_type": "execute_result"
    }
   ],
   "source": [
    "add_var(10,2,3)"
   ]
  },
  {
   "cell_type": "code",
   "execution_count": 36,
   "id": "06747e0c",
   "metadata": {},
   "outputs": [],
   "source": [
    "def student(firstname,lastname = 'Mark',std = 'Fifth'):\n",
    "    print(firstname,lastname,'studies in',std,'standard')"
   ]
  },
  {
   "cell_type": "code",
   "execution_count": 40,
   "id": "df1c3470",
   "metadata": {},
   "outputs": [
    {
     "name": "stdout",
     "output_type": "stream",
     "text": [
      "John Monk studies in Fifth Standard\n"
     ]
    }
   ],
   "source": [
    "student('John','Monk')"
   ]
  },
  {
   "cell_type": "code",
   "execution_count": 41,
   "id": "c9829f1c",
   "metadata": {},
   "outputs": [
    {
     "name": "stdout",
     "output_type": "stream",
     "text": [
      "Roshan Bahetwar studies in Fifth Standard\n"
     ]
    }
   ],
   "source": [
    "student('Roshan',lastname = 'Bahetwar')"
   ]
  },
  {
   "cell_type": "code",
   "execution_count": 60,
   "id": "5d1ba6f2",
   "metadata": {},
   "outputs": [
    {
     "name": "stdout",
     "output_type": "stream",
     "text": [
      "Roshan kms studies in Btech Standard\n"
     ]
    }
   ],
   "source": [
    "student(\"Roshan\",'kms','Btech')"
   ]
  },
  {
   "cell_type": "code",
   "execution_count": null,
   "id": "2d23b1bb",
   "metadata": {},
   "outputs": [],
   "source": []
  },
  {
   "cell_type": "code",
   "execution_count": 39,
   "id": "eb52ab99",
   "metadata": {},
   "outputs": [
    {
     "name": "stdout",
     "output_type": "stream",
     "text": [
      "John Mark studies in Fifth Standard\n",
      "John Gates studies in Seventh Standard\n",
      "John Gates studies in Fifth Standard\n",
      "John Seventh studies in Fifth Standard\n"
     ]
    }
   ],
   "source": [
    "def student(firstname, lastname ='Mark', standard ='Fifth'):\n",
    "\tprint(firstname, lastname, 'studies in', standard, 'Standard')\n",
    "\n",
    "# 1 positional argument\n",
    "student('John')\n",
    "\n",
    "# 3 positional arguments\t\t\t\t\t\t\n",
    "student('John', 'Gates', 'Seventh')\t\n",
    "\n",
    "# 2 positional arguments\n",
    "student('John', 'Gates')\t\t\t\t\n",
    "student('John', 'Seventh')\n"
   ]
  },
  {
   "cell_type": "code",
   "execution_count": 61,
   "id": "32cb9aca",
   "metadata": {},
   "outputs": [],
   "source": [
    "def appendItem(iname, ilst = []):\n",
    "    ilst.append(iname)\n",
    "    return ilst"
   ]
  },
  {
   "cell_type": "code",
   "execution_count": 62,
   "id": "b22be32a",
   "metadata": {},
   "outputs": [
    {
     "data": {
      "text/plain": [
       "['Books']"
      ]
     },
     "execution_count": 62,
     "metadata": {},
     "output_type": "execute_result"
    }
   ],
   "source": [
    "appendItem('Books')"
   ]
  },
  {
   "cell_type": "code",
   "execution_count": 63,
   "id": "85be2d5f",
   "metadata": {},
   "outputs": [
    {
     "data": {
      "text/plain": [
       "['Books', 'Pencil']"
      ]
     },
     "execution_count": 63,
     "metadata": {},
     "output_type": "execute_result"
    }
   ],
   "source": [
    "appendItem('Pencil')"
   ]
  },
  {
   "cell_type": "code",
   "execution_count": 77,
   "id": "aad44a6c",
   "metadata": {},
   "outputs": [],
   "source": [
    "def itemToDic(iname,qty, itemlst = {}):\n",
    "    itemlst[iname] = qty\n",
    "    \n",
    "    return itemlst"
   ]
  },
  {
   "cell_type": "code",
   "execution_count": 78,
   "id": "c7022799",
   "metadata": {},
   "outputs": [
    {
     "data": {
      "text/plain": [
       "{'Pencil': 10}"
      ]
     },
     "execution_count": 78,
     "metadata": {},
     "output_type": "execute_result"
    }
   ],
   "source": [
    "itemToDic('Pencil',10)"
   ]
  },
  {
   "cell_type": "code",
   "execution_count": 66,
   "id": "c7288192",
   "metadata": {},
   "outputs": [
    {
     "data": {
      "text/plain": [
       "{'Pencil': 10, 'books': 5}"
      ]
     },
     "execution_count": 66,
     "metadata": {},
     "output_type": "execute_result"
    }
   ],
   "source": [
    "itemToDic('books',5)"
   ]
  },
  {
   "cell_type": "code",
   "execution_count": 85,
   "id": "c6d50221",
   "metadata": {},
   "outputs": [],
   "source": [
    "a = itemToDic('Rubber',15)"
   ]
  },
  {
   "cell_type": "code",
   "execution_count": 86,
   "id": "00e3bfe6",
   "metadata": {},
   "outputs": [
    {
     "name": "stdout",
     "output_type": "stream",
     "text": [
      "items Pencil qty 10\n",
      "items bag qty 1\n",
      "items Rubber qty 15\n"
     ]
    }
   ],
   "source": [
    "for k,v in a.items():\n",
    "    print('items',k,'qty',v)"
   ]
  },
  {
   "cell_type": "code",
   "execution_count": 87,
   "id": "460fb30f",
   "metadata": {},
   "outputs": [
    {
     "data": {
      "text/plain": [
       "{'Pencil': 10, 'bag': 1, 'Rubber': 15}"
      ]
     },
     "execution_count": 87,
     "metadata": {},
     "output_type": "execute_result"
    }
   ],
   "source": [
    "itemToDic('bag',1)"
   ]
  },
  {
   "cell_type": "code",
   "execution_count": 88,
   "id": "09cf5124",
   "metadata": {},
   "outputs": [
    {
     "name": "stdout",
     "output_type": "stream",
     "text": [
      "items Pencil value 10\n",
      "items bag value 1\n",
      "items Rubber value 15\n"
     ]
    }
   ],
   "source": [
    "\n",
    "for k,v in a.items():\n",
    "    print('items',k,'value',v)"
   ]
  },
  {
   "cell_type": "code",
   "execution_count": 90,
   "id": "7ce6ef27",
   "metadata": {},
   "outputs": [],
   "source": [
    "def item_lst(iname,ilst = None):\n",
    "    if ilst == None:\n",
    "        ilst = []\n",
    "        ilst.append(iname)\n",
    "        return ilst"
   ]
  },
  {
   "cell_type": "code",
   "execution_count": 91,
   "id": "96769abf",
   "metadata": {},
   "outputs": [
    {
     "data": {
      "text/plain": [
       "['Books']"
      ]
     },
     "execution_count": 91,
     "metadata": {},
     "output_type": "execute_result"
    }
   ],
   "source": [
    "item_lst('Books')"
   ]
  },
  {
   "cell_type": "code",
   "execution_count": 92,
   "id": "7821b480",
   "metadata": {},
   "outputs": [
    {
     "data": {
      "text/plain": [
       "['Pencil']"
      ]
     },
     "execution_count": 92,
     "metadata": {},
     "output_type": "execute_result"
    }
   ],
   "source": [
    "item_lst('Pencil')"
   ]
  },
  {
   "cell_type": "code",
   "execution_count": 94,
   "id": "da17e6d4",
   "metadata": {},
   "outputs": [],
   "source": [
    "lst1 = item_lst('Bag')"
   ]
  },
  {
   "cell_type": "code",
   "execution_count": 95,
   "id": "9c15f60b",
   "metadata": {},
   "outputs": [
    {
     "data": {
      "text/plain": [
       "['Bag']"
      ]
     },
     "execution_count": 95,
     "metadata": {},
     "output_type": "execute_result"
    }
   ],
   "source": [
    "lst1"
   ]
  },
  {
   "cell_type": "code",
   "execution_count": 101,
   "id": "80795424",
   "metadata": {},
   "outputs": [],
   "source": [
    "def m(*arg):\n",
    "    t = 1\n",
    "    for i in arg:\n",
    "        t = t*i\n",
    "    return t"
   ]
  },
  {
   "cell_type": "code",
   "execution_count": 105,
   "id": "4d8725ed",
   "metadata": {},
   "outputs": [
    {
     "data": {
      "text/plain": [
       "5040"
      ]
     },
     "execution_count": 105,
     "metadata": {},
     "output_type": "execute_result"
    }
   ],
   "source": [
    "m(1,2,3,4,5,6,7)"
   ]
  },
  {
   "cell_type": "code",
   "execution_count": 106,
   "id": "a3812ae4",
   "metadata": {},
   "outputs": [],
   "source": [
    "def pworld(*arg):\n",
    "    for i in arg:\n",
    "        print(i)"
   ]
  },
  {
   "cell_type": "code",
   "execution_count": 107,
   "id": "e6f479a9",
   "metadata": {},
   "outputs": [
    {
     "name": "stdout",
     "output_type": "stream",
     "text": [
      "Hello\n",
      "welcome\n",
      "to\n",
      "python\n",
      "world\n"
     ]
    }
   ],
   "source": [
    "pworld('Hello','welcome','to','python','world')"
   ]
  },
  {
   "cell_type": "code",
   "execution_count": 111,
   "id": "88ef6a74",
   "metadata": {},
   "outputs": [],
   "source": [
    "def pworld1(arg1, *arg):\n",
    "    print(arg1)\n",
    "    for i in arg:\n",
    "        print(i)"
   ]
  },
  {
   "cell_type": "code",
   "execution_count": 114,
   "id": "26d82098",
   "metadata": {},
   "outputs": [
    {
     "name": "stdout",
     "output_type": "stream",
     "text": [
      "Goodmorning\n",
      "welcome\n",
      "to\n",
      "python\n",
      "world\n"
     ]
    }
   ],
   "source": [
    "pworld1('Goodmorning','welcome','to','python','world')"
   ]
  },
  {
   "cell_type": "code",
   "execution_count": 121,
   "id": "b06bf158",
   "metadata": {},
   "outputs": [],
   "source": [
    "def person_details(**kargs):\n",
    "    for k,v in kargs.items():\n",
    "        print(k,':- ',v)"
   ]
  },
  {
   "cell_type": "code",
   "execution_count": 125,
   "id": "794a653c",
   "metadata": {},
   "outputs": [
    {
     "name": "stdout",
     "output_type": "stream",
     "text": [
      "name :-  Roshan\n",
      "id :-  101\n",
      "city :-  Pune\n"
     ]
    }
   ],
   "source": [
    "a = person_details(name = 'Roshan',id = 101,city = 'Pune')"
   ]
  },
  {
   "cell_type": "code",
   "execution_count": 123,
   "id": "b8a81a45",
   "metadata": {},
   "outputs": [],
   "source": [
    "import pandas as pd"
   ]
  },
  {
   "cell_type": "code",
   "execution_count": 134,
   "id": "f27b201a",
   "metadata": {},
   "outputs": [],
   "source": [
    "df = pd.DataFrame(['Roshan',27,98540],['Ajay',25,65400])"
   ]
  },
  {
   "cell_type": "code",
   "execution_count": 135,
   "id": "0ffc819c",
   "metadata": {},
   "outputs": [
    {
     "data": {
      "text/html": [
       "<div>\n",
       "<style scoped>\n",
       "    .dataframe tbody tr th:only-of-type {\n",
       "        vertical-align: middle;\n",
       "    }\n",
       "\n",
       "    .dataframe tbody tr th {\n",
       "        vertical-align: top;\n",
       "    }\n",
       "\n",
       "    .dataframe thead th {\n",
       "        text-align: right;\n",
       "    }\n",
       "</style>\n",
       "<table border=\"1\" class=\"dataframe\">\n",
       "  <thead>\n",
       "    <tr style=\"text-align: right;\">\n",
       "      <th></th>\n",
       "      <th>0</th>\n",
       "    </tr>\n",
       "  </thead>\n",
       "  <tbody>\n",
       "    <tr>\n",
       "      <th>Ajay</th>\n",
       "      <td>Roshan</td>\n",
       "    </tr>\n",
       "    <tr>\n",
       "      <th>25</th>\n",
       "      <td>27</td>\n",
       "    </tr>\n",
       "    <tr>\n",
       "      <th>65400</th>\n",
       "      <td>98540</td>\n",
       "    </tr>\n",
       "  </tbody>\n",
       "</table>\n",
       "</div>"
      ],
      "text/plain": [
       "            0\n",
       "Ajay   Roshan\n",
       "25         27\n",
       "65400   98540"
      ]
     },
     "execution_count": 135,
     "metadata": {},
     "output_type": "execute_result"
    }
   ],
   "source": [
    "df"
   ]
  },
  {
   "cell_type": "code",
   "execution_count": 142,
   "id": "442ebe66",
   "metadata": {},
   "outputs": [
    {
     "name": "stdout",
     "output_type": "stream",
     "text": [
      "name Roshan\n",
      "age 27\n"
     ]
    }
   ],
   "source": [
    "class Info:\n",
    "    def __init__(self,*arg):\n",
    "        self.name = arg[0]\n",
    "        self.age = arg[1]\n",
    "        \n",
    "    def show(self):\n",
    "        print('name',self.name)\n",
    "        print('age',self.age)\n",
    "        \n",
    "obj = Info('Roshan',27)\n",
    "obj.show()"
   ]
  },
  {
   "cell_type": "code",
   "execution_count": 144,
   "id": "65843f52",
   "metadata": {},
   "outputs": [
    {
     "name": "stdout",
     "output_type": "stream",
     "text": [
      "250\n",
      "Red\n"
     ]
    }
   ],
   "source": [
    "class Vehicles:\n",
    "    def __init__(self,**kwargs):\n",
    "        self.speed = kwargs['s']\n",
    "        self.color = kwargs['c']\n",
    "        \n",
    "    def show(self):\n",
    "        print(self.speed)\n",
    "        print(self.color)\n",
    "        \n",
    "obj = Vehicles(s = 250, c = 'Red' )\n",
    "obj.show()"
   ]
  },
  {
   "cell_type": "code",
   "execution_count": 145,
   "id": "0f2c108c",
   "metadata": {},
   "outputs": [],
   "source": [
    "def gen():\n",
    "    yield 'Hello Roshan'\n",
    "    yield 'This is Generator function'\n",
    "    yield 'This is Python World'\n",
    "    yield 'Thank you...'"
   ]
  },
  {
   "cell_type": "code",
   "execution_count": 151,
   "id": "622acfb6",
   "metadata": {},
   "outputs": [],
   "source": [
    "obj = gen()"
   ]
  },
  {
   "cell_type": "code",
   "execution_count": 148,
   "id": "11b8e1cb",
   "metadata": {},
   "outputs": [
    {
     "data": {
      "text/plain": [
       "'Hello Roshan'"
      ]
     },
     "execution_count": 148,
     "metadata": {},
     "output_type": "execute_result"
    }
   ],
   "source": [
    "next(obj)"
   ]
  },
  {
   "cell_type": "code",
   "execution_count": 152,
   "id": "6b7d9298",
   "metadata": {},
   "outputs": [
    {
     "name": "stdout",
     "output_type": "stream",
     "text": [
      "Hello Roshan\n",
      "This is Generator function\n",
      "This is Python World\n",
      "Thank you...\n"
     ]
    }
   ],
   "source": [
    "for i in obj:\n",
    "    print(i)"
   ]
  },
  {
   "cell_type": "code",
   "execution_count": null,
   "id": "5341981d",
   "metadata": {},
   "outputs": [],
   "source": [
    "def inf_sequence():\n",
    "\tnum = 0\n",
    "\twhile True:\n",
    "\t\tyield num\n",
    "\t\tnum += 1\n",
    "\t\t\n",
    "for i in inf_sequence():\n",
    "\tprint(i, end=\" \")\n"
   ]
  },
  {
   "cell_type": "code",
   "execution_count": 21,
   "id": "53cb4a9b",
   "metadata": {},
   "outputs": [],
   "source": [
    "def inf_num():\n",
    "    num = 0\n",
    "    while num < 500:\n",
    "        yield num\n",
    "        num +=1"
   ]
  },
  {
   "cell_type": "code",
   "execution_count": 22,
   "id": "da557b28",
   "metadata": {},
   "outputs": [],
   "source": [
    "obj = inf_num()"
   ]
  },
  {
   "cell_type": "code",
   "execution_count": 23,
   "id": "d34059ff",
   "metadata": {},
   "outputs": [
    {
     "name": "stdout",
     "output_type": "stream",
     "text": [
      "0 1 2 3 4 5 6 7 8 9 10 11 12 13 14 15 16 17 18 19 20 21 22 23 24 25 26 27 28 29 30 31 32 33 34 35 36 37 38 39 40 41 42 43 44 45 46 47 48 49 50 51 52 53 54 55 56 57 58 59 60 61 62 63 64 65 66 67 68 69 70 71 72 73 74 75 76 77 78 79 80 81 82 83 84 85 86 87 88 89 90 91 92 93 94 95 96 97 98 99 100 101 102 103 104 105 106 107 108 109 110 111 112 113 114 115 116 117 118 119 120 121 122 123 124 125 126 127 128 129 130 131 132 133 134 135 136 137 138 139 140 141 142 143 144 145 146 147 148 149 150 151 152 153 154 155 156 157 158 159 160 161 162 163 164 165 166 167 168 169 170 171 172 173 174 175 176 177 178 179 180 181 182 183 184 185 186 187 188 189 190 191 192 193 194 195 196 197 198 199 200 201 202 203 204 205 206 207 208 209 210 211 212 213 214 215 216 217 218 219 220 221 222 223 224 225 226 227 228 229 230 231 232 233 234 235 236 237 238 239 240 241 242 243 244 245 246 247 248 249 250 251 252 253 254 255 256 257 258 259 260 261 262 263 264 265 266 267 268 269 270 271 272 273 274 275 276 277 278 279 280 281 282 283 284 285 286 287 288 289 290 291 292 293 294 295 296 297 298 299 300 301 302 303 304 305 306 307 308 309 310 311 312 313 314 315 316 317 318 319 320 321 322 323 324 325 326 327 328 329 330 331 332 333 334 335 336 337 338 339 340 341 342 343 344 345 346 347 348 349 350 351 352 353 354 355 356 357 358 359 360 361 362 363 364 365 366 367 368 369 370 371 372 373 374 375 376 377 378 379 380 381 382 383 384 385 386 387 388 389 390 391 392 393 394 395 396 397 398 399 400 401 402 403 404 405 406 407 408 409 410 411 412 413 414 415 416 417 418 419 420 421 422 423 424 425 426 427 428 429 430 431 432 433 434 435 436 437 438 439 440 441 442 443 444 445 446 447 448 449 450 451 452 453 454 455 456 457 458 459 460 461 462 463 464 465 466 467 468 469 470 471 472 473 474 475 476 477 478 479 480 481 482 483 484 485 486 487 488 489 490 491 492 493 494 495 496 497 498 499 "
     ]
    }
   ],
   "source": [
    "for i in obj:\n",
    "    print(i,end= ' ')"
   ]
  },
  {
   "cell_type": "code",
   "execution_count": 35,
   "id": "ec0ed6a0",
   "metadata": {},
   "outputs": [],
   "source": [
    "def ev_lst(lst):\n",
    "    for i in lst:\n",
    "        if i % 2 == 0:\n",
    "            yield i"
   ]
  },
  {
   "cell_type": "code",
   "execution_count": 32,
   "id": "d2259e18",
   "metadata": {},
   "outputs": [],
   "source": [
    "lst = list(range(50))"
   ]
  },
  {
   "cell_type": "code",
   "execution_count": 33,
   "id": "c9e2b1af",
   "metadata": {},
   "outputs": [],
   "source": [
    "obj = ev_lst(lst)"
   ]
  },
  {
   "cell_type": "code",
   "execution_count": 34,
   "id": "6b4f7b0d",
   "metadata": {},
   "outputs": [
    {
     "name": "stdout",
     "output_type": "stream",
     "text": [
      "0 2 4 6 8 10 12 14 16 18 20 22 24 26 28 30 32 34 36 38 40 42 44 46 48 "
     ]
    }
   ],
   "source": [
    "for i  in obj:\n",
    "    print(i,end = ' ')"
   ]
  },
  {
   "cell_type": "code",
   "execution_count": 36,
   "id": "075f5743",
   "metadata": {},
   "outputs": [
    {
     "name": "stdout",
     "output_type": "stream",
     "text": [
      "0\n",
      "2\n",
      "4\n",
      "6\n",
      "8\n",
      "10\n",
      "12\n",
      "14\n",
      "16\n",
      "18\n"
     ]
    }
   ],
   "source": [
    "for i in ev_lst(list(range(20))):\n",
    "    print(i)"
   ]
  },
  {
   "cell_type": "code",
   "execution_count": null,
   "id": "7534dd5a",
   "metadata": {},
   "outputs": [],
   "source": [
    "# func to count number of given word\n",
    "def print_even(test_string):\n",
    "\tfor i in test_string:\n",
    "\t\tif i == \"geeks\":\n",
    "\t\t\tyield i\n",
    "\n",
    "\n",
    "# initializing string\n",
    "test_string = \" There are many geeks around you, \\\n",
    "\t\t\tgeeks are known for teaching other geeks\"\n",
    "\n",
    "# count numbers of geeks used in string\n",
    "count = 0\n",
    "print(\"The number of geeks in string is : \", end=\"\")\n",
    "test_string = test_string.split()\n",
    "\n",
    "for j in print_even(test_string):\n",
    "\tcount = count + 1\n",
    "\n",
    "print(count)\n"
   ]
  },
  {
   "cell_type": "code",
   "execution_count": 37,
   "id": "d13cb4b1",
   "metadata": {},
   "outputs": [],
   "source": [
    "def c_str(str_lst):\n",
    "    for i in str_lst:\n",
    "        if i == 'geeks':\n",
    "            yield i"
   ]
  },
  {
   "cell_type": "code",
   "execution_count": 45,
   "id": "2f76132b",
   "metadata": {},
   "outputs": [],
   "source": [
    "str_lst = \" There are many geeks around you, \\geeks geeks geeks geeks geeks are known for teaching other geeks\""
   ]
  },
  {
   "cell_type": "code",
   "execution_count": 46,
   "id": "ef7b8271",
   "metadata": {},
   "outputs": [],
   "source": [
    "str_lst = str_lst.split()"
   ]
  },
  {
   "cell_type": "code",
   "execution_count": 47,
   "id": "a32981df",
   "metadata": {},
   "outputs": [
    {
     "data": {
      "text/plain": [
       "['There',\n",
       " 'are',\n",
       " 'many',\n",
       " 'geeks',\n",
       " 'around',\n",
       " 'you,',\n",
       " '\\\\geeks',\n",
       " 'geeks',\n",
       " 'geeks',\n",
       " 'geeks',\n",
       " 'geeks',\n",
       " 'are',\n",
       " 'known',\n",
       " 'for',\n",
       " 'teaching',\n",
       " 'other',\n",
       " 'geeks']"
      ]
     },
     "execution_count": 47,
     "metadata": {},
     "output_type": "execute_result"
    }
   ],
   "source": [
    "str_lst"
   ]
  },
  {
   "cell_type": "code",
   "execution_count": 48,
   "id": "709a512b",
   "metadata": {},
   "outputs": [
    {
     "name": "stdout",
     "output_type": "stream",
     "text": [
      "6\n"
     ]
    }
   ],
   "source": [
    "count = 0\n",
    "for j in c_str(str_lst):\n",
    "    count += 1\n",
    "print(count)"
   ]
  },
  {
   "cell_type": "code",
   "execution_count": null,
   "id": "acdf0129",
   "metadata": {},
   "outputs": [],
   "source": []
  }
 ],
 "metadata": {
  "kernelspec": {
   "display_name": "Python 3 (ipykernel)",
   "language": "python",
   "name": "python3"
  },
  "language_info": {
   "codemirror_mode": {
    "name": "ipython",
    "version": 3
   },
   "file_extension": ".py",
   "mimetype": "text/x-python",
   "name": "python",
   "nbconvert_exporter": "python",
   "pygments_lexer": "ipython3",
   "version": "3.9.12"
  }
 },
 "nbformat": 4,
 "nbformat_minor": 5
}
