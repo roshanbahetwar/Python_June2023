{
 "cells": [
  {
   "cell_type": "code",
   "execution_count": 1,
   "id": "16688a24",
   "metadata": {},
   "outputs": [],
   "source": [
    "# for Loops"
   ]
  },
  {
   "cell_type": "code",
   "execution_count": 13,
   "id": "04fafaff",
   "metadata": {},
   "outputs": [],
   "source": [
    "py_lst = {'Python',45,'Hadoop''1515','15158998','ML','Scala'}"
   ]
  },
  {
   "cell_type": "code",
   "execution_count": 14,
   "id": "44456acd",
   "metadata": {},
   "outputs": [
    {
     "name": "stdout",
     "output_type": "stream",
     "text": [
      "Scala\n",
      "ML\n"
     ]
    },
    {
     "ename": "AttributeError",
     "evalue": "'int' object has no attribute 'isalpha'",
     "output_type": "error",
     "traceback": [
      "\u001b[1;31m---------------------------------------------------------------------------\u001b[0m",
      "\u001b[1;31mAttributeError\u001b[0m                            Traceback (most recent call last)",
      "Input \u001b[1;32mIn [14]\u001b[0m, in \u001b[0;36m<cell line: 1>\u001b[1;34m()\u001b[0m\n\u001b[0;32m      1\u001b[0m \u001b[38;5;28;01mfor\u001b[39;00m items \u001b[38;5;129;01min\u001b[39;00m py_lst:\n\u001b[1;32m----> 2\u001b[0m     \u001b[38;5;28;01mif\u001b[39;00m \u001b[43mitems\u001b[49m\u001b[38;5;241;43m.\u001b[39;49m\u001b[43misalpha\u001b[49m():\n\u001b[0;32m      3\u001b[0m         \u001b[38;5;28mprint\u001b[39m(items)\n",
      "\u001b[1;31mAttributeError\u001b[0m: 'int' object has no attribute 'isalpha'"
     ]
    }
   ],
   "source": [
    "py_lst = {'Python',45,'Hadoop''1515','15158998','ML','Scala'}\n",
    "for items in py_lst:\n",
    "    if items.isalpha():\n",
    "        print(items)"
   ]
  },
  {
   "cell_type": "code",
   "execution_count": 15,
   "id": "2425681a",
   "metadata": {},
   "outputs": [
    {
     "data": {
      "text/plain": [
       "{'15158998', 45, 'Hadoop1515', 'ML', 'Python', 'Scala'}"
      ]
     },
     "execution_count": 15,
     "metadata": {},
     "output_type": "execute_result"
    }
   ],
   "source": [
    "py_lst"
   ]
  },
  {
   "cell_type": "code",
   "execution_count": 16,
   "id": "68d2ae1b",
   "metadata": {},
   "outputs": [],
   "source": [
    "py_lst = ['Python',45,'Hadoop''1515','15158998','ML','Scala']"
   ]
  },
  {
   "cell_type": "code",
   "execution_count": 17,
   "id": "210c9c48",
   "metadata": {},
   "outputs": [
    {
     "data": {
      "text/plain": [
       "['Python', 45, 'Hadoop1515', '15158998', 'ML', 'Scala']"
      ]
     },
     "execution_count": 17,
     "metadata": {},
     "output_type": "execute_result"
    }
   ],
   "source": [
    "py_lst"
   ]
  },
  {
   "cell_type": "code",
   "execution_count": 24,
   "id": "5d6070e5",
   "metadata": {},
   "outputs": [
    {
     "name": "stdout",
     "output_type": "stream",
     "text": [
      "45\n",
      "15158998\n"
     ]
    }
   ],
   "source": [
    "for i in py_lst:\n",
    "    if str(i).isnumeric():\n",
    "        print(i)"
   ]
  },
  {
   "cell_type": "code",
   "execution_count": 25,
   "id": "6075c823",
   "metadata": {},
   "outputs": [],
   "source": [
    "email = ['rosh@gmail.com','ahja@yahoo.com','fsgsf@hotmail.com','jsgjgj@gmail.com','sghsgh@gmail.com']"
   ]
  },
  {
   "cell_type": "code",
   "execution_count": 32,
   "id": "15d8b168",
   "metadata": {},
   "outputs": [
    {
     "name": "stdout",
     "output_type": "stream",
     "text": [
      "rosh@gmail.com\n",
      "jsgjgj@gmail.com\n",
      "sghsgh@gmail.com\n"
     ]
    }
   ],
   "source": [
    "for i in email:\n",
    "    if i.endswith('gmail.com'):\n",
    "        print(i)"
   ]
  },
  {
   "cell_type": "code",
   "execution_count": 36,
   "id": "6982a945",
   "metadata": {},
   "outputs": [
    {
     "name": "stdout",
     "output_type": "stream",
     "text": [
      "valid:- rosh@gmail.com\n",
      "invalid:- ahja@yahoo.com\n",
      "invalid:- fsgsf@hotmail.com\n",
      "valid:- jsgjgj@gmail.com\n",
      "valid:- sghsgh@gmail.com\n"
     ]
    }
   ],
   "source": [
    "for i in email:\n",
    "    if i.endswith('gmail.com'):\n",
    "        print(f'valid:- {i}')\n",
    "    else:\n",
    "        print(f'invalid:- {i}')"
   ]
  },
  {
   "cell_type": "code",
   "execution_count": 37,
   "id": "4eeaed3b",
   "metadata": {},
   "outputs": [
    {
     "data": {
      "text/plain": [
       "['rosh@gmail.com',\n",
       " 'ahja@yahoo.com',\n",
       " 'fsgsf@hotmail.com',\n",
       " 'jsgjgj@gmail.com',\n",
       " 'sghsgh@gmail.com']"
      ]
     },
     "execution_count": 37,
     "metadata": {},
     "output_type": "execute_result"
    }
   ],
   "source": [
    "email"
   ]
  },
  {
   "cell_type": "code",
   "execution_count": 40,
   "id": "99c68d16",
   "metadata": {},
   "outputs": [
    {
     "name": "stdout",
     "output_type": "stream",
     "text": [
      "rosh@gmail.com\n",
      "jsgjgj@gmail.com\n",
      "sghsgh@gmail.com\n"
     ]
    }
   ],
   "source": [
    "for i in email:\n",
    "    if 'gmail' in i:\n",
    "        print(i)"
   ]
  },
  {
   "cell_type": "code",
   "execution_count": 43,
   "id": "bb269141",
   "metadata": {},
   "outputs": [
    {
     "name": "stdout",
     "output_type": "stream",
     "text": [
      "325 54 53 543 56 54 95 653 65 "
     ]
    }
   ],
   "source": [
    "a = [12,325,54,3,53,543,56,54,87,95,63,74,34,653,65,37]\n",
    "\n",
    "for i in a:\n",
    "    if '5' in str(i):\n",
    "        print(i,end = ' ')"
   ]
  },
  {
   "cell_type": "code",
   "execution_count": 45,
   "id": "569b5024",
   "metadata": {},
   "outputs": [
    {
     "name": "stdout",
     "output_type": "stream",
     "text": [
      "even number 12\n",
      "odd number 325\n",
      "even number 54\n",
      "odd number 3\n",
      "odd number 53\n",
      "odd number 543\n",
      "even number 56\n",
      "even number 54\n",
      "odd number 87\n",
      "odd number 95\n",
      "odd number 63\n",
      "even number 74\n",
      "even number 34\n",
      "odd number 653\n",
      "odd number 65\n",
      "odd number 37\n"
     ]
    }
   ],
   "source": [
    "for i in a:\n",
    "    if i % 2 == 0:\n",
    "        print(f\"even number {i}\")\n",
    "    else:\n",
    "        print(f\"odd number {i}\")"
   ]
  },
  {
   "cell_type": "code",
   "execution_count": 46,
   "id": "6a859f71",
   "metadata": {},
   "outputs": [],
   "source": [
    "lst = list(range(1,5))"
   ]
  },
  {
   "cell_type": "code",
   "execution_count": 47,
   "id": "2ab32faa",
   "metadata": {},
   "outputs": [
    {
     "data": {
      "text/plain": [
       "[1, 2, 3, 4]"
      ]
     },
     "execution_count": 47,
     "metadata": {},
     "output_type": "execute_result"
    }
   ],
   "source": [
    "lst"
   ]
  },
  {
   "cell_type": "code",
   "execution_count": 48,
   "id": "9eddd128",
   "metadata": {},
   "outputs": [
    {
     "name": "stdout",
     "output_type": "stream",
     "text": [
      "1\n",
      "2\n",
      "3\n",
      "4\n",
      "5\n",
      "6\n",
      "7\n",
      "8\n",
      "9\n"
     ]
    }
   ],
   "source": [
    "for i in list(range(1,10)):\n",
    "    print(i)"
   ]
  },
  {
   "cell_type": "code",
   "execution_count": 51,
   "id": "39812099",
   "metadata": {},
   "outputs": [
    {
     "name": "stdout",
     "output_type": "stream",
     "text": [
      "R o s h a n "
     ]
    }
   ],
   "source": [
    "for i in 'Roshan':\n",
    "    print(i,end=' ')"
   ]
  },
  {
   "cell_type": "code",
   "execution_count": 52,
   "id": "75e11254",
   "metadata": {},
   "outputs": [],
   "source": [
    "lst_d = {'one':1,'two':2,'three':3,'four':4}"
   ]
  },
  {
   "cell_type": "code",
   "execution_count": 66,
   "id": "326e6624",
   "metadata": {},
   "outputs": [
    {
     "name": "stdout",
     "output_type": "stream",
     "text": [
      "key:- one value:- 1\n",
      "key:- two value:- 2\n",
      "key:- three value:- 3\n",
      "key:- four value:- 4\n"
     ]
    }
   ],
   "source": [
    "for k,v in lst_d.items():\n",
    "    print('key:- '+k,'value:- '+ str(v))"
   ]
  },
  {
   "cell_type": "code",
   "execution_count": 81,
   "id": "8ba9621d",
   "metadata": {},
   "outputs": [
    {
     "name": "stdout",
     "output_type": "stream",
     "text": [
      "1\n",
      "2\n",
      "3\n",
      "4\n",
      "5\n"
     ]
    }
   ],
   "source": [
    "for i in range(1,10):\n",
    "    if i >5:\n",
    "        continue\n",
    "    print(i)"
   ]
  },
  {
   "cell_type": "code",
   "execution_count": 79,
   "id": "ff853d06",
   "metadata": {},
   "outputs": [
    {
     "name": "stdout",
     "output_type": "stream",
     "text": [
      "1\n",
      "2\n",
      "3\n",
      "4\n",
      "5\n"
     ]
    }
   ],
   "source": [
    "for i in range(1, 10):\n",
    "    if i > 5:\n",
    "        continue\n",
    "    print(i)"
   ]
  },
  {
   "cell_type": "code",
   "execution_count": 88,
   "id": "71d9cfb5",
   "metadata": {},
   "outputs": [
    {
     "name": "stdout",
     "output_type": "stream",
     "text": [
      "x 1 y 1\n",
      "x 1 y 2\n",
      "x 2 y 1\n",
      "x 2 y 2\n",
      "x 3 y 1\n",
      "x 3 y 2\n",
      "x 4 y 1\n",
      "x 4 y 2\n"
     ]
    }
   ],
   "source": [
    "for x in range(1,5):\n",
    "    for y in range(1,3):\n",
    "        print('x',x,'y',y)"
   ]
  },
  {
   "cell_type": "code",
   "execution_count": 89,
   "id": "7754f5cd",
   "metadata": {},
   "outputs": [],
   "source": [
    "py_dict = {'name':'Roshan','age': 29,'sal':75000,'id':2274}"
   ]
  },
  {
   "cell_type": "code",
   "execution_count": 102,
   "id": "0877df60",
   "metadata": {},
   "outputs": [
    {
     "name": "stdout",
     "output_type": "stream",
     "text": [
      "name Roshan\n",
      "age 29\n"
     ]
    }
   ],
   "source": [
    "for i in py_dict.keys():\n",
    "    if i in ['name','age']:\n",
    "        print(i,py_dict[i])"
   ]
  },
  {
   "cell_type": "code",
   "execution_count": 103,
   "id": "0804c647",
   "metadata": {},
   "outputs": [],
   "source": [
    "sqr = ['Roshan','Mohan','Heena','Ajay','Naman']"
   ]
  },
  {
   "cell_type": "code",
   "execution_count": 106,
   "id": "8b849592",
   "metadata": {},
   "outputs": [
    {
     "name": "stdout",
     "output_type": "stream",
     "text": [
      "0 Roshan\n",
      "1 Mohan\n",
      "2 Heena\n",
      "3 Ajay\n",
      "4 Naman\n"
     ]
    }
   ],
   "source": [
    "for i,square in enumerate(sqr):\n",
    "    \n",
    "    print(i,square)"
   ]
  },
  {
   "cell_type": "code",
   "execution_count": 107,
   "id": "4197f747",
   "metadata": {},
   "outputs": [
    {
     "name": "stdout",
     "output_type": "stream",
     "text": [
      "5\n",
      "4\n",
      "3\n"
     ]
    }
   ],
   "source": [
    "x = 5\n",
    "while(x!=2):\n",
    "    print(x)\n",
    "    x= x-1"
   ]
  },
  {
   "cell_type": "code",
   "execution_count": 109,
   "id": "d3fa2c85",
   "metadata": {},
   "outputs": [
    {
     "name": "stdout",
     "output_type": "stream",
     "text": [
      "0 AA\n",
      "1 BB\n",
      "2 CC\n"
     ]
    }
   ],
   "source": [
    "for i, x in enumerate(['A','B','C']):\n",
    "    print(i,x*2)"
   ]
  },
  {
   "cell_type": "code",
   "execution_count": 110,
   "id": "6d763de3",
   "metadata": {},
   "outputs": [
    {
     "name": "stdout",
     "output_type": "stream",
     "text": [
      "x= 2  y= 2\n"
     ]
    }
   ],
   "source": [
    "class Points(object):\n",
    "  def __init__(self,x,y):\n",
    "\n",
    "    self.x=x\n",
    "    self.y=y\n",
    "\n",
    "  def print_point(self):\n",
    "\n",
    "    print('x=',self.x,' y=',self.y)\n",
    "\n",
    "p2=Points(1,2)\n",
    "\n",
    "p2.x=2\n",
    "\n",
    "p2.print_point()"
   ]
  },
  {
   "cell_type": "code",
   "execution_count": 111,
   "id": "39f60aee",
   "metadata": {},
   "outputs": [
    {
     "name": "stdout",
     "output_type": "stream",
     "text": [
      "2\n"
     ]
    }
   ],
   "source": [
    "a=1\n",
    "\n",
    "def do(x):\n",
    "    return(x+a)\n",
    "\n",
    "print(do(1))"
   ]
  },
  {
   "cell_type": "code",
   "execution_count": 112,
   "id": "78750d23",
   "metadata": {},
   "outputs": [
    {
     "name": "stdout",
     "output_type": "stream",
     "text": [
      "Geeks\n",
      "for\n",
      "Geeks\n"
     ]
    }
   ],
   "source": [
    "lst = ['Geeks','for','Geeks']\n",
    "\n",
    "for i in lst:\n",
    "    print(i)"
   ]
  },
  {
   "cell_type": "code",
   "execution_count": 117,
   "id": "78329af7",
   "metadata": {},
   "outputs": [
    {
     "name": "stdout",
     "output_type": "stream",
     "text": [
      "xyz 123\n",
      "abc 325\n"
     ]
    }
   ],
   "source": [
    "d = dict()\n",
    "\n",
    "d['xyz'] = 123\n",
    "d['abc'] = 325\n",
    "\n",
    "for i in d.keys():\n",
    "    print(i,d[i])"
   ]
  },
  {
   "cell_type": "code",
   "execution_count": 120,
   "id": "63149de4",
   "metadata": {},
   "outputs": [
    {
     "name": "stdout",
     "output_type": "stream",
     "text": [
      "k-->\tn-->\to-->\tw-->\tl-->\te-->\td-->\tg-->\te-->\t"
     ]
    }
   ],
   "source": [
    "s = 'knowledge'\n",
    "for i in s:\n",
    "    print(i,end = '-->\\t')"
   ]
  },
  {
   "cell_type": "code",
   "execution_count": 121,
   "id": "9d5e1869",
   "metadata": {},
   "outputs": [
    {
     "name": "stdout",
     "output_type": "stream",
     "text": [
      "0\n",
      "2\n",
      "4\n",
      "6\n",
      "8\n",
      "10\n"
     ]
    }
   ],
   "source": [
    "for i in range(0,11,2):\n",
    "    print(i)"
   ]
  },
  {
   "cell_type": "code",
   "execution_count": 125,
   "id": "4c8c2c1e",
   "metadata": {},
   "outputs": [],
   "source": [
    "def counts(x):\n",
    "    for i in range(1,11):\n",
    "        print(i*x)"
   ]
  },
  {
   "cell_type": "code",
   "execution_count": 129,
   "id": "d2157600",
   "metadata": {},
   "outputs": [
    {
     "name": "stdout",
     "output_type": "stream",
     "text": [
      "378\n",
      "756\n",
      "1134\n",
      "1512\n",
      "1890\n",
      "2268\n",
      "2646\n",
      "3024\n",
      "3402\n",
      "3780\n"
     ]
    }
   ],
   "source": [
    "counts(378)"
   ]
  },
  {
   "cell_type": "code",
   "execution_count": 134,
   "id": "05cf741c",
   "metadata": {},
   "outputs": [
    {
     "name": "stdout",
     "output_type": "stream",
     "text": [
      "1 1\n",
      "1 2\n",
      "1 3\n",
      "2 1\n",
      "2 2\n",
      "2 3\n",
      "3 1\n",
      "3 2\n",
      "3 3\n",
      "4 1\n",
      "4 2\n",
      "4 3\n"
     ]
    }
   ],
   "source": [
    "for i in range(1,5):\n",
    "    for j in range(1,4):\n",
    "        print(i,j)"
   ]
  },
  {
   "cell_type": "code",
   "execution_count": 135,
   "id": "51071a1a",
   "metadata": {},
   "outputs": [
    {
     "name": "stdout",
     "output_type": "stream",
     "text": [
      "orange is orange\n",
      "apple is red\n",
      "grapes is green\n",
      "banana is yellow\n"
     ]
    }
   ],
   "source": [
    "fruits = ['orange','apple','grapes','banana']\n",
    "colour = ['orange','red','green','yellow']\n",
    "\n",
    "for fruit,color in zip(fruits,colour):\n",
    "    print(fruit,'is',color)"
   ]
  },
  {
   "cell_type": "code",
   "execution_count": 136,
   "id": "fb399dec",
   "metadata": {},
   "outputs": [
    {
     "name": "stdout",
     "output_type": "stream",
     "text": [
      "Roshan age is 25\n",
      "Mohan age is 27\n",
      "Sneha age is 29\n",
      "Rakesh age is 24\n",
      "Yogesh age is 28\n"
     ]
    }
   ],
   "source": [
    "name = ['Roshan','Mohan','Sneha','Rakesh','Yogesh']\n",
    "age = [25,27,29,24,28]\n",
    "\n",
    "for nm,ag in zip(name,age):\n",
    "    print(nm,'age is',ag)"
   ]
  },
  {
   "cell_type": "code",
   "execution_count": 137,
   "id": "9113a190",
   "metadata": {},
   "outputs": [
    {
     "data": {
      "text/plain": [
       "['Roshan', 'Mohan', 'Sneha', 'Rakesh', 'Yogesh']"
      ]
     },
     "execution_count": 137,
     "metadata": {},
     "output_type": "execute_result"
    }
   ],
   "source": [
    "name"
   ]
  },
  {
   "cell_type": "code",
   "execution_count": 138,
   "id": "257260ef",
   "metadata": {},
   "outputs": [
    {
     "data": {
      "text/plain": [
       "[25, 27, 29, 24, 28]"
      ]
     },
     "execution_count": 138,
     "metadata": {},
     "output_type": "execute_result"
    }
   ],
   "source": [
    "age"
   ]
  },
  {
   "cell_type": "code",
   "execution_count": 141,
   "id": "0ae683d6",
   "metadata": {},
   "outputs": [
    {
     "name": "stdout",
     "output_type": "stream",
     "text": [
      "[('Roshan', 25), ('Mohan', 27), ('Sneha', 29), ('Rakesh', 24), ('Yogesh', 28)]\n"
     ]
    }
   ],
   "source": [
    "print(list(zip(name,age)))"
   ]
  },
  {
   "cell_type": "code",
   "execution_count": 142,
   "id": "a289d8ed",
   "metadata": {},
   "outputs": [
    {
     "data": {
      "text/plain": [
       "{'Roshan': 25, 'Mohan': 27, 'Sneha': 29, 'Rakesh': 24, 'Yogesh': 28}"
      ]
     },
     "execution_count": 142,
     "metadata": {},
     "output_type": "execute_result"
    }
   ],
   "source": [
    "dict(zip(name,age))"
   ]
  },
  {
   "cell_type": "code",
   "execution_count": 143,
   "id": "5081e2ee",
   "metadata": {},
   "outputs": [],
   "source": [
    "lst = (('x',25),('y',30),('z',24),('a',26),('b',24),('c',29))"
   ]
  },
  {
   "cell_type": "code",
   "execution_count": 144,
   "id": "a62dc1f0",
   "metadata": {},
   "outputs": [
    {
     "name": "stdout",
     "output_type": "stream",
     "text": [
      "x 25\n",
      "y 30\n",
      "z 24\n",
      "a 26\n",
      "b 24\n",
      "c 29\n"
     ]
    }
   ],
   "source": [
    "for a,b in lst:\n",
    "    print(a,b)"
   ]
  },
  {
   "cell_type": "code",
   "execution_count": 146,
   "id": "77abd29d",
   "metadata": {},
   "outputs": [
    {
     "name": "stdout",
     "output_type": "stream",
     "text": [
      "current letter:- Roshan\n",
      "current letter:- ajay\n",
      "current letter:- Mohan\n",
      "current letter:- Sohan\n",
      "current letter:- 247\n",
      "current letter:- 658\n"
     ]
    }
   ],
   "source": [
    "for letter in 'geeksforgeeks':\n",
    "    if letter == 'e' or letter == 's':\n",
    "        continue\n",
    "    print('current letter:-',letter)"
   ]
  },
  {
   "cell_type": "code",
   "execution_count": 147,
   "id": "5b9bee58",
   "metadata": {},
   "outputs": [
    {
     "name": "stdout",
     "output_type": "stream",
     "text": [
      "current letter:- Roshan\n",
      "current letter:- ajay\n",
      "current letter:- Mohan\n",
      "current letter:- Sohan\n",
      "current letter:- 247\n",
      "current letter:- 658\n"
     ]
    }
   ],
   "source": [
    "for letter in ['Roshan','ajay','Hello','Gello','Mohan','Sohan','Hello','247','658']:\n",
    "    if letter == 'Hello' or letter == 'Gello':\n",
    "        continue\n",
    "    print('current letter:-',letter)"
   ]
  },
  {
   "cell_type": "code",
   "execution_count": 1,
   "id": "6a418de3",
   "metadata": {},
   "outputs": [],
   "source": [
    "lst = dict()\n",
    "\n",
    "lst['name'] = 'Roshan'\n",
    "lst['age'] = 29\n",
    "lst['city'] = 'Pune'"
   ]
  },
  {
   "cell_type": "code",
   "execution_count": 2,
   "id": "fee9cd23",
   "metadata": {},
   "outputs": [
    {
     "data": {
      "text/plain": [
       "{'name': 'Roshan', 'age': 29, 'city': 'Pune'}"
      ]
     },
     "execution_count": 2,
     "metadata": {},
     "output_type": "execute_result"
    }
   ],
   "source": [
    "lst"
   ]
  },
  {
   "cell_type": "code",
   "execution_count": 3,
   "id": "2f0f6369",
   "metadata": {},
   "outputs": [
    {
     "name": "stdout",
     "output_type": "stream",
     "text": [
      "name Roshan\n",
      "age 29\n",
      "city Pune\n"
     ]
    }
   ],
   "source": [
    "for i in lst:\n",
    "    print(i,lst[i])"
   ]
  },
  {
   "cell_type": "code",
   "execution_count": 12,
   "id": "4836c0f3",
   "metadata": {},
   "outputs": [],
   "source": [
    "lst = [123,25,65,23,'sgshgh',254,565,'hsysg']"
   ]
  },
  {
   "cell_type": "code",
   "execution_count": 19,
   "id": "f27db5f5",
   "metadata": {},
   "outputs": [
    {
     "name": "stdout",
     "output_type": "stream",
     "text": [
      "valid...123\n",
      "valid...25\n",
      "valid...65\n",
      "valid...23\n",
      "invalid...sgshgh\n"
     ]
    }
   ],
   "source": [
    "for items in lst:\n",
    "    if str(items).isnumeric():\n",
    "        print(f'valid...{items}')\n",
    "    else:\n",
    "        print(f'invalid...{items}')\n",
    "        break"
   ]
  },
  {
   "cell_type": "code",
   "execution_count": 26,
   "id": "afece673",
   "metadata": {},
   "outputs": [
    {
     "name": "stdout",
     "output_type": "stream",
     "text": [
      "last letter s\n"
     ]
    }
   ],
   "source": [
    "for letter in 'geeksforgeeks':\n",
    "    pass\n",
    "print('last letter',letter)"
   ]
  },
  {
   "cell_type": "code",
   "execution_count": 21,
   "id": "f9e08248",
   "metadata": {},
   "outputs": [
    {
     "data": {
      "text/plain": [
       "'s'"
      ]
     },
     "execution_count": 21,
     "metadata": {},
     "output_type": "execute_result"
    }
   ],
   "source": [
    "letter"
   ]
  },
  {
   "cell_type": "code",
   "execution_count": null,
   "id": "14927f02",
   "metadata": {},
   "outputs": [],
   "source": [
    "count = 0\n",
    "while (count < 1):\t\n",
    "\tcount = count+1\n",
    "\tprint(count)\n",
    "\tbreak\n",
    "else:\n",
    "\tprint(\"No Break\")\n"
   ]
  },
  {
   "cell_type": "code",
   "execution_count": 5,
   "id": "f6560f22",
   "metadata": {},
   "outputs": [
    {
     "name": "stdout",
     "output_type": "stream",
     "text": [
      "1\n"
     ]
    }
   ],
   "source": [
    "count = 0\n",
    "while count<10:\n",
    "    count = count+1\n",
    "    print(count)\n",
    "    break\n",
    "else:\n",
    "    print('No brake')"
   ]
  },
  {
   "cell_type": "code",
   "execution_count": 13,
   "id": "d67efd6f",
   "metadata": {},
   "outputs": [
    {
     "name": "stdout",
     "output_type": "stream",
     "text": [
      "[0, 2, 4, 6, 8, 10, 12, 14, 16, 18, 20, 22, 24, 26, 28, 30, 32, 34, 36, 38, 40, 42, 44, 46, 48, 50] \n",
      " [1, 3, 5, 7, 9, 11, 13, 15, 17, 19, 21, 23, 25, 27, 29, 31, 33, 35, 37, 39, 41, 43, 45, 47, 49]\n"
     ]
    }
   ],
   "source": [
    "lst= []\n",
    "lst1 = []\n",
    "i = 0\n",
    "while i<= 50:\n",
    "    if i % 2 == 0:\n",
    "        lst.append(i)\n",
    "    else:\n",
    "        lst1.append(i)\n",
    "    i = i+1\n",
    "print(lst,'\\n',lst1)"
   ]
  },
  {
   "cell_type": "code",
   "execution_count": 17,
   "id": "06014e73",
   "metadata": {},
   "outputs": [
    {
     "name": "stdout",
     "output_type": "stream",
     "text": [
      "enter the 1st number:- 25\n",
      "enter the 2nd number12\n",
      "addition of 25 and 12 is 37\n",
      "do you want to continue[y/,n]y\n",
      "enter the 1st number:- 36\n",
      "enter the 2nd number25\n",
      "addition of 36 and 25 is 61\n",
      "do you want to continue[y/,n]y\n",
      "enter the 1st number:- 56\n",
      "enter the 2nd number35\n",
      "addition of 56 and 35 is 91\n",
      "do you want to continue[y/,n]y\n",
      "enter the 1st number:- 66\n",
      "enter the 2nd number32\n",
      "addition of 66 and 32 is 98\n",
      "do you want to continue[y/,n]36\n",
      "enter the 1st number:- 22\n",
      "enter the 2nd number22\n",
      "addition of 22 and 22 is 44\n",
      "do you want to continue[y/,n]n\n",
      "thank for visiting\n"
     ]
    }
   ],
   "source": [
    "flag = True\n",
    "while flag:\n",
    "    a = int(input('enter the 1st number:- '))\n",
    "    b = int(input('enter the 2nd number'))\n",
    "    \n",
    "    c = a+b\n",
    "    print(f\"addition of {a} and {b} is {c}\")\n",
    "    \n",
    "    choice = input('do you want to continue[y/,n]')\n",
    "    \n",
    "    if choice == 'n':\n",
    "    \n",
    "        print('thank for visiting')\n",
    "    \n",
    "        flag = False"
   ]
  },
  {
   "cell_type": "code",
   "execution_count": 3,
   "id": "894d838e",
   "metadata": {},
   "outputs": [
    {
     "name": "stdout",
     "output_type": "stream",
     "text": [
      "enter the f number:- 15\n",
      "enter the s number:- 25\n",
      "addition of 15 and 25 is 40\n",
      "enter the choice [y/n]:- y\n",
      "enter the f number:- 25\n",
      "enter the s number:- 35\n",
      "addition of 25 and 35 is 60\n",
      "enter the choice [y/n]:- n\n",
      "thanks for visiting\n"
     ]
    }
   ],
   "source": [
    "flag = True\n",
    "\n",
    "while flag:\n",
    "    a = int(input('enter the f number:- '))\n",
    "    b = int(input('enter the s number:- '))\n",
    "    \n",
    "    c = a + b\n",
    "    print(f'addition of {a} and {b} is {c}')\n",
    "    \n",
    "    choice = input('enter the choice [y/n]:- ')\n",
    "    if choice == 'n':\n",
    "        print('thanks for visiting')\n",
    "        \n",
    "        flag = False"
   ]
  },
  {
   "cell_type": "code",
   "execution_count": 15,
   "id": "e5763688",
   "metadata": {},
   "outputs": [
    {
     "name": "stdout",
     "output_type": "stream",
     "text": [
      "the num 2 is even\n",
      "the num 3 is odd\n",
      "the num 4 is even\n",
      "the num 5 is odd\n",
      "the num 6 is even\n",
      "the num 7 is odd\n",
      "the num 8 is even\n",
      "the num 9 is odd\n"
     ]
    }
   ],
   "source": [
    "p = 2\n",
    "while p < 10:\n",
    "    if p % 2 == 0:\n",
    "        print('the num '+ str(p) + ' is even')\n",
    "    else:\n",
    "        print('the num '+ str(p) + ' is odd')\n",
    "    p +=1"
   ]
  },
  {
   "cell_type": "code",
   "execution_count": 19,
   "id": "a27c37e2",
   "metadata": {},
   "outputs": [
    {
     "name": "stdout",
     "output_type": "stream",
     "text": [
      "1 0\n",
      "\n",
      "2 0\n",
      "2 1\n",
      "\n",
      "3 0\n",
      "3 1\n",
      "3 2\n",
      "\n",
      "4 0\n",
      "4 1\n",
      "4 2\n",
      "4 3\n",
      "\n"
     ]
    }
   ],
   "source": [
    "for i in range(1,5):\n",
    "    for j in range(i):\n",
    "        print(i,j)\n",
    "    print()"
   ]
  },
  {
   "cell_type": "code",
   "execution_count": 20,
   "id": "59ed4373",
   "metadata": {},
   "outputs": [
    {
     "name": "stdout",
     "output_type": "stream",
     "text": [
      "0\n",
      "1\n",
      "2\n",
      "found\n",
      "found\n",
      "5\n",
      "6\n",
      "7\n",
      "8\n",
      "9\n",
      "10\n",
      "11\n",
      "12\n",
      "13\n",
      "14\n",
      "15\n",
      "16\n",
      "17\n",
      "18\n",
      "19\n"
     ]
    }
   ],
   "source": [
    "lst = range(20)\n",
    "\n",
    "for i in lst:\n",
    "    if i == 3 or i == 4:\n",
    "        print('found')\n",
    "        continue\n",
    "    print(i)"
   ]
  },
  {
   "cell_type": "code",
   "execution_count": 27,
   "id": "4bcf55d9",
   "metadata": {},
   "outputs": [
    {
     "name": "stdout",
     "output_type": "stream",
     "text": [
      "d\n"
     ]
    }
   ],
   "source": [
    "for i in 'akjdhgdjgdhhjdvh':\n",
    "    if i == 'd':\n",
    "        break\n",
    "    print(i)"
   ]
  },
  {
   "cell_type": "code",
   "execution_count": 29,
   "id": "42fc54b3",
   "metadata": {},
   "outputs": [
    {
     "name": "stdout",
     "output_type": "stream",
     "text": [
      "Roshan\n",
      "Roshan\n",
      "Roshan\n",
      "Roshan\n",
      "Roshan\n",
      "Roshan\n"
     ]
    }
   ],
   "source": [
    "count = 0\n",
    "while (count<=5):\n",
    "    print('Roshan')\n",
    "    count +=1"
   ]
  },
  {
   "cell_type": "code",
   "execution_count": 33,
   "id": "cf026d40",
   "metadata": {},
   "outputs": [
    {
     "name": "stdout",
     "output_type": "stream",
     "text": [
      "14\n",
      "13\n",
      "12\n",
      "11\n",
      "10\n",
      "9\n",
      "8\n",
      "7\n",
      "6\n",
      "5\n",
      "4\n",
      "3\n",
      "2\n",
      "1\n",
      "0\n"
     ]
    }
   ],
   "source": [
    "a = list(range(15))\n",
    "\n",
    "while a:\n",
    "    print(a.pop())"
   ]
  },
  {
   "cell_type": "code",
   "execution_count": 36,
   "id": "a2e37cb4",
   "metadata": {},
   "outputs": [
    {
     "name": "stdout",
     "output_type": "stream",
     "text": [
      "g\n",
      "e\n",
      "e\n",
      "k\n",
      "f\n",
      "o\n",
      "g\n",
      "e\n",
      "e\n",
      "k\n"
     ]
    }
   ],
   "source": [
    "i = 0\n",
    "a = 'geeksforgeeks'\n",
    "while (i<len(a)):\n",
    "    if a[i] == 's' or a[i]== 'r':\n",
    "        i = i+1\n",
    "        continue\n",
    "    print(a[i])\n",
    "    i +=1 "
   ]
  },
  {
   "cell_type": "code",
   "execution_count": null,
   "id": "2df46506",
   "metadata": {},
   "outputs": [],
   "source": [
    "# Prints all letters except 'e' and 's'\n",
    "i = 0\n",
    "a = 'geeksforgeeks'\n",
    "\n",
    "while i < len(a):\n",
    "\tif a[i] == 'e' or a[i] == 's':\n",
    "\t\ti += 1\n",
    "\t\tcontinue\n",
    "\t\t\n",
    "\tprint('Current Letter :', a[i])\n",
    "\ti += 1\n"
   ]
  },
  {
   "cell_type": "code",
   "execution_count": 43,
   "id": "2b418d67",
   "metadata": {},
   "outputs": [
    {
     "name": "stdout",
     "output_type": "stream",
     "text": [
      "1\n",
      "2\n",
      "3\n",
      "4\n",
      "No Break\n",
      "\n",
      "1\n"
     ]
    }
   ],
   "source": [
    "# Python program to demonstrate\n",
    "# while-else loop\n",
    "\n",
    "i = 0\n",
    "while i < 4:\n",
    "\ti += 1\n",
    "\tprint(i)\n",
    "else: # Executed because no break in for\n",
    "\tprint(\"No Break\\n\")\n",
    "\n",
    "i = 0\n",
    "while i < 4:\n",
    "\ti += 1\n",
    "\tprint(i)\n",
    "\tbreak\n",
    "else: # Not executed as there is a break\n",
    "\tprint(\"No Break\")\n"
   ]
  },
  {
   "cell_type": "code",
   "execution_count": 41,
   "id": "979b6510",
   "metadata": {},
   "outputs": [
    {
     "name": "stdout",
     "output_type": "stream",
     "text": [
      "1\n",
      "2\n",
      "3\n",
      "4\n",
      "no brake\n"
     ]
    }
   ],
   "source": [
    "i = 0\n",
    "\n",
    "while i< 4:\n",
    "    i +=1\n",
    "    print(i)\n",
    "else:\n",
    "    print('no brake')"
   ]
  },
  {
   "cell_type": "code",
   "execution_count": 54,
   "id": "9119405e",
   "metadata": {},
   "outputs": [
    {
     "name": "stdout",
     "output_type": "stream",
     "text": [
      "1\n"
     ]
    }
   ],
   "source": [
    "i = 0\n",
    "while i<4:\n",
    "    i += 1\n",
    "    print(i)\n",
    "    break\n",
    "else:\n",
    "    print('brake')\n",
    "    "
   ]
  },
  {
   "cell_type": "code",
   "execution_count": 47,
   "id": "471f3b88",
   "metadata": {},
   "outputs": [
    {
     "ename": "SyntaxError",
     "evalue": "invalid syntax (613832885.py, line 3)",
     "output_type": "error",
     "traceback": [
      "\u001b[1;36m  Input \u001b[1;32mIn [47]\u001b[1;36m\u001b[0m\n\u001b[1;33m    while a = -2:\u001b[0m\n\u001b[1;37m            ^\u001b[0m\n\u001b[1;31mSyntaxError\u001b[0m\u001b[1;31m:\u001b[0m invalid syntax\n"
     ]
    }
   ],
   "source": [
    "a = int(input('Enter a number (-1 to quit): '))\n",
    "\n",
    "while a != -2:\n",
    "\ta = int(input('Enter a number (-1 to quit): '))\n"
   ]
  },
  {
   "cell_type": "code",
   "execution_count": 63,
   "id": "1a80add9",
   "metadata": {},
   "outputs": [
    {
     "name": "stdout",
     "output_type": "stream",
     "text": [
      "enter the number 2\n",
      "enter number[quite for -1]2\n",
      "enter number[quite for -1]2\n",
      "enter number[quite for -1]2\n",
      "enter number[quite for -1]-1\n"
     ]
    }
   ],
   "source": [
    "a = int(input('enter the number '))\n",
    "while a!= -1:\n",
    "    a = int(input('enter number[quite for -1]'))"
   ]
  },
  {
   "cell_type": "code",
   "execution_count": 65,
   "id": "743590e5",
   "metadata": {},
   "outputs": [
    {
     "name": "stdout",
     "output_type": "stream",
     "text": [
      "enter the num1\n",
      "count is 2\n",
      "count is 3\n",
      "count is 4\n",
      "count is 5\n",
      "count is 6\n",
      "count is 7\n",
      "count is 8\n",
      "count is 9\n",
      "count is 10\n",
      "end\n"
     ]
    }
   ],
   "source": [
    "count = 0\n",
    "\n",
    "while True:\n",
    "    count += 1\n",
    "    print(f'count is {count}')\n",
    "    \n",
    "    if count == 10:\n",
    "        break\n",
    "print('end')"
   ]
  },
  {
   "cell_type": "code",
   "execution_count": null,
   "id": "653db008",
   "metadata": {},
   "outputs": [],
   "source": []
  }
 ],
 "metadata": {
  "kernelspec": {
   "display_name": "Python 3 (ipykernel)",
   "language": "python",
   "name": "python3"
  },
  "language_info": {
   "codemirror_mode": {
    "name": "ipython",
    "version": 3
   },
   "file_extension": ".py",
   "mimetype": "text/x-python",
   "name": "python",
   "nbconvert_exporter": "python",
   "pygments_lexer": "ipython3",
   "version": "3.9.12"
  }
 },
 "nbformat": 4,
 "nbformat_minor": 5
}
